{
 "cells": [
  {
   "cell_type": "code",
   "execution_count": 1,
   "metadata": {},
   "outputs": [
    {
     "data": {
      "text/plain": [
       "0       Abilio Brunini\n",
       "1       Acácio Favacho\n",
       "2          Adail Filho\n",
       "3      Adilson Barroso\n",
       "4         Adolfo Viana\n",
       "            ...       \n",
       "508           Zé Silva\n",
       "509          Zé Trovão\n",
       "510           Zé Vitor\n",
       "511        Zeca Dirceu\n",
       "512    Zezinho Barbary\n",
       "Name: nome, Length: 513, dtype: object"
      ]
     },
     "metadata": {},
     "output_type": "display_data"
    }
   ],
   "source": [
    "import pandas as pd\n",
    "import requests\n",
    "import pprint\n",
    "\n",
    "# consulta a lista de deputados federais\n",
    "response = requests.get('https://dadosabertos.camara.leg.br/api/v2/deputados')\n",
    "\n",
    "# transforma em JSON\n",
    "dados = response.json()\n",
    "\n",
    "# transforma em DataFrame com Pandas\n",
    "df_deputados = pd.DataFrame(dados['dados'])\n",
    "\n",
    "# armazena os ids dos deputados\n",
    "df_deputados_id = df_deputados['id']\n",
    "\n",
    "#armazena os nomes dos deputados\n",
    "df_deputados_nome = df_deputados['nome']\n",
    "\n",
    "display(df_deputados_nome)"
   ]
  },
  {
   "cell_type": "code",
   "execution_count": 23,
   "metadata": {},
   "outputs": [],
   "source": [
    "contador = 0\n",
    "\n",
    "# cria um DataFrame vazio\n",
    "df = pd.DataFrame()\n",
    "\n",
    "# consulta todas as despesas de todos os deputados federais\n",
    "for requisicao in range(0,512):\n",
    "    response_despesas = requests.get('https://dadosabertos.camara.leg.br/api/v2/deputados/{}/despesas?ano=2020&ano=2021&ano=2022&ano=2023&ordem=ASC&ordenarPor=ano'.format(df_deputados_id[contador]))\n",
    "    dados = response_despesas.json()\n",
    "    df_despesas = pd.DataFrame(dados['dados'])\n",
    "    df_despesas['nome_deputado'] = df_deputados_nome[contador]\n",
    "    df = pd.concat([df, df_despesas])\n",
    "    contador = contador + 1"
   ]
  },
  {
   "cell_type": "code",
   "execution_count": 93,
   "metadata": {},
   "outputs": [
    {
     "data": {
      "text/html": [
       "<div>\n",
       "<style scoped>\n",
       "    .dataframe tbody tr th:only-of-type {\n",
       "        vertical-align: middle;\n",
       "    }\n",
       "\n",
       "    .dataframe tbody tr th {\n",
       "        vertical-align: top;\n",
       "    }\n",
       "\n",
       "    .dataframe thead th {\n",
       "        text-align: right;\n",
       "    }\n",
       "</style>\n",
       "<table border=\"1\" class=\"dataframe\">\n",
       "  <thead>\n",
       "    <tr style=\"text-align: right;\">\n",
       "      <th></th>\n",
       "      <th>nome_deputado</th>\n",
       "      <th>ano</th>\n",
       "      <th>mes</th>\n",
       "      <th>tipoDespesa</th>\n",
       "      <th>codDocumento</th>\n",
       "      <th>tipoDocumento</th>\n",
       "      <th>codTipoDocumento</th>\n",
       "      <th>dataDocumento</th>\n",
       "      <th>numDocumento</th>\n",
       "      <th>valorDocumento</th>\n",
       "      <th>urlDocumento</th>\n",
       "      <th>nomeFornecedor</th>\n",
       "      <th>cnpjCpfFornecedor</th>\n",
       "      <th>valorLiquido</th>\n",
       "      <th>valorGlosa</th>\n",
       "      <th>numRessarcimento</th>\n",
       "      <th>codLote</th>\n",
       "      <th>parcela</th>\n",
       "    </tr>\n",
       "  </thead>\n",
       "  <tbody>\n",
       "    <tr>\n",
       "      <th>0</th>\n",
       "      <td>Acácio Favacho</td>\n",
       "      <td>2020.0</td>\n",
       "      <td>2.0</td>\n",
       "      <td>MANUTENÇÃO DE ESCRITÓRIO DE APOIO À ATIVIDADE ...</td>\n",
       "      <td>7018213.0</td>\n",
       "      <td>Nota Fiscal Eletrônica</td>\n",
       "      <td>4.0</td>\n",
       "      <td>2020-02-18</td>\n",
       "      <td>1790</td>\n",
       "      <td>145.00</td>\n",
       "      <td>http://www.camara.leg.br/cota-parlamentar/nota...</td>\n",
       "      <td>BEL PONTO BORDADOS E CONFECCOES LTDA</td>\n",
       "      <td>00849026000109</td>\n",
       "      <td>145.00</td>\n",
       "      <td>0.0</td>\n",
       "      <td></td>\n",
       "      <td>1678271.0</td>\n",
       "      <td>0.0</td>\n",
       "    </tr>\n",
       "    <tr>\n",
       "      <th>1</th>\n",
       "      <td>Acácio Favacho</td>\n",
       "      <td>2020.0</td>\n",
       "      <td>6.0</td>\n",
       "      <td>MANUTENÇÃO DE ESCRITÓRIO DE APOIO À ATIVIDADE ...</td>\n",
       "      <td>7065252.0</td>\n",
       "      <td>Nota Fiscal Eletrônica</td>\n",
       "      <td>4.0</td>\n",
       "      <td>2020-06-16</td>\n",
       "      <td>545</td>\n",
       "      <td>229.00</td>\n",
       "      <td>http://www.camara.leg.br/cota-parlamentar/nota...</td>\n",
       "      <td>COMERCIAL DE SERVICOS UNIAO LTDA ME</td>\n",
       "      <td>05807200000174</td>\n",
       "      <td>229.00</td>\n",
       "      <td>0.0</td>\n",
       "      <td></td>\n",
       "      <td>1702259.0</td>\n",
       "      <td>0.0</td>\n",
       "    </tr>\n",
       "    <tr>\n",
       "      <th>2</th>\n",
       "      <td>Acácio Favacho</td>\n",
       "      <td>2020.0</td>\n",
       "      <td>2.0</td>\n",
       "      <td>MANUTENÇÃO DE ESCRITÓRIO DE APOIO À ATIVIDADE ...</td>\n",
       "      <td>7031733.0</td>\n",
       "      <td>Nota Fiscal</td>\n",
       "      <td>0.0</td>\n",
       "      <td>2020-03-03</td>\n",
       "      <td>417246</td>\n",
       "      <td>268.40</td>\n",
       "      <td>https://www.camara.leg.br/cota-parlamentar/doc...</td>\n",
       "      <td>EDVALDO FRANCISCO DE OLIVEIRA</td>\n",
       "      <td>32373812000179</td>\n",
       "      <td>268.40</td>\n",
       "      <td>0.0</td>\n",
       "      <td></td>\n",
       "      <td>1684292.0</td>\n",
       "      <td>0.0</td>\n",
       "    </tr>\n",
       "    <tr>\n",
       "      <th>3</th>\n",
       "      <td>Acácio Favacho</td>\n",
       "      <td>2020.0</td>\n",
       "      <td>1.0</td>\n",
       "      <td>COMBUSTÍVEIS E LUBRIFICANTES.</td>\n",
       "      <td>6993481.0</td>\n",
       "      <td>Nota Fiscal Eletrônica</td>\n",
       "      <td>4.0</td>\n",
       "      <td>2020-01-06</td>\n",
       "      <td>479</td>\n",
       "      <td>3600.00</td>\n",
       "      <td>http://www.camara.leg.br/cota-parlamentar/nota...</td>\n",
       "      <td>A C CAMBRAIA LTDA</td>\n",
       "      <td>23068984000571</td>\n",
       "      <td>3600.00</td>\n",
       "      <td>0.0</td>\n",
       "      <td></td>\n",
       "      <td>1666719.0</td>\n",
       "      <td>0.0</td>\n",
       "    </tr>\n",
       "    <tr>\n",
       "      <th>4</th>\n",
       "      <td>Acácio Favacho</td>\n",
       "      <td>2020.0</td>\n",
       "      <td>8.0</td>\n",
       "      <td>COMBUSTÍVEIS E LUBRIFICANTES.</td>\n",
       "      <td>7090596.0</td>\n",
       "      <td>Nota Fiscal Eletrônica</td>\n",
       "      <td>4.0</td>\n",
       "      <td>2020-08-03</td>\n",
       "      <td>128126</td>\n",
       "      <td>200.02</td>\n",
       "      <td>http://www.camara.leg.br/cota-parlamentar/nota...</td>\n",
       "      <td>AUTO POSTO 306 NORTE LTDA</td>\n",
       "      <td>22398818000147</td>\n",
       "      <td>200.02</td>\n",
       "      <td>0.0</td>\n",
       "      <td></td>\n",
       "      <td>1715262.0</td>\n",
       "      <td>0.0</td>\n",
       "    </tr>\n",
       "    <tr>\n",
       "      <th>...</th>\n",
       "      <td>...</td>\n",
       "      <td>...</td>\n",
       "      <td>...</td>\n",
       "      <td>...</td>\n",
       "      <td>...</td>\n",
       "      <td>...</td>\n",
       "      <td>...</td>\n",
       "      <td>...</td>\n",
       "      <td>...</td>\n",
       "      <td>...</td>\n",
       "      <td>...</td>\n",
       "      <td>...</td>\n",
       "      <td>...</td>\n",
       "      <td>...</td>\n",
       "      <td>...</td>\n",
       "      <td>...</td>\n",
       "      <td>...</td>\n",
       "      <td>...</td>\n",
       "    </tr>\n",
       "    <tr>\n",
       "      <th>10</th>\n",
       "      <td>Zeca Dirceu</td>\n",
       "      <td>2020.0</td>\n",
       "      <td>7.0</td>\n",
       "      <td>MANUTENÇÃO DE ESCRITÓRIO DE APOIO À ATIVIDADE ...</td>\n",
       "      <td>7092392.0</td>\n",
       "      <td>Recibos/Outros</td>\n",
       "      <td>1.0</td>\n",
       "      <td>2020-07-31</td>\n",
       "      <td>sn</td>\n",
       "      <td>1300.00</td>\n",
       "      <td>https://www.camara.leg.br/cota-parlamentar/doc...</td>\n",
       "      <td>Antonio Peguim</td>\n",
       "      <td>04312880972</td>\n",
       "      <td>1300.00</td>\n",
       "      <td>0.0</td>\n",
       "      <td></td>\n",
       "      <td>1716367.0</td>\n",
       "      <td>0.0</td>\n",
       "    </tr>\n",
       "    <tr>\n",
       "      <th>11</th>\n",
       "      <td>Zeca Dirceu</td>\n",
       "      <td>2020.0</td>\n",
       "      <td>8.0</td>\n",
       "      <td>MANUTENÇÃO DE ESCRITÓRIO DE APOIO À ATIVIDADE ...</td>\n",
       "      <td>7092393.0</td>\n",
       "      <td>Recibos/Outros</td>\n",
       "      <td>1.0</td>\n",
       "      <td>2020-08-30</td>\n",
       "      <td>sn</td>\n",
       "      <td>1300.00</td>\n",
       "      <td>https://www.camara.leg.br/cota-parlamentar/doc...</td>\n",
       "      <td>Antonio Peguim</td>\n",
       "      <td>04312880972</td>\n",
       "      <td>1300.00</td>\n",
       "      <td>0.0</td>\n",
       "      <td></td>\n",
       "      <td>1716365.0</td>\n",
       "      <td>0.0</td>\n",
       "    </tr>\n",
       "    <tr>\n",
       "      <th>12</th>\n",
       "      <td>Zeca Dirceu</td>\n",
       "      <td>2020.0</td>\n",
       "      <td>1.0</td>\n",
       "      <td>MANUTENÇÃO DE ESCRITÓRIO DE APOIO À ATIVIDADE ...</td>\n",
       "      <td>7019946.0</td>\n",
       "      <td>Nota Fiscal</td>\n",
       "      <td>0.0</td>\n",
       "      <td>2020-01-24</td>\n",
       "      <td>118003178</td>\n",
       "      <td>235.28</td>\n",
       "      <td>https://www.camara.leg.br/cota-parlamentar/doc...</td>\n",
       "      <td>Copel Distribuição S.A.</td>\n",
       "      <td>04368898000106</td>\n",
       "      <td>235.28</td>\n",
       "      <td>0.0</td>\n",
       "      <td></td>\n",
       "      <td>1679618.0</td>\n",
       "      <td>0.0</td>\n",
       "    </tr>\n",
       "    <tr>\n",
       "      <th>13</th>\n",
       "      <td>Zeca Dirceu</td>\n",
       "      <td>2020.0</td>\n",
       "      <td>2.0</td>\n",
       "      <td>MANUTENÇÃO DE ESCRITÓRIO DE APOIO À ATIVIDADE ...</td>\n",
       "      <td>7044385.0</td>\n",
       "      <td>Nota Fiscal</td>\n",
       "      <td>0.0</td>\n",
       "      <td>2020-02-22</td>\n",
       "      <td>122568208</td>\n",
       "      <td>464.77</td>\n",
       "      <td>https://www.camara.leg.br/cota-parlamentar/doc...</td>\n",
       "      <td>Copel Distribuição S.A.</td>\n",
       "      <td>04368898000106</td>\n",
       "      <td>464.77</td>\n",
       "      <td>0.0</td>\n",
       "      <td></td>\n",
       "      <td>1690671.0</td>\n",
       "      <td>0.0</td>\n",
       "    </tr>\n",
       "    <tr>\n",
       "      <th>14</th>\n",
       "      <td>Zeca Dirceu</td>\n",
       "      <td>2020.0</td>\n",
       "      <td>3.0</td>\n",
       "      <td>MANUTENÇÃO DE ESCRITÓRIO DE APOIO À ATIVIDADE ...</td>\n",
       "      <td>7044386.0</td>\n",
       "      <td>Nota Fiscal</td>\n",
       "      <td>0.0</td>\n",
       "      <td>2020-03-25</td>\n",
       "      <td>127660788</td>\n",
       "      <td>514.11</td>\n",
       "      <td>https://www.camara.leg.br/cota-parlamentar/doc...</td>\n",
       "      <td>Copel Distribuição S.A.</td>\n",
       "      <td>04368898000106</td>\n",
       "      <td>514.11</td>\n",
       "      <td>0.0</td>\n",
       "      <td></td>\n",
       "      <td>1690672.0</td>\n",
       "      <td>0.0</td>\n",
       "    </tr>\n",
       "  </tbody>\n",
       "</table>\n",
       "<p>4342 rows × 18 columns</p>\n",
       "</div>"
      ],
      "text/plain": [
       "     nome_deputado     ano  mes  \\\n",
       "0   Acácio Favacho  2020.0  2.0   \n",
       "1   Acácio Favacho  2020.0  6.0   \n",
       "2   Acácio Favacho  2020.0  2.0   \n",
       "3   Acácio Favacho  2020.0  1.0   \n",
       "4   Acácio Favacho  2020.0  8.0   \n",
       "..             ...     ...  ...   \n",
       "10     Zeca Dirceu  2020.0  7.0   \n",
       "11     Zeca Dirceu  2020.0  8.0   \n",
       "12     Zeca Dirceu  2020.0  1.0   \n",
       "13     Zeca Dirceu  2020.0  2.0   \n",
       "14     Zeca Dirceu  2020.0  3.0   \n",
       "\n",
       "                                          tipoDespesa  codDocumento  \\\n",
       "0   MANUTENÇÃO DE ESCRITÓRIO DE APOIO À ATIVIDADE ...     7018213.0   \n",
       "1   MANUTENÇÃO DE ESCRITÓRIO DE APOIO À ATIVIDADE ...     7065252.0   \n",
       "2   MANUTENÇÃO DE ESCRITÓRIO DE APOIO À ATIVIDADE ...     7031733.0   \n",
       "3                       COMBUSTÍVEIS E LUBRIFICANTES.     6993481.0   \n",
       "4                       COMBUSTÍVEIS E LUBRIFICANTES.     7090596.0   \n",
       "..                                                ...           ...   \n",
       "10  MANUTENÇÃO DE ESCRITÓRIO DE APOIO À ATIVIDADE ...     7092392.0   \n",
       "11  MANUTENÇÃO DE ESCRITÓRIO DE APOIO À ATIVIDADE ...     7092393.0   \n",
       "12  MANUTENÇÃO DE ESCRITÓRIO DE APOIO À ATIVIDADE ...     7019946.0   \n",
       "13  MANUTENÇÃO DE ESCRITÓRIO DE APOIO À ATIVIDADE ...     7044385.0   \n",
       "14  MANUTENÇÃO DE ESCRITÓRIO DE APOIO À ATIVIDADE ...     7044386.0   \n",
       "\n",
       "             tipoDocumento  codTipoDocumento dataDocumento numDocumento  \\\n",
       "0   Nota Fiscal Eletrônica               4.0    2020-02-18         1790   \n",
       "1   Nota Fiscal Eletrônica               4.0    2020-06-16          545   \n",
       "2              Nota Fiscal               0.0    2020-03-03       417246   \n",
       "3   Nota Fiscal Eletrônica               4.0    2020-01-06          479   \n",
       "4   Nota Fiscal Eletrônica               4.0    2020-08-03       128126   \n",
       "..                     ...               ...           ...          ...   \n",
       "10          Recibos/Outros               1.0    2020-07-31           sn   \n",
       "11          Recibos/Outros               1.0    2020-08-30           sn   \n",
       "12             Nota Fiscal               0.0    2020-01-24    118003178   \n",
       "13             Nota Fiscal               0.0    2020-02-22    122568208   \n",
       "14             Nota Fiscal               0.0    2020-03-25    127660788   \n",
       "\n",
       "    valorDocumento                                       urlDocumento  \\\n",
       "0           145.00  http://www.camara.leg.br/cota-parlamentar/nota...   \n",
       "1           229.00  http://www.camara.leg.br/cota-parlamentar/nota...   \n",
       "2           268.40  https://www.camara.leg.br/cota-parlamentar/doc...   \n",
       "3          3600.00  http://www.camara.leg.br/cota-parlamentar/nota...   \n",
       "4           200.02  http://www.camara.leg.br/cota-parlamentar/nota...   \n",
       "..             ...                                                ...   \n",
       "10         1300.00  https://www.camara.leg.br/cota-parlamentar/doc...   \n",
       "11         1300.00  https://www.camara.leg.br/cota-parlamentar/doc...   \n",
       "12          235.28  https://www.camara.leg.br/cota-parlamentar/doc...   \n",
       "13          464.77  https://www.camara.leg.br/cota-parlamentar/doc...   \n",
       "14          514.11  https://www.camara.leg.br/cota-parlamentar/doc...   \n",
       "\n",
       "                          nomeFornecedor cnpjCpfFornecedor  valorLiquido  \\\n",
       "0   BEL PONTO BORDADOS E CONFECCOES LTDA    00849026000109        145.00   \n",
       "1    COMERCIAL DE SERVICOS UNIAO LTDA ME    05807200000174        229.00   \n",
       "2          EDVALDO FRANCISCO DE OLIVEIRA    32373812000179        268.40   \n",
       "3                      A C CAMBRAIA LTDA    23068984000571       3600.00   \n",
       "4              AUTO POSTO 306 NORTE LTDA    22398818000147        200.02   \n",
       "..                                   ...               ...           ...   \n",
       "10                        Antonio Peguim       04312880972       1300.00   \n",
       "11                        Antonio Peguim       04312880972       1300.00   \n",
       "12               Copel Distribuição S.A.    04368898000106        235.28   \n",
       "13               Copel Distribuição S.A.    04368898000106        464.77   \n",
       "14               Copel Distribuição S.A.    04368898000106        514.11   \n",
       "\n",
       "    valorGlosa numRessarcimento    codLote  parcela  \n",
       "0          0.0                   1678271.0      0.0  \n",
       "1          0.0                   1702259.0      0.0  \n",
       "2          0.0                   1684292.0      0.0  \n",
       "3          0.0                   1666719.0      0.0  \n",
       "4          0.0                   1715262.0      0.0  \n",
       "..         ...              ...        ...      ...  \n",
       "10         0.0                   1716367.0      0.0  \n",
       "11         0.0                   1716365.0      0.0  \n",
       "12         0.0                   1679618.0      0.0  \n",
       "13         0.0                   1690671.0      0.0  \n",
       "14         0.0                   1690672.0      0.0  \n",
       "\n",
       "[4342 rows x 18 columns]"
      ]
     },
     "metadata": {},
     "output_type": "display_data"
    }
   ],
   "source": [
    "display(df)"
   ]
  },
  {
   "cell_type": "code",
   "execution_count": 22,
   "metadata": {},
   "outputs": [
    {
     "data": {
      "text/html": [
       "<div>\n",
       "<style scoped>\n",
       "    .dataframe tbody tr th:only-of-type {\n",
       "        vertical-align: middle;\n",
       "    }\n",
       "\n",
       "    .dataframe tbody tr th {\n",
       "        vertical-align: top;\n",
       "    }\n",
       "\n",
       "    .dataframe thead th {\n",
       "        text-align: right;\n",
       "    }\n",
       "</style>\n",
       "<table border=\"1\" class=\"dataframe\">\n",
       "  <thead>\n",
       "    <tr style=\"text-align: right;\">\n",
       "      <th></th>\n",
       "      <th>nome_deputado</th>\n",
       "      <th>ano</th>\n",
       "      <th>mes</th>\n",
       "      <th>codDocumento</th>\n",
       "      <th>codTipoDocumento</th>\n",
       "      <th>valorDocumento</th>\n",
       "      <th>valorLiquido</th>\n",
       "      <th>valorGlosa</th>\n",
       "      <th>codLote</th>\n",
       "      <th>parcela</th>\n",
       "    </tr>\n",
       "  </thead>\n",
       "  <tbody>\n",
       "    <tr>\n",
       "      <th>279</th>\n",
       "      <td>Vicentinho Júnior</td>\n",
       "      <td>30300.0</td>\n",
       "      <td>95.0</td>\n",
       "      <td>106031310.0</td>\n",
       "      <td>56.0</td>\n",
       "      <td>365000.00</td>\n",
       "      <td>365000.00</td>\n",
       "      <td>0.00</td>\n",
       "      <td>25557144.0</td>\n",
       "      <td>0.0</td>\n",
       "    </tr>\n",
       "    <tr>\n",
       "      <th>125</th>\n",
       "      <td>Gustinho Ribeiro</td>\n",
       "      <td>30300.0</td>\n",
       "      <td>86.0</td>\n",
       "      <td>106027407.0</td>\n",
       "      <td>0.0</td>\n",
       "      <td>337200.00</td>\n",
       "      <td>337200.00</td>\n",
       "      <td>0.00</td>\n",
       "      <td>25549769.0</td>\n",
       "      <td>0.0</td>\n",
       "    </tr>\n",
       "    <tr>\n",
       "      <th>138</th>\n",
       "      <td>Jhonatan de Jesus</td>\n",
       "      <td>30300.0</td>\n",
       "      <td>71.0</td>\n",
       "      <td>105770726.0</td>\n",
       "      <td>20.0</td>\n",
       "      <td>233102.90</td>\n",
       "      <td>233102.90</td>\n",
       "      <td>0.00</td>\n",
       "      <td>25421725.0</td>\n",
       "      <td>0.0</td>\n",
       "    </tr>\n",
       "    <tr>\n",
       "      <th>263</th>\n",
       "      <td>Silas Câmara</td>\n",
       "      <td>30300.0</td>\n",
       "      <td>76.0</td>\n",
       "      <td>105992292.0</td>\n",
       "      <td>12.0</td>\n",
       "      <td>185006.39</td>\n",
       "      <td>185006.39</td>\n",
       "      <td>0.00</td>\n",
       "      <td>25537126.0</td>\n",
       "      <td>0.0</td>\n",
       "    </tr>\n",
       "    <tr>\n",
       "      <th>78</th>\n",
       "      <td>Domingos Neto</td>\n",
       "      <td>30300.0</td>\n",
       "      <td>93.0</td>\n",
       "      <td>106078064.0</td>\n",
       "      <td>0.0</td>\n",
       "      <td>180000.00</td>\n",
       "      <td>173870.99</td>\n",
       "      <td>6129.01</td>\n",
       "      <td>25579635.0</td>\n",
       "      <td>0.0</td>\n",
       "    </tr>\n",
       "    <tr>\n",
       "      <th>...</th>\n",
       "      <td>...</td>\n",
       "      <td>...</td>\n",
       "      <td>...</td>\n",
       "      <td>...</td>\n",
       "      <td>...</td>\n",
       "      <td>...</td>\n",
       "      <td>...</td>\n",
       "      <td>...</td>\n",
       "      <td>...</td>\n",
       "      <td>...</td>\n",
       "    </tr>\n",
       "    <tr>\n",
       "      <th>270</th>\n",
       "      <td>Tabata Amaral</td>\n",
       "      <td>30300.0</td>\n",
       "      <td>102.0</td>\n",
       "      <td>106268692.0</td>\n",
       "      <td>2.0</td>\n",
       "      <td>994.95</td>\n",
       "      <td>991.28</td>\n",
       "      <td>3.67</td>\n",
       "      <td>25677331.0</td>\n",
       "      <td>0.0</td>\n",
       "    </tr>\n",
       "    <tr>\n",
       "      <th>204</th>\n",
       "      <td>Miguel Lombardi</td>\n",
       "      <td>30300.0</td>\n",
       "      <td>89.0</td>\n",
       "      <td>106194888.0</td>\n",
       "      <td>0.0</td>\n",
       "      <td>680.23</td>\n",
       "      <td>670.38</td>\n",
       "      <td>9.85</td>\n",
       "      <td>25635456.0</td>\n",
       "      <td>0.0</td>\n",
       "    </tr>\n",
       "    <tr>\n",
       "      <th>86</th>\n",
       "      <td>Eduardo Bolsonaro</td>\n",
       "      <td>30300.0</td>\n",
       "      <td>64.0</td>\n",
       "      <td>105631499.0</td>\n",
       "      <td>0.0</td>\n",
       "      <td>582.61</td>\n",
       "      <td>582.61</td>\n",
       "      <td>0.00</td>\n",
       "      <td>25353571.0</td>\n",
       "      <td>0.0</td>\n",
       "    </tr>\n",
       "    <tr>\n",
       "      <th>14</th>\n",
       "      <td>Alfredinho</td>\n",
       "      <td>2023.0</td>\n",
       "      <td>1.0</td>\n",
       "      <td>0.0</td>\n",
       "      <td>1.0</td>\n",
       "      <td>467.60</td>\n",
       "      <td>467.60</td>\n",
       "      <td>0.00</td>\n",
       "      <td>0.0</td>\n",
       "      <td>0.0</td>\n",
       "    </tr>\n",
       "    <tr>\n",
       "      <th>114</th>\n",
       "      <td>Geraldo Resende</td>\n",
       "      <td>4042.0</td>\n",
       "      <td>5.0</td>\n",
       "      <td>0.0</td>\n",
       "      <td>0.0</td>\n",
       "      <td>12.34</td>\n",
       "      <td>0.26</td>\n",
       "      <td>0.00</td>\n",
       "      <td>0.0</td>\n",
       "      <td>0.0</td>\n",
       "    </tr>\n",
       "  </tbody>\n",
       "</table>\n",
       "<p>292 rows × 10 columns</p>\n",
       "</div>"
      ],
      "text/plain": [
       "         nome_deputado      ano    mes  codDocumento  codTipoDocumento  \\\n",
       "279  Vicentinho Júnior  30300.0   95.0   106031310.0              56.0   \n",
       "125   Gustinho Ribeiro  30300.0   86.0   106027407.0               0.0   \n",
       "138  Jhonatan de Jesus  30300.0   71.0   105770726.0              20.0   \n",
       "263       Silas Câmara  30300.0   76.0   105992292.0              12.0   \n",
       "78       Domingos Neto  30300.0   93.0   106078064.0               0.0   \n",
       "..                 ...      ...    ...           ...               ...   \n",
       "270      Tabata Amaral  30300.0  102.0   106268692.0               2.0   \n",
       "204    Miguel Lombardi  30300.0   89.0   106194888.0               0.0   \n",
       "86   Eduardo Bolsonaro  30300.0   64.0   105631499.0               0.0   \n",
       "14          Alfredinho   2023.0    1.0           0.0               1.0   \n",
       "114    Geraldo Resende   4042.0    5.0           0.0               0.0   \n",
       "\n",
       "     valorDocumento  valorLiquido  valorGlosa     codLote  parcela  \n",
       "279       365000.00     365000.00        0.00  25557144.0      0.0  \n",
       "125       337200.00     337200.00        0.00  25549769.0      0.0  \n",
       "138       233102.90     233102.90        0.00  25421725.0      0.0  \n",
       "263       185006.39     185006.39        0.00  25537126.0      0.0  \n",
       "78        180000.00     173870.99     6129.01  25579635.0      0.0  \n",
       "..              ...           ...         ...         ...      ...  \n",
       "270          994.95        991.28        3.67  25677331.0      0.0  \n",
       "204          680.23        670.38        9.85  25635456.0      0.0  \n",
       "86           582.61        582.61        0.00  25353571.0      0.0  \n",
       "14           467.60        467.60        0.00         0.0      0.0  \n",
       "114           12.34          0.26        0.00         0.0      0.0  \n",
       "\n",
       "[292 rows x 10 columns]"
      ]
     },
     "metadata": {},
     "output_type": "display_data"
    },
    {
     "data": {
      "application/vnd.plotly.v1+json": {
       "config": {
        "plotlyServerURL": "https://plot.ly"
       },
       "data": [
        {
         "alignmentgroup": "True",
         "hovertemplate": "valorLiquido=%{x}<br>nome_deputado=%{y}<extra></extra>",
         "legendgroup": "",
         "marker": {
          "color": "#636efa",
          "pattern": {
           "shape": ""
          }
         },
         "name": "",
         "offsetgroup": "",
         "orientation": "h",
         "showlegend": false,
         "textposition": "auto",
         "type": "bar",
         "x": [
          365000,
          337200,
          233102.9,
          185006.39,
          173870.99,
          165557.15,
          146176.15,
          137912.3,
          116564.16,
          112864.38
         ],
         "xaxis": "x",
         "y": [
          "Vicentinho Júnior",
          "Gustinho Ribeiro",
          "Jhonatan de Jesus",
          "Silas Câmara",
          "Domingos Neto",
          "Vinicius Gurgel",
          "Magda Mofatto",
          "Célio Silveira",
          "Professor Alcides",
          "Paulo Freire Costa"
         ],
         "yaxis": "y"
        }
       ],
       "layout": {
        "barmode": "relative",
        "legend": {
         "tracegroupgap": 0
        },
        "margin": {
         "t": 60
        },
        "template": {
         "data": {
          "bar": [
           {
            "error_x": {
             "color": "#2a3f5f"
            },
            "error_y": {
             "color": "#2a3f5f"
            },
            "marker": {
             "line": {
              "color": "#E5ECF6",
              "width": 0.5
             },
             "pattern": {
              "fillmode": "overlay",
              "size": 10,
              "solidity": 0.2
             }
            },
            "type": "bar"
           }
          ],
          "barpolar": [
           {
            "marker": {
             "line": {
              "color": "#E5ECF6",
              "width": 0.5
             },
             "pattern": {
              "fillmode": "overlay",
              "size": 10,
              "solidity": 0.2
             }
            },
            "type": "barpolar"
           }
          ],
          "carpet": [
           {
            "aaxis": {
             "endlinecolor": "#2a3f5f",
             "gridcolor": "white",
             "linecolor": "white",
             "minorgridcolor": "white",
             "startlinecolor": "#2a3f5f"
            },
            "baxis": {
             "endlinecolor": "#2a3f5f",
             "gridcolor": "white",
             "linecolor": "white",
             "minorgridcolor": "white",
             "startlinecolor": "#2a3f5f"
            },
            "type": "carpet"
           }
          ],
          "choropleth": [
           {
            "colorbar": {
             "outlinewidth": 0,
             "ticks": ""
            },
            "type": "choropleth"
           }
          ],
          "contour": [
           {
            "colorbar": {
             "outlinewidth": 0,
             "ticks": ""
            },
            "colorscale": [
             [
              0,
              "#0d0887"
             ],
             [
              0.1111111111111111,
              "#46039f"
             ],
             [
              0.2222222222222222,
              "#7201a8"
             ],
             [
              0.3333333333333333,
              "#9c179e"
             ],
             [
              0.4444444444444444,
              "#bd3786"
             ],
             [
              0.5555555555555556,
              "#d8576b"
             ],
             [
              0.6666666666666666,
              "#ed7953"
             ],
             [
              0.7777777777777778,
              "#fb9f3a"
             ],
             [
              0.8888888888888888,
              "#fdca26"
             ],
             [
              1,
              "#f0f921"
             ]
            ],
            "type": "contour"
           }
          ],
          "contourcarpet": [
           {
            "colorbar": {
             "outlinewidth": 0,
             "ticks": ""
            },
            "type": "contourcarpet"
           }
          ],
          "heatmap": [
           {
            "colorbar": {
             "outlinewidth": 0,
             "ticks": ""
            },
            "colorscale": [
             [
              0,
              "#0d0887"
             ],
             [
              0.1111111111111111,
              "#46039f"
             ],
             [
              0.2222222222222222,
              "#7201a8"
             ],
             [
              0.3333333333333333,
              "#9c179e"
             ],
             [
              0.4444444444444444,
              "#bd3786"
             ],
             [
              0.5555555555555556,
              "#d8576b"
             ],
             [
              0.6666666666666666,
              "#ed7953"
             ],
             [
              0.7777777777777778,
              "#fb9f3a"
             ],
             [
              0.8888888888888888,
              "#fdca26"
             ],
             [
              1,
              "#f0f921"
             ]
            ],
            "type": "heatmap"
           }
          ],
          "heatmapgl": [
           {
            "colorbar": {
             "outlinewidth": 0,
             "ticks": ""
            },
            "colorscale": [
             [
              0,
              "#0d0887"
             ],
             [
              0.1111111111111111,
              "#46039f"
             ],
             [
              0.2222222222222222,
              "#7201a8"
             ],
             [
              0.3333333333333333,
              "#9c179e"
             ],
             [
              0.4444444444444444,
              "#bd3786"
             ],
             [
              0.5555555555555556,
              "#d8576b"
             ],
             [
              0.6666666666666666,
              "#ed7953"
             ],
             [
              0.7777777777777778,
              "#fb9f3a"
             ],
             [
              0.8888888888888888,
              "#fdca26"
             ],
             [
              1,
              "#f0f921"
             ]
            ],
            "type": "heatmapgl"
           }
          ],
          "histogram": [
           {
            "marker": {
             "pattern": {
              "fillmode": "overlay",
              "size": 10,
              "solidity": 0.2
             }
            },
            "type": "histogram"
           }
          ],
          "histogram2d": [
           {
            "colorbar": {
             "outlinewidth": 0,
             "ticks": ""
            },
            "colorscale": [
             [
              0,
              "#0d0887"
             ],
             [
              0.1111111111111111,
              "#46039f"
             ],
             [
              0.2222222222222222,
              "#7201a8"
             ],
             [
              0.3333333333333333,
              "#9c179e"
             ],
             [
              0.4444444444444444,
              "#bd3786"
             ],
             [
              0.5555555555555556,
              "#d8576b"
             ],
             [
              0.6666666666666666,
              "#ed7953"
             ],
             [
              0.7777777777777778,
              "#fb9f3a"
             ],
             [
              0.8888888888888888,
              "#fdca26"
             ],
             [
              1,
              "#f0f921"
             ]
            ],
            "type": "histogram2d"
           }
          ],
          "histogram2dcontour": [
           {
            "colorbar": {
             "outlinewidth": 0,
             "ticks": ""
            },
            "colorscale": [
             [
              0,
              "#0d0887"
             ],
             [
              0.1111111111111111,
              "#46039f"
             ],
             [
              0.2222222222222222,
              "#7201a8"
             ],
             [
              0.3333333333333333,
              "#9c179e"
             ],
             [
              0.4444444444444444,
              "#bd3786"
             ],
             [
              0.5555555555555556,
              "#d8576b"
             ],
             [
              0.6666666666666666,
              "#ed7953"
             ],
             [
              0.7777777777777778,
              "#fb9f3a"
             ],
             [
              0.8888888888888888,
              "#fdca26"
             ],
             [
              1,
              "#f0f921"
             ]
            ],
            "type": "histogram2dcontour"
           }
          ],
          "mesh3d": [
           {
            "colorbar": {
             "outlinewidth": 0,
             "ticks": ""
            },
            "type": "mesh3d"
           }
          ],
          "parcoords": [
           {
            "line": {
             "colorbar": {
              "outlinewidth": 0,
              "ticks": ""
             }
            },
            "type": "parcoords"
           }
          ],
          "pie": [
           {
            "automargin": true,
            "type": "pie"
           }
          ],
          "scatter": [
           {
            "fillpattern": {
             "fillmode": "overlay",
             "size": 10,
             "solidity": 0.2
            },
            "type": "scatter"
           }
          ],
          "scatter3d": [
           {
            "line": {
             "colorbar": {
              "outlinewidth": 0,
              "ticks": ""
             }
            },
            "marker": {
             "colorbar": {
              "outlinewidth": 0,
              "ticks": ""
             }
            },
            "type": "scatter3d"
           }
          ],
          "scattercarpet": [
           {
            "marker": {
             "colorbar": {
              "outlinewidth": 0,
              "ticks": ""
             }
            },
            "type": "scattercarpet"
           }
          ],
          "scattergeo": [
           {
            "marker": {
             "colorbar": {
              "outlinewidth": 0,
              "ticks": ""
             }
            },
            "type": "scattergeo"
           }
          ],
          "scattergl": [
           {
            "marker": {
             "colorbar": {
              "outlinewidth": 0,
              "ticks": ""
             }
            },
            "type": "scattergl"
           }
          ],
          "scattermapbox": [
           {
            "marker": {
             "colorbar": {
              "outlinewidth": 0,
              "ticks": ""
             }
            },
            "type": "scattermapbox"
           }
          ],
          "scatterpolar": [
           {
            "marker": {
             "colorbar": {
              "outlinewidth": 0,
              "ticks": ""
             }
            },
            "type": "scatterpolar"
           }
          ],
          "scatterpolargl": [
           {
            "marker": {
             "colorbar": {
              "outlinewidth": 0,
              "ticks": ""
             }
            },
            "type": "scatterpolargl"
           }
          ],
          "scatterternary": [
           {
            "marker": {
             "colorbar": {
              "outlinewidth": 0,
              "ticks": ""
             }
            },
            "type": "scatterternary"
           }
          ],
          "surface": [
           {
            "colorbar": {
             "outlinewidth": 0,
             "ticks": ""
            },
            "colorscale": [
             [
              0,
              "#0d0887"
             ],
             [
              0.1111111111111111,
              "#46039f"
             ],
             [
              0.2222222222222222,
              "#7201a8"
             ],
             [
              0.3333333333333333,
              "#9c179e"
             ],
             [
              0.4444444444444444,
              "#bd3786"
             ],
             [
              0.5555555555555556,
              "#d8576b"
             ],
             [
              0.6666666666666666,
              "#ed7953"
             ],
             [
              0.7777777777777778,
              "#fb9f3a"
             ],
             [
              0.8888888888888888,
              "#fdca26"
             ],
             [
              1,
              "#f0f921"
             ]
            ],
            "type": "surface"
           }
          ],
          "table": [
           {
            "cells": {
             "fill": {
              "color": "#EBF0F8"
             },
             "line": {
              "color": "white"
             }
            },
            "header": {
             "fill": {
              "color": "#C8D4E3"
             },
             "line": {
              "color": "white"
             }
            },
            "type": "table"
           }
          ]
         },
         "layout": {
          "annotationdefaults": {
           "arrowcolor": "#2a3f5f",
           "arrowhead": 0,
           "arrowwidth": 1
          },
          "autotypenumbers": "strict",
          "coloraxis": {
           "colorbar": {
            "outlinewidth": 0,
            "ticks": ""
           }
          },
          "colorscale": {
           "diverging": [
            [
             0,
             "#8e0152"
            ],
            [
             0.1,
             "#c51b7d"
            ],
            [
             0.2,
             "#de77ae"
            ],
            [
             0.3,
             "#f1b6da"
            ],
            [
             0.4,
             "#fde0ef"
            ],
            [
             0.5,
             "#f7f7f7"
            ],
            [
             0.6,
             "#e6f5d0"
            ],
            [
             0.7,
             "#b8e186"
            ],
            [
             0.8,
             "#7fbc41"
            ],
            [
             0.9,
             "#4d9221"
            ],
            [
             1,
             "#276419"
            ]
           ],
           "sequential": [
            [
             0,
             "#0d0887"
            ],
            [
             0.1111111111111111,
             "#46039f"
            ],
            [
             0.2222222222222222,
             "#7201a8"
            ],
            [
             0.3333333333333333,
             "#9c179e"
            ],
            [
             0.4444444444444444,
             "#bd3786"
            ],
            [
             0.5555555555555556,
             "#d8576b"
            ],
            [
             0.6666666666666666,
             "#ed7953"
            ],
            [
             0.7777777777777778,
             "#fb9f3a"
            ],
            [
             0.8888888888888888,
             "#fdca26"
            ],
            [
             1,
             "#f0f921"
            ]
           ],
           "sequentialminus": [
            [
             0,
             "#0d0887"
            ],
            [
             0.1111111111111111,
             "#46039f"
            ],
            [
             0.2222222222222222,
             "#7201a8"
            ],
            [
             0.3333333333333333,
             "#9c179e"
            ],
            [
             0.4444444444444444,
             "#bd3786"
            ],
            [
             0.5555555555555556,
             "#d8576b"
            ],
            [
             0.6666666666666666,
             "#ed7953"
            ],
            [
             0.7777777777777778,
             "#fb9f3a"
            ],
            [
             0.8888888888888888,
             "#fdca26"
            ],
            [
             1,
             "#f0f921"
            ]
           ]
          },
          "colorway": [
           "#636efa",
           "#EF553B",
           "#00cc96",
           "#ab63fa",
           "#FFA15A",
           "#19d3f3",
           "#FF6692",
           "#B6E880",
           "#FF97FF",
           "#FECB52"
          ],
          "font": {
           "color": "#2a3f5f"
          },
          "geo": {
           "bgcolor": "white",
           "lakecolor": "white",
           "landcolor": "#E5ECF6",
           "showlakes": true,
           "showland": true,
           "subunitcolor": "white"
          },
          "hoverlabel": {
           "align": "left"
          },
          "hovermode": "closest",
          "mapbox": {
           "style": "light"
          },
          "paper_bgcolor": "white",
          "plot_bgcolor": "#E5ECF6",
          "polar": {
           "angularaxis": {
            "gridcolor": "white",
            "linecolor": "white",
            "ticks": ""
           },
           "bgcolor": "#E5ECF6",
           "radialaxis": {
            "gridcolor": "white",
            "linecolor": "white",
            "ticks": ""
           }
          },
          "scene": {
           "xaxis": {
            "backgroundcolor": "#E5ECF6",
            "gridcolor": "white",
            "gridwidth": 2,
            "linecolor": "white",
            "showbackground": true,
            "ticks": "",
            "zerolinecolor": "white"
           },
           "yaxis": {
            "backgroundcolor": "#E5ECF6",
            "gridcolor": "white",
            "gridwidth": 2,
            "linecolor": "white",
            "showbackground": true,
            "ticks": "",
            "zerolinecolor": "white"
           },
           "zaxis": {
            "backgroundcolor": "#E5ECF6",
            "gridcolor": "white",
            "gridwidth": 2,
            "linecolor": "white",
            "showbackground": true,
            "ticks": "",
            "zerolinecolor": "white"
           }
          },
          "shapedefaults": {
           "line": {
            "color": "#2a3f5f"
           }
          },
          "ternary": {
           "aaxis": {
            "gridcolor": "white",
            "linecolor": "white",
            "ticks": ""
           },
           "baxis": {
            "gridcolor": "white",
            "linecolor": "white",
            "ticks": ""
           },
           "bgcolor": "#E5ECF6",
           "caxis": {
            "gridcolor": "white",
            "linecolor": "white",
            "ticks": ""
           }
          },
          "title": {
           "x": 0.05
          },
          "xaxis": {
           "automargin": true,
           "gridcolor": "white",
           "linecolor": "white",
           "ticks": "",
           "title": {
            "standoff": 15
           },
           "zerolinecolor": "white",
           "zerolinewidth": 2
          },
          "yaxis": {
           "automargin": true,
           "gridcolor": "white",
           "linecolor": "white",
           "ticks": "",
           "title": {
            "standoff": 15
           },
           "zerolinecolor": "white",
           "zerolinewidth": 2
          }
         }
        },
        "xaxis": {
         "anchor": "y",
         "domain": [
          0,
          1
         ],
         "title": {
          "text": "valorLiquido"
         }
        },
        "yaxis": {
         "anchor": "x",
         "autorange": "reversed",
         "domain": [
          0,
          1
         ],
         "title": {
          "text": "nome_deputado"
         }
        }
       }
      }
     },
     "metadata": {},
     "output_type": "display_data"
    }
   ],
   "source": [
    "# importando biblioteca para desenvolvimento dos gráficos\n",
    "import plotly.express as px\n",
    "\n",
    "# agrupa os dados por nome de deputado\n",
    "df_despesas_por_deputados = df.groupby(['nome_deputado']).sum().reset_index()\n",
    "\n",
    "# classifica os dados pela soma do valor líquido das despesas\n",
    "df_despesas_por_top_5_deputados = df_despesas_por_deputados.sort_values('valorLiquido', ascending = False)\n",
    "display(df_despesas_por_top_5_deputados)\n",
    "\n",
    "# desenvolvimento do gráfico\n",
    "fig = px.bar(df_despesas_por_top_5_deputados.head(10), x = 'valorLiquido', y = 'nome_deputado')\n",
    "fig.update_layout(yaxis_autorange = 'reversed')\n",
    "fig.show()"
   ]
  }
 ],
 "metadata": {
  "kernelspec": {
   "display_name": "base",
   "language": "python",
   "name": "python3"
  },
  "language_info": {
   "codemirror_mode": {
    "name": "ipython",
    "version": 3
   },
   "file_extension": ".py",
   "mimetype": "text/x-python",
   "name": "python",
   "nbconvert_exporter": "python",
   "pygments_lexer": "ipython3",
   "version": "3.9.13"
  },
  "orig_nbformat": 4,
  "vscode": {
   "interpreter": {
    "hash": "72ea4cb7ac67c66e5bc1785d98641c1094fc7f5c84dc1fff8f88c4d0657f4704"
   }
  }
 },
 "nbformat": 4,
 "nbformat_minor": 2
}
