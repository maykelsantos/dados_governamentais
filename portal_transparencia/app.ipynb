{
 "cells": [
  {
   "cell_type": "code",
   "execution_count": 1,
   "metadata": {},
   "outputs": [],
   "source": [
    "# importando bibliotecas necessárias\n",
    "\n",
    "import requests\n",
    "import pandas as pd\n",
    "import pprint"
   ]
  },
  {
   "cell_type": "code",
   "execution_count": 2,
   "metadata": {},
   "outputs": [],
   "source": [
    "# dados importantes\n",
    "\n",
    "headers = {\n",
    "    'Content-Type': 'application/json',\n",
    "    'chave-api-dados': '249d215e1b35a32d5f9e0f90aadc9052'\n",
    "}"
   ]
  },
  {
   "cell_type": "code",
   "execution_count": 50,
   "metadata": {},
   "outputs": [],
   "source": [
    "# consultando as informações do órgãos siafi 'os'\n",
    "\n",
    "pagina_os = 1\n",
    "sem_dados_os = '[]'\n",
    "df_os = pd.DataFrame()\n",
    "\n",
    "response_os = requests.get('https://api.portaldatransparencia.gov.br/api-de-dados/orgaos-siafi?pagina={}'.format(pagina_os), \n",
    "                                headers = headers)\n",
    "dados_os = response_os.json()\n",
    "\n",
    "while response_os.text != sem_dados_os:\n",
    "        response_os = requests.get('https://api.portaldatransparencia.gov.br/api-de-dados/orgaos-siafi?pagina={}'.format(pagina_os), \n",
    "                                        headers = headers)\n",
    "        dados_os = response_os.json()\n",
    "        df_consulta_os = pd.DataFrame(dados_os)\n",
    "        df_os = pd.concat([df_os, df_consulta_os])\n",
    "        pagina_os = pagina_os + 1\n",
    "\n",
    "df_orgaos_siafi = df_os.reset_index()    \n",
    "df_orgaos_siafi.to_csv('orgaos_siafi.csv', index = False)\n",
    "\n",
    "\n"
   ]
  },
  {
   "cell_type": "code",
   "execution_count": 43,
   "metadata": {},
   "outputs": [
    {
     "data": {
      "text/plain": [
       "0      01000\n",
       "1      01901\n",
       "2      02000\n",
       "3      02001\n",
       "4      02002\n",
       "       ...  \n",
       "587    97120\n",
       "588    97220\n",
       "589    97320\n",
       "590    97400\n",
       "591    99900\n",
       "Name: codigo, Length: 592, dtype: object"
      ]
     },
     "metadata": {},
     "output_type": "display_data"
    }
   ],
   "source": [
    "# lista dos códigos dos órgãos\n",
    "df_codigos_orgaos_siafi = df_orgaos_siafi['codigo']\n",
    "\n",
    "# lista dos nomes dos órgãos\n",
    "df_nomes_orgaos_siafi = df_orgaos_siafi['descricao']\n",
    "display(df_codigos_orgaos_siafi)"
   ]
  },
  {
   "cell_type": "code",
   "execution_count": null,
   "metadata": {},
   "outputs": [],
   "source": [
    "# consultando dados das notas fiscais por orgão 'nfpo'\n",
    "pagina_nfpo = 1\n",
    "contador = 0\n",
    "sem_dados_nfpo = '[]'\n",
    "df_nfpo = pd.DataFrame()\n",
    "\n",
    "while df_codigos_orgaos_siafi[contador] != KeyError:\n",
    "    response_nfpo = requests.get('https://api.portaldatransparencia.gov.br/api-de-dados/notas-fiscais?codigoOrgao={}&pagina={}'.format(df_codigos_orgaos_siafi[contador], pagina_nfpo), headers =  headers)\n",
    "    \n",
    "    if response_nfpo.text != sem_dados_nfpo:\n",
    "        print('Consultando dados do órgão {} na página de nº {}'.format(df_nomes_orgaos_siafi[contador], pagina_nfpo))\n",
    "        dados_nfpo = response_nfpo.json()\n",
    "        df_nf_por_orgao = pd.DataFrame(dados_nfpo)\n",
    "        df_nfpo = pd.concat([df_nfpo, df_nf_por_orgao])\n",
    "        df_nfpo.reset_index()\n",
    "        pagina_nfpo = pagina_nfpo + 1\n",
    "    else:\n",
    "        pagina_nfpo = 1\n",
    "        contador = contador + 1\n",
    "        \n",
    "display(df_nfpo)\n",
    "        "
   ]
  }
 ],
 "metadata": {
  "kernelspec": {
   "display_name": "base",
   "language": "python",
   "name": "python3"
  },
  "language_info": {
   "codemirror_mode": {
    "name": "ipython",
    "version": 3
   },
   "file_extension": ".py",
   "mimetype": "text/x-python",
   "name": "python",
   "nbconvert_exporter": "python",
   "pygments_lexer": "ipython3",
   "version": "3.9.13"
  },
  "orig_nbformat": 4,
  "vscode": {
   "interpreter": {
    "hash": "72ea4cb7ac67c66e5bc1785d98641c1094fc7f5c84dc1fff8f88c4d0657f4704"
   }
  }
 },
 "nbformat": 4,
 "nbformat_minor": 2
}
