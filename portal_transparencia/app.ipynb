{
 "cells": [
  {
   "cell_type": "code",
   "execution_count": 29,
   "metadata": {},
   "outputs": [
    {
     "data": {
      "text/plain": [
       "0       Abilio Brunini\n",
       "1       Acácio Favacho\n",
       "2          Adail Filho\n",
       "3      Adilson Barroso\n",
       "4         Adolfo Viana\n",
       "            ...       \n",
       "507           Zé Silva\n",
       "508          Zé Trovão\n",
       "509           Zé Vitor\n",
       "510        Zeca Dirceu\n",
       "511    Zezinho Barbary\n",
       "Name: nome, Length: 512, dtype: object"
      ]
     },
     "metadata": {},
     "output_type": "display_data"
    }
   ],
   "source": [
    "import pandas as pd\n",
    "import requests\n",
    "import pprint\n",
    "\n",
    "response = requests.get('https://dadosabertos.camara.leg.br/api/v2/deputados')\n",
    "dados = response.json()\n",
    "df_deputados = pd.DataFrame(dados['dados'])\n",
    "df_deputados_id = df_deputados['id']\n",
    "df_deputados_nome = df_deputados['nome']\n",
    "display(df_deputados_nome)"
   ]
  },
  {
   "cell_type": "code",
   "execution_count": 92,
   "metadata": {},
   "outputs": [
    {
     "name": "stdout",
     "output_type": "stream",
     "text": [
      "Carregando as despesas do deputado Abilio Brunini [...]\n",
      "Despesas do deputado Abilio Brunini adicionado aos dados para análise!\n",
      "Carregando as despesas do deputado Acácio Favacho [...]\n",
      "Despesas do deputado Acácio Favacho adicionado aos dados para análise!\n",
      "Carregando as despesas do deputado Adail Filho [...]\n",
      "Despesas do deputado Adail Filho adicionado aos dados para análise!\n",
      "Carregando as despesas do deputado Adilson Barroso [...]\n",
      "Despesas do deputado Adilson Barroso adicionado aos dados para análise!\n",
      "Carregando as despesas do deputado Adolfo Viana [...]\n",
      "Despesas do deputado Adolfo Viana adicionado aos dados para análise!\n",
      "Carregando as despesas do deputado Adriana Ventura [...]\n",
      "Despesas do deputado Adriana Ventura adicionado aos dados para análise!\n",
      "Carregando as despesas do deputado Adriano do Baldy [...]\n",
      "Despesas do deputado Adriano do Baldy adicionado aos dados para análise!\n",
      "Carregando as despesas do deputado Aécio Neves [...]\n",
      "Despesas do deputado Aécio Neves adicionado aos dados para análise!\n",
      "Carregando as despesas do deputado Afonso Hamm [...]\n",
      "Despesas do deputado Afonso Hamm adicionado aos dados para análise!\n",
      "Carregando as despesas do deputado Afonso Motta [...]\n",
      "Despesas do deputado Afonso Motta adicionado aos dados para análise!\n",
      "Carregando as despesas do deputado Aguinaldo Ribeiro [...]\n",
      "Despesas do deputado Aguinaldo Ribeiro adicionado aos dados para análise!\n",
      "Carregando as despesas do deputado Airton Faleiro [...]\n",
      "Despesas do deputado Airton Faleiro adicionado aos dados para análise!\n",
      "Carregando as despesas do deputado AJ Albuquerque [...]\n",
      "Despesas do deputado AJ Albuquerque adicionado aos dados para análise!\n",
      "Carregando as despesas do deputado Alberto Fraga [...]\n",
      "Despesas do deputado Alberto Fraga adicionado aos dados para análise!\n",
      "Carregando as despesas do deputado Alberto Mourão [...]\n",
      "Despesas do deputado Alberto Mourão adicionado aos dados para análise!\n",
      "Carregando as despesas do deputado Albuquerque [...]\n",
      "Despesas do deputado Albuquerque adicionado aos dados para análise!\n",
      "Carregando as despesas do deputado Alceu Moreira [...]\n",
      "Despesas do deputado Alceu Moreira adicionado aos dados para análise!\n",
      "Carregando as despesas do deputado Alencar Santana [...]\n",
      "Despesas do deputado Alencar Santana adicionado aos dados para análise!\n",
      "Carregando as despesas do deputado Alex Manente [...]\n",
      "Despesas do deputado Alex Manente adicionado aos dados para análise!\n",
      "Carregando as despesas do deputado Alex Santana [...]\n",
      "Despesas do deputado Alex Santana adicionado aos dados para análise!\n",
      "Carregando as despesas do deputado Alexandre Guimarães [...]\n",
      "Despesas do deputado Alexandre Guimarães adicionado aos dados para análise!\n",
      "Carregando as despesas do deputado Alexandre Leite [...]\n",
      "Despesas do deputado Alexandre Leite adicionado aos dados para análise!\n",
      "Carregando as despesas do deputado Alexandre Lindenmeyer [...]\n",
      "Despesas do deputado Alexandre Lindenmeyer adicionado aos dados para análise!\n",
      "Carregando as despesas do deputado Alfredinho [...]\n",
      "Despesas do deputado Alfredinho adicionado aos dados para análise!\n",
      "Carregando as despesas do deputado Alfredo Gaspar [...]\n",
      "Despesas do deputado Alfredo Gaspar adicionado aos dados para análise!\n",
      "Carregando as despesas do deputado Alice Portugal [...]\n",
      "Despesas do deputado Alice Portugal adicionado aos dados para análise!\n",
      "Carregando as despesas do deputado Aliel Machado [...]\n",
      "Despesas do deputado Aliel Machado adicionado aos dados para análise!\n",
      "Carregando as despesas do deputado Altineu Côrtes [...]\n",
      "Despesas do deputado Altineu Côrtes adicionado aos dados para análise!\n",
      "Carregando as despesas do deputado Aluisio Mendes [...]\n",
      "Despesas do deputado Aluisio Mendes adicionado aos dados para análise!\n",
      "Carregando as despesas do deputado Amália Barros [...]\n",
      "Despesas do deputado Amália Barros adicionado aos dados para análise!\n",
      "Carregando as despesas do deputado Amanda Gentil [...]\n",
      "Despesas do deputado Amanda Gentil adicionado aos dados para análise!\n",
      "Carregando as despesas do deputado Amaro Neto [...]\n",
      "Despesas do deputado Amaro Neto adicionado aos dados para análise!\n",
      "Carregando as despesas do deputado Amom Mandel [...]\n",
      "Despesas do deputado Amom Mandel adicionado aos dados para análise!\n",
      "Carregando as despesas do deputado Ana Paula Leão [...]\n",
      "Despesas do deputado Ana Paula Leão adicionado aos dados para análise!\n",
      "Carregando as despesas do deputado Ana Paula Lima [...]\n",
      "Despesas do deputado Ana Paula Lima adicionado aos dados para análise!\n",
      "Carregando as despesas do deputado Ana Pimentel [...]\n",
      "Despesas do deputado Ana Pimentel adicionado aos dados para análise!\n",
      "Carregando as despesas do deputado André Fernandes [...]\n",
      "Despesas do deputado André Fernandes adicionado aos dados para análise!\n",
      "Carregando as despesas do deputado André Ferreira [...]\n",
      "Despesas do deputado André Ferreira adicionado aos dados para análise!\n",
      "Carregando as despesas do deputado André Figueiredo [...]\n",
      "Despesas do deputado André Figueiredo adicionado aos dados para análise!\n",
      "Carregando as despesas do deputado André Fufuca [...]\n",
      "Despesas do deputado André Fufuca adicionado aos dados para análise!\n",
      "Carregando as despesas do deputado André Janones [...]\n",
      "Despesas do deputado André Janones adicionado aos dados para análise!\n",
      "Carregando as despesas do deputado Andreia Siqueira [...]\n",
      "Despesas do deputado Andreia Siqueira adicionado aos dados para análise!\n",
      "Carregando as despesas do deputado Antônia Lúcia [...]\n",
      "Despesas do deputado Antônia Lúcia adicionado aos dados para análise!\n",
      "Carregando as despesas do deputado Antonio Andrade [...]\n",
      "Despesas do deputado Antonio Andrade adicionado aos dados para análise!\n",
      "Carregando as despesas do deputado Antonio Brito [...]\n",
      "Despesas do deputado Antonio Brito adicionado aos dados para análise!\n",
      "Carregando as despesas do deputado Antonio Carlos Rodrigues [...]\n",
      "Despesas do deputado Antonio Carlos Rodrigues adicionado aos dados para análise!\n",
      "Carregando as despesas do deputado Antonio Doido [...]\n",
      "Despesas do deputado Antonio Doido adicionado aos dados para análise!\n",
      "Carregando as despesas do deputado Any Ortiz [...]\n",
      "Despesas do deputado Any Ortiz adicionado aos dados para análise!\n",
      "Carregando as despesas do deputado Arlindo Chinaglia [...]\n",
      "Despesas do deputado Arlindo Chinaglia adicionado aos dados para análise!\n",
      "Carregando as despesas do deputado Arnaldo Jardim [...]\n",
      "Despesas do deputado Arnaldo Jardim adicionado aos dados para análise!\n",
      "Carregando as despesas do deputado Arthur Lira [...]\n",
      "Despesas do deputado Arthur Lira adicionado aos dados para análise!\n",
      "Carregando as despesas do deputado Arthur Oliveira Maia [...]\n",
      "Despesas do deputado Arthur Oliveira Maia adicionado aos dados para análise!\n",
      "Carregando as despesas do deputado Átila Lins [...]\n",
      "Despesas do deputado Átila Lins adicionado aos dados para análise!\n",
      "Carregando as despesas do deputado Átila Lira [...]\n",
      "Despesas do deputado Átila Lira adicionado aos dados para análise!\n",
      "Carregando as despesas do deputado Augusto Coutinho [...]\n",
      "Despesas do deputado Augusto Coutinho adicionado aos dados para análise!\n",
      "Carregando as despesas do deputado Augusto Pupio [...]\n",
      "Despesas do deputado Augusto Pupio adicionado aos dados para análise!\n",
      "Carregando as despesas do deputado Aureo Ribeiro [...]\n",
      "Despesas do deputado Aureo Ribeiro adicionado aos dados para análise!\n",
      "Carregando as despesas do deputado Bacelar [...]\n",
      "Despesas do deputado Bacelar adicionado aos dados para análise!\n",
      "Carregando as despesas do deputado Baleia Rossi [...]\n",
      "Despesas do deputado Baleia Rossi adicionado aos dados para análise!\n",
      "Carregando as despesas do deputado Bandeira de Mello [...]\n",
      "Despesas do deputado Bandeira de Mello adicionado aos dados para análise!\n",
      "Carregando as despesas do deputado Bebeto [...]\n",
      "Despesas do deputado Bebeto adicionado aos dados para análise!\n",
      "Carregando as despesas do deputado Benedita da Silva [...]\n",
      "Despesas do deputado Benedita da Silva adicionado aos dados para análise!\n",
      "Carregando as despesas do deputado Benes Leocádio [...]\n",
      "Despesas do deputado Benes Leocádio adicionado aos dados para análise!\n",
      "Carregando as despesas do deputado Beto Pereira [...]\n",
      "Despesas do deputado Beto Pereira adicionado aos dados para análise!\n",
      "Carregando as despesas do deputado Beto Preto [...]\n",
      "Despesas do deputado Beto Preto adicionado aos dados para análise!\n",
      "Carregando as despesas do deputado Beto Richa [...]\n",
      "Despesas do deputado Beto Richa adicionado aos dados para análise!\n",
      "Carregando as despesas do deputado Bia Kicis [...]\n",
      "Despesas do deputado Bia Kicis adicionado aos dados para análise!\n",
      "Carregando as despesas do deputado Bibo Nunes [...]\n",
      "Despesas do deputado Bibo Nunes adicionado aos dados para análise!\n",
      "Carregando as despesas do deputado Bohn Gass [...]\n",
      "Despesas do deputado Bohn Gass adicionado aos dados para análise!\n",
      "Carregando as despesas do deputado Bruno Farias [...]\n",
      "Despesas do deputado Bruno Farias adicionado aos dados para análise!\n",
      "Carregando as despesas do deputado Bruno Ganem [...]\n",
      "Despesas do deputado Bruno Ganem adicionado aos dados para análise!\n",
      "Carregando as despesas do deputado Cabo Gilberto Silva [...]\n",
      "Despesas do deputado Cabo Gilberto Silva adicionado aos dados para análise!\n",
      "Carregando as despesas do deputado Camila Jara [...]\n",
      "Despesas do deputado Camila Jara adicionado aos dados para análise!\n",
      "Carregando as despesas do deputado Capitão Alberto Neto [...]\n",
      "Despesas do deputado Capitão Alberto Neto adicionado aos dados para análise!\n",
      "Carregando as despesas do deputado Capitão Alden [...]\n",
      "Despesas do deputado Capitão Alden adicionado aos dados para análise!\n",
      "Carregando as despesas do deputado Capitão Augusto [...]\n",
      "Despesas do deputado Capitão Augusto adicionado aos dados para análise!\n",
      "Carregando as despesas do deputado Carla Zambelli [...]\n",
      "Despesas do deputado Carla Zambelli adicionado aos dados para análise!\n",
      "Carregando as despesas do deputado Carlos Chiodini [...]\n",
      "Despesas do deputado Carlos Chiodini adicionado aos dados para análise!\n",
      "Carregando as despesas do deputado Carlos Gomes [...]\n",
      "Despesas do deputado Carlos Gomes adicionado aos dados para análise!\n",
      "Carregando as despesas do deputado Carlos Henrique Gaguim [...]\n",
      "Despesas do deputado Carlos Henrique Gaguim adicionado aos dados para análise!\n",
      "Carregando as despesas do deputado Carlos Jordy [...]\n",
      "Despesas do deputado Carlos Jordy adicionado aos dados para análise!\n",
      "Carregando as despesas do deputado Carlos Sampaio [...]\n",
      "Despesas do deputado Carlos Sampaio adicionado aos dados para análise!\n",
      "Carregando as despesas do deputado Carlos Veras [...]\n",
      "Despesas do deputado Carlos Veras adicionado aos dados para análise!\n",
      "Carregando as despesas do deputado Carlos Zarattini [...]\n",
      "Despesas do deputado Carlos Zarattini adicionado aos dados para análise!\n",
      "Carregando as despesas do deputado Carol Dartora [...]\n",
      "Despesas do deputado Carol Dartora adicionado aos dados para análise!\n",
      "Carregando as despesas do deputado Caroline de Toni [...]\n",
      "Despesas do deputado Caroline de Toni adicionado aos dados para análise!\n",
      "Carregando as despesas do deputado Castro Neto [...]\n",
      "Despesas do deputado Castro Neto adicionado aos dados para análise!\n",
      "Carregando as despesas do deputado Célia Xakriabá [...]\n",
      "Despesas do deputado Célia Xakriabá adicionado aos dados para análise!\n",
      "Carregando as despesas do deputado Célio Silveira [...]\n",
      "Despesas do deputado Célio Silveira adicionado aos dados para análise!\n",
      "Carregando as despesas do deputado Célio Studart [...]\n",
      "Despesas do deputado Célio Studart adicionado aos dados para análise!\n",
      "Carregando as despesas do deputado Celso Russomanno [...]\n",
      "Despesas do deputado Celso Russomanno adicionado aos dados para análise!\n",
      "Carregando as despesas do deputado Celso Sabino [...]\n",
      "Despesas do deputado Celso Sabino adicionado aos dados para análise!\n",
      "Carregando as despesas do deputado Cezinha de Madureira [...]\n",
      "Despesas do deputado Cezinha de Madureira adicionado aos dados para análise!\n",
      "Carregando as despesas do deputado Chico Alencar [...]\n",
      "Despesas do deputado Chico Alencar adicionado aos dados para análise!\n",
      "Carregando as despesas do deputado Chiquinho Brazão [...]\n",
      "Despesas do deputado Chiquinho Brazão adicionado aos dados para análise!\n",
      "Carregando as despesas do deputado Chris Tonietto [...]\n",
      "Despesas do deputado Chris Tonietto adicionado aos dados para análise!\n",
      "Carregando as despesas do deputado Clarissa Tércio [...]\n",
      "Despesas do deputado Clarissa Tércio adicionado aos dados para análise!\n",
      "Carregando as despesas do deputado Claudio Cajado [...]\n",
      "Despesas do deputado Claudio Cajado adicionado aos dados para análise!\n",
      "Carregando as despesas do deputado Cleber Verde [...]\n",
      "Despesas do deputado Cleber Verde adicionado aos dados para análise!\n",
      "Carregando as despesas do deputado Clodoaldo Magalhães [...]\n",
      "Despesas do deputado Clodoaldo Magalhães adicionado aos dados para análise!\n",
      "Carregando as despesas do deputado Cobalchini [...]\n",
      "Despesas do deputado Cobalchini adicionado aos dados para análise!\n",
      "Carregando as despesas do deputado Coronel Assis [...]\n",
      "Despesas do deputado Coronel Assis adicionado aos dados para análise!\n",
      "Carregando as despesas do deputado Coronel Chrisóstomo [...]\n",
      "Despesas do deputado Coronel Chrisóstomo adicionado aos dados para análise!\n",
      "Carregando as despesas do deputado Coronel Fernanda [...]\n",
      "Despesas do deputado Coronel Fernanda adicionado aos dados para análise!\n",
      "Carregando as despesas do deputado Coronel Meira [...]\n",
      "Despesas do deputado Coronel Meira adicionado aos dados para análise!\n",
      "Carregando as despesas do deputado Coronel Ulysses [...]\n",
      "Despesas do deputado Coronel Ulysses adicionado aos dados para análise!\n",
      "Carregando as despesas do deputado Covatti Filho [...]\n",
      "Despesas do deputado Covatti Filho adicionado aos dados para análise!\n",
      "Carregando as despesas do deputado Cristiane Lopes [...]\n",
      "Despesas do deputado Cristiane Lopes adicionado aos dados para análise!\n",
      "Carregando as despesas do deputado Da Vitoria [...]\n",
      "Despesas do deputado Da Vitoria adicionado aos dados para análise!\n",
      "Carregando as despesas do deputado Dagoberto Nogueira [...]\n",
      "Despesas do deputado Dagoberto Nogueira adicionado aos dados para análise!\n",
      "Carregando as despesas do deputado Daiana Santos [...]\n",
      "Despesas do deputado Daiana Santos adicionado aos dados para análise!\n",
      "Carregando as despesas do deputado Dal Barreto [...]\n",
      "Despesas do deputado Dal Barreto adicionado aos dados para análise!\n",
      "Carregando as despesas do deputado Damião Feliciano [...]\n",
      "Despesas do deputado Damião Feliciano adicionado aos dados para análise!\n",
      "Carregando as despesas do deputado Dandara [...]\n",
      "Despesas do deputado Dandara adicionado aos dados para análise!\n",
      "Carregando as despesas do deputado Dani Cunha [...]\n",
      "Despesas do deputado Dani Cunha adicionado aos dados para análise!\n",
      "Carregando as despesas do deputado Daniel Agrobom [...]\n",
      "Despesas do deputado Daniel Agrobom adicionado aos dados para análise!\n",
      "Carregando as despesas do deputado Daniel Almeida [...]\n",
      "Despesas do deputado Daniel Almeida adicionado aos dados para análise!\n",
      "Carregando as despesas do deputado Daniel Barbosa [...]\n",
      "Despesas do deputado Daniel Barbosa adicionado aos dados para análise!\n",
      "Carregando as despesas do deputado Daniel Freitas [...]\n",
      "Despesas do deputado Daniel Freitas adicionado aos dados para análise!\n",
      "Carregando as despesas do deputado Daniel Soranz [...]\n",
      "Despesas do deputado Daniel Soranz adicionado aos dados para análise!\n",
      "Carregando as despesas do deputado Daniel Trzeciak [...]\n",
      "Despesas do deputado Daniel Trzeciak adicionado aos dados para análise!\n",
      "Carregando as despesas do deputado Daniela Reinehr [...]\n",
      "Despesas do deputado Daniela Reinehr adicionado aos dados para análise!\n",
      "Carregando as despesas do deputado Danilo Forte [...]\n",
      "Despesas do deputado Danilo Forte adicionado aos dados para análise!\n",
      "Carregando as despesas do deputado Danrlei de Deus Hinterholz [...]\n",
      "Despesas do deputado Danrlei de Deus Hinterholz adicionado aos dados para análise!\n",
      "Carregando as despesas do deputado David Soares [...]\n",
      "Despesas do deputado David Soares adicionado aos dados para análise!\n",
      "Carregando as despesas do deputado Dayany do Capitão [...]\n",
      "Despesas do deputado Dayany do Capitão adicionado aos dados para análise!\n",
      "Carregando as despesas do deputado Defensor Stélio Dener [...]\n",
      "Despesas do deputado Defensor Stélio Dener adicionado aos dados para análise!\n",
      "Carregando as despesas do deputado Delegada Adriana Accorsi [...]\n",
      "Despesas do deputado Delegada Adriana Accorsi adicionado aos dados para análise!\n",
      "Carregando as despesas do deputado Delegada Ione [...]\n",
      "Despesas do deputado Delegada Ione adicionado aos dados para análise!\n",
      "Carregando as despesas do deputado Delegada Katarina [...]\n",
      "Despesas do deputado Delegada Katarina adicionado aos dados para análise!\n",
      "Carregando as despesas do deputado Delegado Caveira [...]\n",
      "Despesas do deputado Delegado Caveira adicionado aos dados para análise!\n",
      "Carregando as despesas do deputado Delegado da Cunha [...]\n",
      "Despesas do deputado Delegado da Cunha adicionado aos dados para análise!\n",
      "Carregando as despesas do deputado Delegado Éder Mauro [...]\n",
      "Despesas do deputado Delegado Éder Mauro adicionado aos dados para análise!\n",
      "Carregando as despesas do deputado Delegado Fabio Costa [...]\n",
      "Despesas do deputado Delegado Fabio Costa adicionado aos dados para análise!\n",
      "Carregando as despesas do deputado Delegado Marcelo Freitas [...]\n",
      "Despesas do deputado Delegado Marcelo Freitas adicionado aos dados para análise!\n",
      "Carregando as despesas do deputado Delegado Matheus Laiola [...]\n",
      "Despesas do deputado Delegado Matheus Laiola adicionado aos dados para análise!\n",
      "Carregando as despesas do deputado Delegado Palumbo [...]\n",
      "Despesas do deputado Delegado Palumbo adicionado aos dados para análise!\n",
      "Carregando as despesas do deputado Delegado Paulo Bilynskyj [...]\n",
      "Despesas do deputado Delegado Paulo Bilynskyj adicionado aos dados para análise!\n",
      "Carregando as despesas do deputado Delegado Ramagem [...]\n",
      "Despesas do deputado Delegado Ramagem adicionado aos dados para análise!\n",
      "Carregando as despesas do deputado Deltan Dallagnol [...]\n",
      "Despesas do deputado Deltan Dallagnol adicionado aos dados para análise!\n",
      "Carregando as despesas do deputado Denise Pessôa [...]\n",
      "Despesas do deputado Denise Pessôa adicionado aos dados para análise!\n",
      "Carregando as despesas do deputado Detinha [...]\n",
      "Despesas do deputado Detinha adicionado aos dados para análise!\n",
      "Carregando as despesas do deputado Diego Andrade [...]\n",
      "Despesas do deputado Diego Andrade adicionado aos dados para análise!\n",
      "Carregando as despesas do deputado Diego Coronel [...]\n",
      "Despesas do deputado Diego Coronel adicionado aos dados para análise!\n",
      "Carregando as despesas do deputado Diego Garcia [...]\n",
      "Despesas do deputado Diego Garcia adicionado aos dados para análise!\n",
      "Carregando as despesas do deputado Dilceu Sperafico [...]\n",
      "Despesas do deputado Dilceu Sperafico adicionado aos dados para análise!\n",
      "Carregando as despesas do deputado Dilvanda Faro [...]\n",
      "Despesas do deputado Dilvanda Faro adicionado aos dados para análise!\n",
      "Carregando as despesas do deputado Dimas Fabiano [...]\n",
      "Despesas do deputado Dimas Fabiano adicionado aos dados para análise!\n",
      "Carregando as despesas do deputado Dimas Gadelha [...]\n",
      "Despesas do deputado Dimas Gadelha adicionado aos dados para análise!\n",
      "Carregando as despesas do deputado Domingos Neto [...]\n",
      "Despesas do deputado Domingos Neto adicionado aos dados para análise!\n",
      "Carregando as despesas do deputado Domingos Sávio [...]\n",
      "Despesas do deputado Domingos Sávio adicionado aos dados para análise!\n",
      "Carregando as despesas do deputado Dorinaldo Malafaia [...]\n",
      "Despesas do deputado Dorinaldo Malafaia adicionado aos dados para análise!\n",
      "Carregando as despesas do deputado Doutor Luizinho [...]\n",
      "Despesas do deputado Doutor Luizinho adicionado aos dados para análise!\n",
      "Carregando as despesas do deputado Dr Benjamim [...]\n",
      "Despesas do deputado Dr Benjamim adicionado aos dados para análise!\n",
      "Carregando as despesas do deputado Dr. Fernando Máximo [...]\n",
      "Despesas do deputado Dr. Fernando Máximo adicionado aos dados para análise!\n",
      "Carregando as despesas do deputado Dr. Francisco [...]\n",
      "Despesas do deputado Dr. Francisco adicionado aos dados para análise!\n",
      "Carregando as despesas do deputado Dr. Frederico [...]\n",
      "Despesas do deputado Dr. Frederico adicionado aos dados para análise!\n",
      "Carregando as despesas do deputado Dr. Jaziel [...]\n",
      "Despesas do deputado Dr. Jaziel adicionado aos dados para análise!\n",
      "Carregando as despesas do deputado Dr. Luiz Ovando [...]\n",
      "Despesas do deputado Dr. Luiz Ovando adicionado aos dados para análise!\n",
      "Carregando as despesas do deputado Dr. Victor Linhalis [...]\n",
      "Despesas do deputado Dr. Victor Linhalis adicionado aos dados para análise!\n",
      "Carregando as despesas do deputado Dr. Zacharias Calil [...]\n",
      "Despesas do deputado Dr. Zacharias Calil adicionado aos dados para análise!\n",
      "Carregando as despesas do deputado Dra. Alessandra Haber [...]\n",
      "Despesas do deputado Dra. Alessandra Haber adicionado aos dados para análise!\n",
      "Carregando as despesas do deputado Duarte [...]\n",
      "Despesas do deputado Duarte adicionado aos dados para análise!\n",
      "Carregando as despesas do deputado Duda Ramos [...]\n",
      "Despesas do deputado Duda Ramos adicionado aos dados para análise!\n",
      "Carregando as despesas do deputado Duda Salabert [...]\n",
      "Despesas do deputado Duda Salabert adicionado aos dados para análise!\n",
      "Carregando as despesas do deputado Eduardo Bismarck [...]\n",
      "Despesas do deputado Eduardo Bismarck adicionado aos dados para análise!\n",
      "Carregando as despesas do deputado Eduardo Bolsonaro [...]\n",
      "Despesas do deputado Eduardo Bolsonaro adicionado aos dados para análise!\n",
      "Carregando as despesas do deputado Eduardo da Fonte [...]\n",
      "Despesas do deputado Eduardo da Fonte adicionado aos dados para análise!\n",
      "Carregando as despesas do deputado Eduardo Velloso [...]\n",
      "Despesas do deputado Eduardo Velloso adicionado aos dados para análise!\n",
      "Carregando as despesas do deputado Elcione Barbalho [...]\n",
      "Despesas do deputado Elcione Barbalho adicionado aos dados para análise!\n",
      "Carregando as despesas do deputado Eli Borges [...]\n",
      "Despesas do deputado Eli Borges adicionado aos dados para análise!\n",
      "Carregando as despesas do deputado Elmar Nascimento [...]\n",
      "Despesas do deputado Elmar Nascimento adicionado aos dados para análise!\n",
      "Carregando as despesas do deputado Emanuel Pinheiro Neto [...]\n",
      "Despesas do deputado Emanuel Pinheiro Neto adicionado aos dados para análise!\n",
      "Carregando as despesas do deputado Emidinho Madeira [...]\n",
      "Despesas do deputado Emidinho Madeira adicionado aos dados para análise!\n",
      "Carregando as despesas do deputado Enio Verri [...]\n",
      "Despesas do deputado Enio Verri adicionado aos dados para análise!\n",
      "Carregando as despesas do deputado Eriberto Medeiros [...]\n",
      "Despesas do deputado Eriberto Medeiros adicionado aos dados para análise!\n",
      "Carregando as despesas do deputado Erika Hilton [...]\n",
      "Despesas do deputado Erika Hilton adicionado aos dados para análise!\n",
      "Carregando as despesas do deputado Erika Kokay [...]\n",
      "Despesas do deputado Erika Kokay adicionado aos dados para análise!\n",
      "Carregando as despesas do deputado Eros Biondini [...]\n",
      "Despesas do deputado Eros Biondini adicionado aos dados para análise!\n",
      "Carregando as despesas do deputado Euclydes Pettersen [...]\n",
      "Despesas do deputado Euclydes Pettersen adicionado aos dados para análise!\n",
      "Carregando as despesas do deputado Eunício Oliveira [...]\n",
      "Despesas do deputado Eunício Oliveira adicionado aos dados para análise!\n",
      "Carregando as despesas do deputado Evair Vieira de Melo [...]\n",
      "Despesas do deputado Evair Vieira de Melo adicionado aos dados para análise!\n",
      "Carregando as despesas do deputado Fabio Garcia [...]\n",
      "Despesas do deputado Fabio Garcia adicionado aos dados para análise!\n",
      "Carregando as despesas do deputado Fábio Macedo [...]\n",
      "Despesas do deputado Fábio Macedo adicionado aos dados para análise!\n",
      "Carregando as despesas do deputado Fabio Reis [...]\n",
      "Despesas do deputado Fabio Reis adicionado aos dados para análise!\n",
      "Carregando as despesas do deputado Fabio Schiochet [...]\n",
      "Despesas do deputado Fabio Schiochet adicionado aos dados para análise!\n",
      "Carregando as despesas do deputado Fábio Teruel [...]\n",
      "Despesas do deputado Fábio Teruel adicionado aos dados para análise!\n",
      "Carregando as despesas do deputado Fausto Pinato [...]\n",
      "Despesas do deputado Fausto Pinato adicionado aos dados para análise!\n",
      "Carregando as despesas do deputado Fausto Santos Jr. [...]\n",
      "Despesas do deputado Fausto Santos Jr. adicionado aos dados para análise!\n",
      "Carregando as despesas do deputado Felipe Becari [...]\n",
      "Despesas do deputado Felipe Becari adicionado aos dados para análise!\n",
      "Carregando as despesas do deputado Felipe Carreras [...]\n",
      "Despesas do deputado Felipe Carreras adicionado aos dados para análise!\n",
      "Carregando as despesas do deputado Felipe Francischini [...]\n",
      "Despesas do deputado Felipe Francischini adicionado aos dados para análise!\n",
      "Carregando as despesas do deputado Félix Mendonça Júnior [...]\n",
      "Despesas do deputado Félix Mendonça Júnior adicionado aos dados para análise!\n",
      "Carregando as despesas do deputado Fernanda Melchionna [...]\n",
      "Despesas do deputado Fernanda Melchionna adicionado aos dados para análise!\n",
      "Carregando as despesas do deputado Fernanda Pessoa [...]\n",
      "Despesas do deputado Fernanda Pessoa adicionado aos dados para análise!\n",
      "Carregando as despesas do deputado Fernando Coelho Filho [...]\n",
      "Despesas do deputado Fernando Coelho Filho adicionado aos dados para análise!\n",
      "Carregando as despesas do deputado Fernando Mineiro [...]\n",
      "Despesas do deputado Fernando Mineiro adicionado aos dados para análise!\n",
      "Carregando as despesas do deputado Fernando Monteiro [...]\n",
      "Despesas do deputado Fernando Monteiro adicionado aos dados para análise!\n",
      "Carregando as despesas do deputado Fernando Rodolfo [...]\n",
      "Despesas do deputado Fernando Rodolfo adicionado aos dados para análise!\n",
      "Carregando as despesas do deputado Filipe Barros [...]\n",
      "Despesas do deputado Filipe Barros adicionado aos dados para análise!\n",
      "Carregando as despesas do deputado Filipe Martins [...]\n",
      "Despesas do deputado Filipe Martins adicionado aos dados para análise!\n",
      "Carregando as despesas do deputado Flávia Morais [...]\n",
      "Despesas do deputado Flávia Morais adicionado aos dados para análise!\n",
      "Carregando as despesas do deputado Flávio Nogueira [...]\n",
      "Despesas do deputado Flávio Nogueira adicionado aos dados para análise!\n",
      "Carregando as despesas do deputado Florentino Neto [...]\n",
      "Despesas do deputado Florentino Neto adicionado aos dados para análise!\n",
      "Carregando as despesas do deputado Franciane Bayer [...]\n",
      "Despesas do deputado Franciane Bayer adicionado aos dados para análise!\n",
      "Carregando as despesas do deputado Fred Costa [...]\n",
      "Despesas do deputado Fred Costa adicionado aos dados para análise!\n",
      "Carregando as despesas do deputado Fred Linhares [...]\n",
      "Despesas do deputado Fred Linhares adicionado aos dados para análise!\n",
      "Carregando as despesas do deputado Gabriel Nunes [...]\n",
      "Despesas do deputado Gabriel Nunes adicionado aos dados para análise!\n",
      "Carregando as despesas do deputado General Girão [...]\n",
      "Despesas do deputado General Girão adicionado aos dados para análise!\n",
      "Carregando as despesas do deputado General Pazuello [...]\n",
      "Despesas do deputado General Pazuello adicionado aos dados para análise!\n",
      "Carregando as despesas do deputado Geovania de Sá [...]\n",
      "Despesas do deputado Geovania de Sá adicionado aos dados para análise!\n",
      "Carregando as despesas do deputado Geraldo Mendes [...]\n",
      "Despesas do deputado Geraldo Mendes adicionado aos dados para análise!\n",
      "Carregando as despesas do deputado Geraldo Resende [...]\n",
      "Despesas do deputado Geraldo Resende adicionado aos dados para análise!\n",
      "Carregando as despesas do deputado Gerlen Diniz [...]\n",
      "Despesas do deputado Gerlen Diniz adicionado aos dados para análise!\n",
      "Carregando as despesas do deputado Gervásio Maia [...]\n",
      "Despesas do deputado Gervásio Maia adicionado aos dados para análise!\n",
      "Carregando as despesas do deputado Giacobo [...]\n",
      "Despesas do deputado Giacobo adicionado aos dados para análise!\n",
      "Carregando as despesas do deputado Gilberto Abramo [...]\n",
      "Despesas do deputado Gilberto Abramo adicionado aos dados para análise!\n",
      "Carregando as despesas do deputado Gilberto Nascimento [...]\n",
      "Despesas do deputado Gilberto Nascimento adicionado aos dados para análise!\n",
      "Carregando as despesas do deputado Gilson Daniel [...]\n",
      "Despesas do deputado Gilson Daniel adicionado aos dados para análise!\n",
      "Carregando as despesas do deputado Gilson Marques [...]\n",
      "Despesas do deputado Gilson Marques adicionado aos dados para análise!\n",
      "Carregando as despesas do deputado Gilvan da Federal [...]\n",
      "Despesas do deputado Gilvan da Federal adicionado aos dados para análise!\n",
      "Carregando as despesas do deputado Gilvan Maximo [...]\n",
      "Despesas do deputado Gilvan Maximo adicionado aos dados para análise!\n",
      "Carregando as despesas do deputado Giovani Cherini [...]\n",
      "Despesas do deputado Giovani Cherini adicionado aos dados para análise!\n",
      "Carregando as despesas do deputado Glauber Braga [...]\n",
      "Despesas do deputado Glauber Braga adicionado aos dados para análise!\n",
      "Carregando as despesas do deputado Glaustin da Fokus [...]\n",
      "Despesas do deputado Glaustin da Fokus adicionado aos dados para análise!\n",
      "Carregando as despesas do deputado Gleisi Hoffmann [...]\n",
      "Despesas do deputado Gleisi Hoffmann adicionado aos dados para análise!\n",
      "Carregando as despesas do deputado Greyce Elias [...]\n",
      "Despesas do deputado Greyce Elias adicionado aos dados para análise!\n",
      "Carregando as despesas do deputado Guilherme Boulos [...]\n",
      "Despesas do deputado Guilherme Boulos adicionado aos dados para análise!\n",
      "Carregando as despesas do deputado Guilherme Uchoa [...]\n",
      "Despesas do deputado Guilherme Uchoa adicionado aos dados para análise!\n",
      "Carregando as despesas do deputado Gustavo Gayer [...]\n",
      "Despesas do deputado Gustavo Gayer adicionado aos dados para análise!\n",
      "Carregando as despesas do deputado Gustinho Ribeiro [...]\n",
      "Despesas do deputado Gustinho Ribeiro adicionado aos dados para análise!\n",
      "Carregando as despesas do deputado Gutemberg Reis [...]\n",
      "Despesas do deputado Gutemberg Reis adicionado aos dados para análise!\n",
      "Carregando as despesas do deputado Heitor Schuch [...]\n",
      "Despesas do deputado Heitor Schuch adicionado aos dados para análise!\n",
      "Carregando as despesas do deputado Helder Salomão [...]\n",
      "Despesas do deputado Helder Salomão adicionado aos dados para análise!\n",
      "Carregando as despesas do deputado Helena Lima [...]\n",
      "Despesas do deputado Helena Lima adicionado aos dados para análise!\n",
      "Carregando as despesas do deputado Helio Lopes [...]\n",
      "Despesas do deputado Helio Lopes adicionado aos dados para análise!\n",
      "Carregando as despesas do deputado Henderson Pinto [...]\n",
      "Despesas do deputado Henderson Pinto adicionado aos dados para análise!\n",
      "Carregando as despesas do deputado Hercílio Coelho Diniz [...]\n",
      "Despesas do deputado Hercílio Coelho Diniz adicionado aos dados para análise!\n",
      "Carregando as despesas do deputado Hugo Leal [...]\n",
      "Despesas do deputado Hugo Leal adicionado aos dados para análise!\n",
      "Carregando as despesas do deputado Hugo Motta [...]\n",
      "Despesas do deputado Hugo Motta adicionado aos dados para análise!\n",
      "Carregando as despesas do deputado Icaro de Valmir [...]\n",
      "Despesas do deputado Icaro de Valmir adicionado aos dados para análise!\n",
      "Carregando as despesas do deputado Idilvan Alencar [...]\n",
      "Despesas do deputado Idilvan Alencar adicionado aos dados para análise!\n",
      "Carregando as despesas do deputado Igor Timo [...]\n",
      "Despesas do deputado Igor Timo adicionado aos dados para análise!\n",
      "Carregando as despesas do deputado Ismael [...]\n",
      "Despesas do deputado Ismael adicionado aos dados para análise!\n",
      "Carregando as despesas do deputado Ismael Alexandrino [...]\n",
      "Despesas do deputado Ismael Alexandrino adicionado aos dados para análise!\n",
      "Carregando as despesas do deputado Isnaldo Bulhões Jr. [...]\n",
      "Despesas do deputado Isnaldo Bulhões Jr. adicionado aos dados para análise!\n",
      "Carregando as despesas do deputado Ivan Valente [...]\n",
      "Despesas do deputado Ivan Valente adicionado aos dados para análise!\n",
      "Carregando as despesas do deputado Ivoneide Caetano [...]\n",
      "Despesas do deputado Ivoneide Caetano adicionado aos dados para análise!\n",
      "Carregando as despesas do deputado Iza Arruda [...]\n",
      "Despesas do deputado Iza Arruda adicionado aos dados para análise!\n",
      "Carregando as despesas do deputado Jack Rocha [...]\n",
      "Despesas do deputado Jack Rocha adicionado aos dados para análise!\n",
      "Carregando as despesas do deputado Jadyel Alencar [...]\n",
      "Despesas do deputado Jadyel Alencar adicionado aos dados para análise!\n",
      "Carregando as despesas do deputado Jandira Feghali [...]\n",
      "Despesas do deputado Jandira Feghali adicionado aos dados para análise!\n",
      "Carregando as despesas do deputado Jeferson Rodrigues [...]\n",
      "Despesas do deputado Jeferson Rodrigues adicionado aos dados para análise!\n",
      "Carregando as despesas do deputado Jefferson Campos [...]\n",
      "Despesas do deputado Jefferson Campos adicionado aos dados para análise!\n",
      "Carregando as despesas do deputado Jhonatan de Jesus [...]\n",
      "Despesas do deputado Jhonatan de Jesus adicionado aos dados para análise!\n",
      "Carregando as despesas do deputado Jilmar Tatto [...]\n",
      "Despesas do deputado Jilmar Tatto adicionado aos dados para análise!\n",
      "Carregando as despesas do deputado João Carlos Bacelar [...]\n",
      "Despesas do deputado João Carlos Bacelar adicionado aos dados para análise!\n",
      "Carregando as despesas do deputado João Daniel [...]\n",
      "Despesas do deputado João Daniel adicionado aos dados para análise!\n",
      "Carregando as despesas do deputado João Leão [...]\n",
      "Despesas do deputado João Leão adicionado aos dados para análise!\n",
      "Carregando as despesas do deputado João Maia [...]\n",
      "Despesas do deputado João Maia adicionado aos dados para análise!\n",
      "Carregando as despesas do deputado Joaquim Passarinho [...]\n",
      "Despesas do deputado Joaquim Passarinho adicionado aos dados para análise!\n",
      "Carregando as despesas do deputado Jonas Donizette [...]\n",
      "Despesas do deputado Jonas Donizette adicionado aos dados para análise!\n",
      "Carregando as despesas do deputado Jorge Braz [...]\n",
      "Despesas do deputado Jorge Braz adicionado aos dados para análise!\n",
      "Carregando as despesas do deputado Jorge Goetten [...]\n",
      "Despesas do deputado Jorge Goetten adicionado aos dados para análise!\n",
      "Carregando as despesas do deputado Jorge Solla [...]\n",
      "Despesas do deputado Jorge Solla adicionado aos dados para análise!\n",
      "Carregando as despesas do deputado José Airton Félix Cirilo [...]\n",
      "Despesas do deputado José Airton Félix Cirilo adicionado aos dados para análise!\n",
      "Carregando as despesas do deputado José Guimarães [...]\n",
      "Despesas do deputado José Guimarães adicionado aos dados para análise!\n",
      "Carregando as despesas do deputado José Medeiros [...]\n",
      "Despesas do deputado José Medeiros adicionado aos dados para análise!\n",
      "Carregando as despesas do deputado José Nelto [...]\n",
      "Despesas do deputado José Nelto adicionado aos dados para análise!\n",
      "Carregando as despesas do deputado José Priante [...]\n",
      "Despesas do deputado José Priante adicionado aos dados para análise!\n",
      "Carregando as despesas do deputado José Rocha [...]\n",
      "Despesas do deputado José Rocha adicionado aos dados para análise!\n",
      "Carregando as despesas do deputado Joseildo Ramos [...]\n",
      "Despesas do deputado Joseildo Ramos adicionado aos dados para análise!\n",
      "Carregando as despesas do deputado Josenildo [...]\n",
      "Despesas do deputado Josenildo adicionado aos dados para análise!\n",
      "Carregando as despesas do deputado Josias Gomes [...]\n",
      "Despesas do deputado Josias Gomes adicionado aos dados para análise!\n",
      "Carregando as despesas do deputado Josimar Maranhãozinho [...]\n",
      "Despesas do deputado Josimar Maranhãozinho adicionado aos dados para análise!\n",
      "Carregando as despesas do deputado Josivaldo JP [...]\n",
      "Despesas do deputado Josivaldo JP adicionado aos dados para análise!\n",
      "Carregando as despesas do deputado Juarez Costa [...]\n",
      "Despesas do deputado Juarez Costa adicionado aos dados para análise!\n",
      "Carregando as despesas do deputado Julia Zanatta [...]\n",
      "Despesas do deputado Julia Zanatta adicionado aos dados para análise!\n",
      "Carregando as despesas do deputado Juliana Cardoso [...]\n",
      "Despesas do deputado Juliana Cardoso adicionado aos dados para análise!\n",
      "Carregando as despesas do deputado Julio Arcoverde [...]\n",
      "Despesas do deputado Julio Arcoverde adicionado aos dados para análise!\n",
      "Carregando as despesas do deputado Júlio Cesar [...]\n",
      "Despesas do deputado Júlio Cesar adicionado aos dados para análise!\n",
      "Carregando as despesas do deputado Julio Cesar Ribeiro [...]\n",
      "Despesas do deputado Julio Cesar Ribeiro adicionado aos dados para análise!\n",
      "Carregando as despesas do deputado Julio Lopes [...]\n",
      "Despesas do deputado Julio Lopes adicionado aos dados para análise!\n",
      "Carregando as despesas do deputado Juninho do Pneu [...]\n",
      "Despesas do deputado Juninho do Pneu adicionado aos dados para análise!\n",
      "Carregando as despesas do deputado Junio Amaral [...]\n",
      "Despesas do deputado Junio Amaral adicionado aos dados para análise!\n",
      "Carregando as despesas do deputado Júnior Ferrari [...]\n",
      "Despesas do deputado Júnior Ferrari adicionado aos dados para análise!\n",
      "Carregando as despesas do deputado Junior Lourenço [...]\n",
      "Despesas do deputado Junior Lourenço adicionado aos dados para análise!\n",
      "Carregando as despesas do deputado Júnior Mano [...]\n",
      "Despesas do deputado Júnior Mano adicionado aos dados para análise!\n",
      "Carregando as despesas do deputado Keniston Braga [...]\n",
      "Despesas do deputado Keniston Braga adicionado aos dados para análise!\n",
      "Carregando as despesas do deputado Kiko Celeguim [...]\n",
      "Despesas do deputado Kiko Celeguim adicionado aos dados para análise!\n",
      "Carregando as despesas do deputado Kim Kataguiri [...]\n",
      "Despesas do deputado Kim Kataguiri adicionado aos dados para análise!\n",
      "Carregando as despesas do deputado Lafayette de Andrada [...]\n",
      "Despesas do deputado Lafayette de Andrada adicionado aos dados para análise!\n",
      "Carregando as despesas do deputado Laura Carneiro [...]\n",
      "Despesas do deputado Laura Carneiro adicionado aos dados para análise!\n",
      "Carregando as despesas do deputado Lázaro Botelho [...]\n",
      "Despesas do deputado Lázaro Botelho adicionado aos dados para análise!\n",
      "Carregando as despesas do deputado Leandre [...]\n",
      "Despesas do deputado Leandre adicionado aos dados para análise!\n",
      "Carregando as despesas do deputado Lebrão [...]\n",
      "Despesas do deputado Lebrão adicionado aos dados para análise!\n",
      "Carregando as despesas do deputado Lêda Borges [...]\n",
      "Despesas do deputado Lêda Borges adicionado aos dados para análise!\n",
      "Carregando as despesas do deputado Léo Prates [...]\n",
      "Despesas do deputado Léo Prates adicionado aos dados para análise!\n",
      "Carregando as despesas do deputado Leonardo Monteiro [...]\n",
      "Despesas do deputado Leonardo Monteiro adicionado aos dados para análise!\n",
      "Carregando as despesas do deputado Leur Lomanto Júnior [...]\n",
      "Despesas do deputado Leur Lomanto Júnior adicionado aos dados para análise!\n",
      "Carregando as despesas do deputado Lídice da Mata [...]\n",
      "Despesas do deputado Lídice da Mata adicionado aos dados para análise!\n",
      "Carregando as despesas do deputado Lincoln Portela [...]\n",
      "Despesas do deputado Lincoln Portela adicionado aos dados para análise!\n",
      "Carregando as despesas do deputado Lindbergh Farias [...]\n",
      "Despesas do deputado Lindbergh Farias adicionado aos dados para análise!\n",
      "Carregando as despesas do deputado Lucas Ramos [...]\n",
      "Despesas do deputado Lucas Ramos adicionado aos dados para análise!\n",
      "Carregando as despesas do deputado Lucas Redecker [...]\n",
      "Despesas do deputado Lucas Redecker adicionado aos dados para análise!\n",
      "Carregando as despesas do deputado Luciano Amaral [...]\n",
      "Despesas do deputado Luciano Amaral adicionado aos dados para análise!\n",
      "Carregando as despesas do deputado Luciano Bivar [...]\n",
      "Despesas do deputado Luciano Bivar adicionado aos dados para análise!\n",
      "Carregando as despesas do deputado Luciano Ducci [...]\n",
      "Despesas do deputado Luciano Ducci adicionado aos dados para análise!\n",
      "Carregando as despesas do deputado Luciano Vieira [...]\n",
      "Despesas do deputado Luciano Vieira adicionado aos dados para análise!\n",
      "Carregando as despesas do deputado Lucio Mosquini [...]\n",
      "Despesas do deputado Lucio Mosquini adicionado aos dados para análise!\n",
      "Carregando as despesas do deputado Luis Tibé [...]\n",
      "Despesas do deputado Luis Tibé adicionado aos dados para análise!\n",
      "Carregando as despesas do deputado Luisa Canziani [...]\n",
      "Despesas do deputado Luisa Canziani adicionado aos dados para análise!\n",
      "Carregando as despesas do deputado Luiz Carlos Busato [...]\n",
      "Despesas do deputado Luiz Carlos Busato adicionado aos dados para análise!\n",
      "Carregando as despesas do deputado Luiz Carlos Motta [...]\n",
      "Despesas do deputado Luiz Carlos Motta adicionado aos dados para análise!\n",
      "Carregando as despesas do deputado Luiz Couto [...]\n",
      "Despesas do deputado Luiz Couto adicionado aos dados para análise!\n",
      "Carregando as despesas do deputado Luiz Fernando Faria [...]\n",
      "Despesas do deputado Luiz Fernando Faria adicionado aos dados para análise!\n",
      "Carregando as despesas do deputado Luiz Gastão [...]\n",
      "Despesas do deputado Luiz Gastão adicionado aos dados para análise!\n",
      "Carregando as despesas do deputado Luiz Lima [...]\n",
      "Despesas do deputado Luiz Lima adicionado aos dados para análise!\n",
      "Carregando as despesas do deputado Luiz Nishimori [...]\n",
      "Despesas do deputado Luiz Nishimori adicionado aos dados para análise!\n",
      "Carregando as despesas do deputado Luiz Philippe de Orleans e Bragança [...]\n",
      "Despesas do deputado Luiz Philippe de Orleans e Bragança adicionado aos dados para análise!\n",
      "Carregando as despesas do deputado Luiza Erundina [...]\n",
      "Despesas do deputado Luiza Erundina adicionado aos dados para análise!\n",
      "Carregando as despesas do deputado Luizianne Lins [...]\n",
      "Despesas do deputado Luizianne Lins adicionado aos dados para análise!\n",
      "Carregando as despesas do deputado Lula da Fonte [...]\n",
      "Despesas do deputado Lula da Fonte adicionado aos dados para análise!\n",
      "Carregando as despesas do deputado Magda Mofatto [...]\n",
      "Despesas do deputado Magda Mofatto adicionado aos dados para análise!\n",
      "Carregando as despesas do deputado Marangoni [...]\n",
      "Despesas do deputado Marangoni adicionado aos dados para análise!\n",
      "Carregando as despesas do deputado Marcel van Hattem [...]\n",
      "Despesas do deputado Marcel van Hattem adicionado aos dados para análise!\n",
      "Carregando as despesas do deputado Marcelo Álvaro Antônio [...]\n",
      "Despesas do deputado Marcelo Álvaro Antônio adicionado aos dados para análise!\n",
      "Carregando as despesas do deputado Marcelo Crivella [...]\n",
      "Despesas do deputado Marcelo Crivella adicionado aos dados para análise!\n",
      "Carregando as despesas do deputado Marcelo Lima [...]\n",
      "Despesas do deputado Marcelo Lima adicionado aos dados para análise!\n",
      "Carregando as despesas do deputado Marcelo Moraes [...]\n",
      "Despesas do deputado Marcelo Moraes adicionado aos dados para análise!\n",
      "Carregando as despesas do deputado Marcelo Queiroz [...]\n",
      "Despesas do deputado Marcelo Queiroz adicionado aos dados para análise!\n",
      "Carregando as despesas do deputado Marcio Alvino [...]\n",
      "Despesas do deputado Marcio Alvino adicionado aos dados para análise!\n",
      "Carregando as despesas do deputado Márcio Biolchi [...]\n",
      "Despesas do deputado Márcio Biolchi adicionado aos dados para análise!\n",
      "Carregando as despesas do deputado Márcio Honaiser [...]\n",
      "Despesas do deputado Márcio Honaiser adicionado aos dados para análise!\n",
      "Carregando as despesas do deputado Márcio Jerry [...]\n",
      "Despesas do deputado Márcio Jerry adicionado aos dados para análise!\n",
      "Carregando as despesas do deputado Márcio Marinho [...]\n",
      "Despesas do deputado Márcio Marinho adicionado aos dados para análise!\n",
      "Carregando as despesas do deputado Marco Bertaiolli [...]\n",
      "Despesas do deputado Marco Bertaiolli adicionado aos dados para análise!\n",
      "Carregando as despesas do deputado Marco Brasil [...]\n",
      "Despesas do deputado Marco Brasil adicionado aos dados para análise!\n",
      "Carregando as despesas do deputado Marcon [...]\n",
      "Despesas do deputado Marcon adicionado aos dados para análise!\n",
      "Carregando as despesas do deputado Marcos Aurélio Sampaio [...]\n",
      "Despesas do deputado Marcos Aurélio Sampaio adicionado aos dados para análise!\n",
      "Carregando as despesas do deputado Marcos Pereira [...]\n",
      "Despesas do deputado Marcos Pereira adicionado aos dados para análise!\n",
      "Carregando as despesas do deputado Marcos Pollon [...]\n",
      "Despesas do deputado Marcos Pollon adicionado aos dados para análise!\n",
      "Carregando as despesas do deputado Marcos Soares [...]\n",
      "Despesas do deputado Marcos Soares adicionado aos dados para análise!\n",
      "Carregando as despesas do deputado Marcos Tavares [...]\n",
      "Despesas do deputado Marcos Tavares adicionado aos dados para análise!\n",
      "Carregando as despesas do deputado Maria Arraes [...]\n",
      "Despesas do deputado Maria Arraes adicionado aos dados para análise!\n",
      "Carregando as despesas do deputado Maria do Rosário [...]\n",
      "Despesas do deputado Maria do Rosário adicionado aos dados para análise!\n",
      "Carregando as despesas do deputado Maria Rosas [...]\n",
      "Despesas do deputado Maria Rosas adicionado aos dados para análise!\n",
      "Carregando as despesas do deputado Mario Frias [...]\n",
      "Despesas do deputado Mario Frias adicionado aos dados para análise!\n",
      "Carregando as despesas do deputado Mário Heringer [...]\n",
      "Despesas do deputado Mário Heringer adicionado aos dados para análise!\n",
      "Carregando as despesas do deputado Mário Negromonte Jr. [...]\n",
      "Despesas do deputado Mário Negromonte Jr. adicionado aos dados para análise!\n",
      "Carregando as despesas do deputado Marreca Filho [...]\n",
      "Despesas do deputado Marreca Filho adicionado aos dados para análise!\n",
      "Carregando as despesas do deputado Marussa Boldrin [...]\n",
      "Despesas do deputado Marussa Boldrin adicionado aos dados para análise!\n",
      "Carregando as despesas do deputado Marx Beltrão [...]\n",
      "Despesas do deputado Marx Beltrão adicionado aos dados para análise!\n",
      "Carregando as despesas do deputado Matheus Noronha [...]\n",
      "Despesas do deputado Matheus Noronha adicionado aos dados para análise!\n",
      "Carregando as despesas do deputado Maurício Carvalho [...]\n",
      "Despesas do deputado Maurício Carvalho adicionado aos dados para análise!\n",
      "Carregando as despesas do deputado Mauricio do Vôlei [...]\n",
      "Despesas do deputado Mauricio do Vôlei adicionado aos dados para análise!\n",
      "Carregando as despesas do deputado Mauricio Marcon [...]\n",
      "Despesas do deputado Mauricio Marcon adicionado aos dados para análise!\n",
      "Carregando as despesas do deputado Mauricio Neves [...]\n",
      "Despesas do deputado Mauricio Neves adicionado aos dados para análise!\n",
      "Carregando as despesas do deputado Mauro Benevides Filho [...]\n",
      "Despesas do deputado Mauro Benevides Filho adicionado aos dados para análise!\n",
      "Carregando as despesas do deputado Max Lemos [...]\n",
      "Despesas do deputado Max Lemos adicionado aos dados para análise!\n",
      "Carregando as despesas do deputado Meire Serafim [...]\n",
      "Despesas do deputado Meire Serafim adicionado aos dados para análise!\n",
      "Carregando as despesas do deputado Mendonça Filho [...]\n",
      "Despesas do deputado Mendonça Filho adicionado aos dados para análise!\n",
      "Carregando as despesas do deputado Merlong Solano [...]\n",
      "Despesas do deputado Merlong Solano adicionado aos dados para análise!\n",
      "Carregando as despesas do deputado Mersinho Lucena [...]\n",
      "Despesas do deputado Mersinho Lucena adicionado aos dados para análise!\n",
      "Carregando as despesas do deputado Messias Donato [...]\n",
      "Despesas do deputado Messias Donato adicionado aos dados para análise!\n",
      "Carregando as despesas do deputado Miguel Ângelo [...]\n",
      "Despesas do deputado Miguel Ângelo adicionado aos dados para análise!\n",
      "Carregando as despesas do deputado Miguel Lombardi [...]\n",
      "Despesas do deputado Miguel Lombardi adicionado aos dados para análise!\n",
      "Carregando as despesas do deputado Milton Vieira [...]\n",
      "Despesas do deputado Milton Vieira adicionado aos dados para análise!\n",
      "Carregando as despesas do deputado Misael Varella [...]\n",
      "Despesas do deputado Misael Varella adicionado aos dados para análise!\n",
      "Carregando as despesas do deputado Moses Rodrigues [...]\n",
      "Despesas do deputado Moses Rodrigues adicionado aos dados para análise!\n",
      "Carregando as despesas do deputado Murillo Gouvea [...]\n",
      "Despesas do deputado Murillo Gouvea adicionado aos dados para análise!\n",
      "Carregando as despesas do deputado Murilo Galdino [...]\n",
      "Despesas do deputado Murilo Galdino adicionado aos dados para análise!\n",
      "Carregando as despesas do deputado Natália Bonavides [...]\n",
      "Despesas do deputado Natália Bonavides adicionado aos dados para análise!\n",
      "Carregando as despesas do deputado Nely Aquino [...]\n",
      "Despesas do deputado Nely Aquino adicionado aos dados para análise!\n",
      "Carregando as despesas do deputado Neto Carletto [...]\n",
      "Despesas do deputado Neto Carletto adicionado aos dados para análise!\n",
      "Carregando as despesas do deputado Newton Cardoso Jr [...]\n",
      "Despesas do deputado Newton Cardoso Jr adicionado aos dados para análise!\n",
      "Carregando as despesas do deputado Nicoletti [...]\n",
      "Despesas do deputado Nicoletti adicionado aos dados para análise!\n",
      "Carregando as despesas do deputado Nikolas Ferreira [...]\n",
      "Despesas do deputado Nikolas Ferreira adicionado aos dados para análise!\n",
      "Carregando as despesas do deputado Nilto Tatto [...]\n",
      "Despesas do deputado Nilto Tatto adicionado aos dados para análise!\n",
      "Carregando as despesas do deputado Odair Cunha [...]\n",
      "Despesas do deputado Odair Cunha adicionado aos dados para análise!\n",
      "Carregando as despesas do deputado Olival Marques [...]\n",
      "Despesas do deputado Olival Marques adicionado aos dados para análise!\n",
      "Carregando as despesas do deputado Orlando Silva [...]\n",
      "Despesas do deputado Orlando Silva adicionado aos dados para análise!\n",
      "Carregando as despesas do deputado Osmar Terra [...]\n",
      "Despesas do deputado Osmar Terra adicionado aos dados para análise!\n",
      "Carregando as despesas do deputado Otoni de Paula [...]\n",
      "Despesas do deputado Otoni de Paula adicionado aos dados para análise!\n",
      "Carregando as despesas do deputado Otto Alencar Filho [...]\n",
      "Despesas do deputado Otto Alencar Filho adicionado aos dados para análise!\n",
      "Carregando as despesas do deputado Padovani [...]\n",
      "Despesas do deputado Padovani adicionado aos dados para análise!\n",
      "Carregando as despesas do deputado Padre João [...]\n",
      "Despesas do deputado Padre João adicionado aos dados para análise!\n",
      "Carregando as despesas do deputado Pastor Diniz [...]\n",
      "Despesas do deputado Pastor Diniz adicionado aos dados para análise!\n",
      "Carregando as despesas do deputado Pastor Eurico [...]\n",
      "Despesas do deputado Pastor Eurico adicionado aos dados para análise!\n",
      "Carregando as despesas do deputado Pastor Gil [...]\n",
      "Despesas do deputado Pastor Gil adicionado aos dados para análise!\n",
      "Carregando as despesas do deputado Pastor Henrique Vieira [...]\n",
      "Despesas do deputado Pastor Henrique Vieira adicionado aos dados para análise!\n",
      "Carregando as despesas do deputado Pastor Sargento Isidório [...]\n",
      "Despesas do deputado Pastor Sargento Isidório adicionado aos dados para análise!\n",
      "Carregando as despesas do deputado Patrus Ananias [...]\n",
      "Despesas do deputado Patrus Ananias adicionado aos dados para análise!\n",
      "Carregando as despesas do deputado Paulão [...]\n",
      "Despesas do deputado Paulão adicionado aos dados para análise!\n",
      "Carregando as despesas do deputado Paulinho Freire [...]\n",
      "Despesas do deputado Paulinho Freire adicionado aos dados para análise!\n",
      "Carregando as despesas do deputado Paulo Abi-Ackel [...]\n",
      "Despesas do deputado Paulo Abi-Ackel adicionado aos dados para análise!\n",
      "Carregando as despesas do deputado Paulo Alexandre Barbosa [...]\n",
      "Despesas do deputado Paulo Alexandre Barbosa adicionado aos dados para análise!\n",
      "Carregando as despesas do deputado Paulo Azi [...]\n",
      "Despesas do deputado Paulo Azi adicionado aos dados para análise!\n",
      "Carregando as despesas do deputado Paulo Foletto [...]\n",
      "Despesas do deputado Paulo Foletto adicionado aos dados para análise!\n",
      "Carregando as despesas do deputado Paulo Freire Costa [...]\n",
      "Despesas do deputado Paulo Freire Costa adicionado aos dados para análise!\n",
      "Carregando as despesas do deputado Paulo Guedes [...]\n",
      "Despesas do deputado Paulo Guedes adicionado aos dados para análise!\n",
      "Carregando as despesas do deputado Paulo Litro [...]\n",
      "Despesas do deputado Paulo Litro adicionado aos dados para análise!\n",
      "Carregando as despesas do deputado Paulo Magalhães [...]\n",
      "Despesas do deputado Paulo Magalhães adicionado aos dados para análise!\n",
      "Carregando as despesas do deputado Pedro Aihara [...]\n",
      "Despesas do deputado Pedro Aihara adicionado aos dados para análise!\n",
      "Carregando as despesas do deputado Pedro Campos [...]\n",
      "Despesas do deputado Pedro Campos adicionado aos dados para análise!\n",
      "Carregando as despesas do deputado Pedro Lucas Fernandes [...]\n",
      "Despesas do deputado Pedro Lucas Fernandes adicionado aos dados para análise!\n",
      "Carregando as despesas do deputado Pedro Lupion [...]\n",
      "Despesas do deputado Pedro Lupion adicionado aos dados para análise!\n",
      "Carregando as despesas do deputado Pedro Paulo [...]\n",
      "Despesas do deputado Pedro Paulo adicionado aos dados para análise!\n",
      "Carregando as despesas do deputado Pedro Uczai [...]\n",
      "Despesas do deputado Pedro Uczai adicionado aos dados para análise!\n",
      "Carregando as despesas do deputado Pedro Westphalen [...]\n",
      "Despesas do deputado Pedro Westphalen adicionado aos dados para análise!\n",
      "Carregando as despesas do deputado Pezenti [...]\n",
      "Despesas do deputado Pezenti adicionado aos dados para análise!\n",
      "Carregando as despesas do deputado Pinheirinho [...]\n",
      "Despesas do deputado Pinheirinho adicionado aos dados para análise!\n",
      "Carregando as despesas do deputado Pompeo de Mattos [...]\n",
      "Despesas do deputado Pompeo de Mattos adicionado aos dados para análise!\n",
      "Carregando as despesas do deputado Pr. Marco Feliciano [...]\n",
      "Despesas do deputado Pr. Marco Feliciano adicionado aos dados para análise!\n",
      "Carregando as despesas do deputado Prof. Reginaldo Veras [...]\n",
      "Despesas do deputado Prof. Reginaldo Veras adicionado aos dados para análise!\n",
      "Carregando as despesas do deputado Professor Alcides [...]\n",
      "Despesas do deputado Professor Alcides adicionado aos dados para análise!\n",
      "Carregando as despesas do deputado Professora Goreth [...]\n",
      "Despesas do deputado Professora Goreth adicionado aos dados para análise!\n",
      "Carregando as despesas do deputado Professora Luciene Cavalcante [...]\n",
      "Despesas do deputado Professora Luciene Cavalcante adicionado aos dados para análise!\n",
      "Carregando as despesas do deputado Rafael Brito [...]\n",
      "Despesas do deputado Rafael Brito adicionado aos dados para análise!\n",
      "Carregando as despesas do deputado Rafael Prudente [...]\n",
      "Despesas do deputado Rafael Prudente adicionado aos dados para análise!\n",
      "Carregando as despesas do deputado Rafael Simoes [...]\n",
      "Despesas do deputado Rafael Simoes adicionado aos dados para análise!\n",
      "Carregando as despesas do deputado Raimundo Costa [...]\n",
      "Despesas do deputado Raimundo Costa adicionado aos dados para análise!\n",
      "Carregando as despesas do deputado Raimundo Santos [...]\n",
      "Despesas do deputado Raimundo Santos adicionado aos dados para análise!\n",
      "Carregando as despesas do deputado Reginaldo Lopes [...]\n",
      "Despesas do deputado Reginaldo Lopes adicionado aos dados para análise!\n",
      "Carregando as despesas do deputado Reginete Bispo [...]\n",
      "Despesas do deputado Reginete Bispo adicionado aos dados para análise!\n",
      "Carregando as despesas do deputado Reimont [...]\n",
      "Despesas do deputado Reimont adicionado aos dados para análise!\n",
      "Carregando as despesas do deputado Renata Abreu [...]\n",
      "Despesas do deputado Renata Abreu adicionado aos dados para análise!\n",
      "Carregando as despesas do deputado Renilce Nicodemos [...]\n",
      "Despesas do deputado Renilce Nicodemos adicionado aos dados para análise!\n",
      "Carregando as despesas do deputado Renildo Calheiros [...]\n",
      "Despesas do deputado Renildo Calheiros adicionado aos dados para análise!\n",
      "Carregando as despesas do deputado Ricardo Abrão [...]\n",
      "Despesas do deputado Ricardo Abrão adicionado aos dados para análise!\n",
      "Carregando as despesas do deputado Ricardo Ayres [...]\n",
      "Despesas do deputado Ricardo Ayres adicionado aos dados para análise!\n",
      "Carregando as despesas do deputado Ricardo Guidi [...]\n",
      "Despesas do deputado Ricardo Guidi adicionado aos dados para análise!\n",
      "Carregando as despesas do deputado Ricardo Maia [...]\n",
      "Despesas do deputado Ricardo Maia adicionado aos dados para análise!\n",
      "Carregando as despesas do deputado Ricardo Salles [...]\n",
      "Despesas do deputado Ricardo Salles adicionado aos dados para análise!\n",
      "Carregando as despesas do deputado Ricardo Silva [...]\n",
      "Despesas do deputado Ricardo Silva adicionado aos dados para análise!\n",
      "Carregando as despesas do deputado Robério Monteiro [...]\n",
      "Despesas do deputado Robério Monteiro adicionado aos dados para análise!\n",
      "Carregando as despesas do deputado Roberta Roma [...]\n",
      "Despesas do deputado Roberta Roma adicionado aos dados para análise!\n",
      "Carregando as despesas do deputado Roberto Duarte [...]\n",
      "Despesas do deputado Roberto Duarte adicionado aos dados para análise!\n",
      "Carregando as despesas do deputado Roberto Monteiro [...]\n",
      "Despesas do deputado Roberto Monteiro adicionado aos dados para análise!\n",
      "Carregando as despesas do deputado Robinson Faria [...]\n",
      "Despesas do deputado Robinson Faria adicionado aos dados para análise!\n",
      "Carregando as despesas do deputado Rodolfo Nogueira [...]\n",
      "Despesas do deputado Rodolfo Nogueira adicionado aos dados para análise!\n",
      "Carregando as despesas do deputado Rodrigo de Castro [...]\n",
      "Despesas do deputado Rodrigo de Castro adicionado aos dados para análise!\n",
      "Carregando as despesas do deputado Rodrigo Gambale [...]\n",
      "Despesas do deputado Rodrigo Gambale adicionado aos dados para análise!\n",
      "Carregando as despesas do deputado Rodrigo Valadares [...]\n",
      "Despesas do deputado Rodrigo Valadares adicionado aos dados para análise!\n",
      "Carregando as despesas do deputado Rogéria Santos [...]\n",
      "Despesas do deputado Rogéria Santos adicionado aos dados para análise!\n",
      "Carregando as despesas do deputado Rogério Correia [...]\n",
      "Despesas do deputado Rogério Correia adicionado aos dados para análise!\n",
      "Carregando as despesas do deputado Romero Rodrigues [...]\n",
      "Despesas do deputado Romero Rodrigues adicionado aos dados para análise!\n",
      "Carregando as despesas do deputado Rosana Valle [...]\n",
      "Despesas do deputado Rosana Valle adicionado aos dados para análise!\n",
      "Carregando as despesas do deputado Rosangela Gomes [...]\n",
      "Despesas do deputado Rosangela Gomes adicionado aos dados para análise!\n",
      "Carregando as despesas do deputado Rosângela Moro [...]\n",
      "Despesas do deputado Rosângela Moro adicionado aos dados para análise!\n",
      "Carregando as despesas do deputado Rosângela Reis [...]\n",
      "Despesas do deputado Rosângela Reis adicionado aos dados para análise!\n",
      "Carregando as despesas do deputado Roseana Sarney [...]\n",
      "Despesas do deputado Roseana Sarney adicionado aos dados para análise!\n",
      "Carregando as despesas do deputado Rubens Otoni [...]\n",
      "Despesas do deputado Rubens Otoni adicionado aos dados para análise!\n",
      "Carregando as despesas do deputado Rubens Pereira Júnior [...]\n",
      "Despesas do deputado Rubens Pereira Júnior adicionado aos dados para análise!\n",
      "Carregando as despesas do deputado Rui Falcão [...]\n",
      "Despesas do deputado Rui Falcão adicionado aos dados para análise!\n",
      "Carregando as despesas do deputado Ruy Carneiro [...]\n",
      "Despesas do deputado Ruy Carneiro adicionado aos dados para análise!\n",
      "Carregando as despesas do deputado Sâmia Bomfim [...]\n",
      "Despesas do deputado Sâmia Bomfim adicionado aos dados para análise!\n",
      "Carregando as despesas do deputado Samuel Viana [...]\n",
      "Despesas do deputado Samuel Viana adicionado aos dados para análise!\n",
      "Carregando as despesas do deputado Sanderson [...]\n",
      "Despesas do deputado Sanderson adicionado aos dados para análise!\n",
      "Carregando as despesas do deputado Sandro Alex [...]\n",
      "Despesas do deputado Sandro Alex adicionado aos dados para análise!\n",
      "Carregando as despesas do deputado Sargento Fahur [...]\n",
      "Despesas do deputado Sargento Fahur adicionado aos dados para análise!\n",
      "Carregando as despesas do deputado Sargento Gonçalves [...]\n",
      "Despesas do deputado Sargento Gonçalves adicionado aos dados para análise!\n",
      "Carregando as despesas do deputado Sargento Portugal [...]\n",
      "Despesas do deputado Sargento Portugal adicionado aos dados para análise!\n",
      "Carregando as despesas do deputado Saullo Vianna [...]\n",
      "Despesas do deputado Saullo Vianna adicionado aos dados para análise!\n",
      "Carregando as despesas do deputado Sérgio Brito [...]\n",
      "Despesas do deputado Sérgio Brito adicionado aos dados para análise!\n",
      "Carregando as despesas do deputado Sergio Souza [...]\n",
      "Despesas do deputado Sergio Souza adicionado aos dados para análise!\n",
      "Carregando as despesas do deputado Sidney Leite [...]\n",
      "Despesas do deputado Sidney Leite adicionado aos dados para análise!\n",
      "Carregando as despesas do deputado Silas Câmara [...]\n",
      "Despesas do deputado Silas Câmara adicionado aos dados para análise!\n",
      "Carregando as despesas do deputado Silvia Cristina [...]\n",
      "Despesas do deputado Silvia Cristina adicionado aos dados para análise!\n",
      "Carregando as despesas do deputado Silvia Waiãpi [...]\n",
      "Despesas do deputado Silvia Waiãpi adicionado aos dados para análise!\n",
      "Carregando as despesas do deputado Silvio Costa Filho [...]\n",
      "Despesas do deputado Silvio Costa Filho adicionado aos dados para análise!\n",
      "Carregando as despesas do deputado Silvye Alves [...]\n",
      "Despesas do deputado Silvye Alves adicionado aos dados para análise!\n",
      "Carregando as despesas do deputado Simone Marquetto [...]\n",
      "Despesas do deputado Simone Marquetto adicionado aos dados para análise!\n",
      "Carregando as despesas do deputado Socorro Neri [...]\n",
      "Despesas do deputado Socorro Neri adicionado aos dados para análise!\n",
      "Carregando as despesas do deputado Sonize Barbosa [...]\n",
      "Despesas do deputado Sonize Barbosa adicionado aos dados para análise!\n",
      "Carregando as despesas do deputado Soraya Santos [...]\n",
      "Despesas do deputado Soraya Santos adicionado aos dados para análise!\n",
      "Carregando as despesas do deputado Sóstenes Cavalcante [...]\n",
      "Despesas do deputado Sóstenes Cavalcante adicionado aos dados para análise!\n",
      "Carregando as despesas do deputado Stefano Aguiar [...]\n",
      "Despesas do deputado Stefano Aguiar adicionado aos dados para análise!\n",
      "Carregando as despesas do deputado Tabata Amaral [...]\n",
      "Despesas do deputado Tabata Amaral adicionado aos dados para análise!\n",
      "Carregando as despesas do deputado Tadeu Veneri [...]\n",
      "Despesas do deputado Tadeu Veneri adicionado aos dados para análise!\n",
      "Carregando as despesas do deputado Talíria Petrone [...]\n",
      "Despesas do deputado Talíria Petrone adicionado aos dados para análise!\n",
      "Carregando as despesas do deputado Tarcísio Motta [...]\n",
      "Despesas do deputado Tarcísio Motta adicionado aos dados para análise!\n",
      "Carregando as despesas do deputado Tenente Coronel Zucco [...]\n",
      "Despesas do deputado Tenente Coronel Zucco adicionado aos dados para análise!\n",
      "Carregando as despesas do deputado Thiago de Joaldo [...]\n",
      "Despesas do deputado Thiago de Joaldo adicionado aos dados para análise!\n",
      "Carregando as despesas do deputado Thiago Flores [...]\n",
      "Despesas do deputado Thiago Flores adicionado aos dados para análise!\n",
      "Carregando as despesas do deputado Tião Medeiros [...]\n",
      "Despesas do deputado Tião Medeiros adicionado aos dados para análise!\n",
      "Carregando as despesas do deputado Tiririca [...]\n",
      "Despesas do deputado Tiririca adicionado aos dados para análise!\n",
      "Carregando as despesas do deputado Toninho Wandscheer [...]\n",
      "Despesas do deputado Toninho Wandscheer adicionado aos dados para análise!\n",
      "Carregando as despesas do deputado Túlio Gadêlha [...]\n",
      "Despesas do deputado Túlio Gadêlha adicionado aos dados para análise!\n",
      "Carregando as despesas do deputado Valmir Assunção [...]\n",
      "Despesas do deputado Valmir Assunção adicionado aos dados para análise!\n",
      "Carregando as despesas do deputado Vander Loubet [...]\n",
      "Despesas do deputado Vander Loubet adicionado aos dados para análise!\n",
      "Carregando as despesas do deputado Vermelho [...]\n",
      "Despesas do deputado Vermelho adicionado aos dados para análise!\n",
      "Carregando as despesas do deputado Vicentinho [...]\n",
      "Despesas do deputado Vicentinho adicionado aos dados para análise!\n",
      "Carregando as despesas do deputado Vicentinho Júnior [...]\n",
      "Despesas do deputado Vicentinho Júnior adicionado aos dados para análise!\n",
      "Carregando as despesas do deputado Vinicius Carvalho [...]\n",
      "Despesas do deputado Vinicius Carvalho adicionado aos dados para análise!\n",
      "Carregando as despesas do deputado Vinicius Gurgel [...]\n",
      "Despesas do deputado Vinicius Gurgel adicionado aos dados para análise!\n",
      "Carregando as despesas do deputado Vitor Lippi [...]\n",
      "Despesas do deputado Vitor Lippi adicionado aos dados para análise!\n",
      "Carregando as despesas do deputado Waldemar Oliveira [...]\n",
      "Despesas do deputado Waldemar Oliveira adicionado aos dados para análise!\n",
      "Carregando as despesas do deputado Waldenor Pereira [...]\n",
      "Despesas do deputado Waldenor Pereira adicionado aos dados para análise!\n",
      "Carregando as despesas do deputado Washington Quaquá [...]\n",
      "Despesas do deputado Washington Quaquá adicionado aos dados para análise!\n",
      "Carregando as despesas do deputado Weliton Prado [...]\n",
      "Despesas do deputado Weliton Prado adicionado aos dados para análise!\n",
      "Carregando as despesas do deputado Wellington Roberto [...]\n",
      "Despesas do deputado Wellington Roberto adicionado aos dados para análise!\n",
      "Carregando as despesas do deputado Wilson Santiago [...]\n",
      "Despesas do deputado Wilson Santiago adicionado aos dados para análise!\n",
      "Carregando as despesas do deputado Yandra Moura [...]\n",
      "Despesas do deputado Yandra Moura adicionado aos dados para análise!\n",
      "Carregando as despesas do deputado Yury do Paredão [...]\n",
      "Despesas do deputado Yury do Paredão adicionado aos dados para análise!\n",
      "Carregando as despesas do deputado Zé Haroldo Cathedral [...]\n",
      "Despesas do deputado Zé Haroldo Cathedral adicionado aos dados para análise!\n",
      "Carregando as despesas do deputado Zé Neto [...]\n",
      "Despesas do deputado Zé Neto adicionado aos dados para análise!\n",
      "Carregando as despesas do deputado Zé Silva [...]\n",
      "Despesas do deputado Zé Silva adicionado aos dados para análise!\n",
      "Carregando as despesas do deputado Zé Trovão [...]\n",
      "Despesas do deputado Zé Trovão adicionado aos dados para análise!\n",
      "Carregando as despesas do deputado Zé Vitor [...]\n",
      "Despesas do deputado Zé Vitor adicionado aos dados para análise!\n",
      "Carregando as despesas do deputado Zeca Dirceu [...]\n",
      "Despesas do deputado Zeca Dirceu adicionado aos dados para análise!\n",
      "Carregando as despesas do deputado Zezinho Barbary [...]\n",
      "Despesas do deputado Zezinho Barbary adicionado aos dados para análise!\n"
     ]
    }
   ],
   "source": [
    "contador = 0\n",
    "df = pd.DataFrame()\n",
    "for requisicao in range(0,512):\n",
    "    print('Carregando as despesas do deputado {} [...]'.format(df_deputados_nome[contador]))\n",
    "    response_despesas = requests.get('https://dadosabertos.camara.leg.br/api/v2/deputados/{}/despesas?ano=2020&ano=2021&ano=2022&ano=2023&ordem=ASC&ordenarPor=ano'.format(df_deputados_id[contador]))\n",
    "    dados = response_despesas.json()\n",
    "    df_despesas = pd.DataFrame(dados['dados'])\n",
    "    df_despesas['nome_deputado'] = df_deputados_nome[contador]\n",
    "    df = pd.concat([df, df_despesas])\n",
    "    print('Despesas do deputado {} adicionado aos dados para análise!'.format(df_deputados_nome[contador]))\n",
    "    contador = contador + 1"
   ]
  },
  {
   "cell_type": "code",
   "execution_count": 93,
   "metadata": {},
   "outputs": [
    {
     "data": {
      "text/html": [
       "<div>\n",
       "<style scoped>\n",
       "    .dataframe tbody tr th:only-of-type {\n",
       "        vertical-align: middle;\n",
       "    }\n",
       "\n",
       "    .dataframe tbody tr th {\n",
       "        vertical-align: top;\n",
       "    }\n",
       "\n",
       "    .dataframe thead th {\n",
       "        text-align: right;\n",
       "    }\n",
       "</style>\n",
       "<table border=\"1\" class=\"dataframe\">\n",
       "  <thead>\n",
       "    <tr style=\"text-align: right;\">\n",
       "      <th></th>\n",
       "      <th>nome_deputado</th>\n",
       "      <th>ano</th>\n",
       "      <th>mes</th>\n",
       "      <th>tipoDespesa</th>\n",
       "      <th>codDocumento</th>\n",
       "      <th>tipoDocumento</th>\n",
       "      <th>codTipoDocumento</th>\n",
       "      <th>dataDocumento</th>\n",
       "      <th>numDocumento</th>\n",
       "      <th>valorDocumento</th>\n",
       "      <th>urlDocumento</th>\n",
       "      <th>nomeFornecedor</th>\n",
       "      <th>cnpjCpfFornecedor</th>\n",
       "      <th>valorLiquido</th>\n",
       "      <th>valorGlosa</th>\n",
       "      <th>numRessarcimento</th>\n",
       "      <th>codLote</th>\n",
       "      <th>parcela</th>\n",
       "    </tr>\n",
       "  </thead>\n",
       "  <tbody>\n",
       "    <tr>\n",
       "      <th>0</th>\n",
       "      <td>Acácio Favacho</td>\n",
       "      <td>2020.0</td>\n",
       "      <td>2.0</td>\n",
       "      <td>MANUTENÇÃO DE ESCRITÓRIO DE APOIO À ATIVIDADE ...</td>\n",
       "      <td>7018213.0</td>\n",
       "      <td>Nota Fiscal Eletrônica</td>\n",
       "      <td>4.0</td>\n",
       "      <td>2020-02-18</td>\n",
       "      <td>1790</td>\n",
       "      <td>145.00</td>\n",
       "      <td>http://www.camara.leg.br/cota-parlamentar/nota...</td>\n",
       "      <td>BEL PONTO BORDADOS E CONFECCOES LTDA</td>\n",
       "      <td>00849026000109</td>\n",
       "      <td>145.00</td>\n",
       "      <td>0.0</td>\n",
       "      <td></td>\n",
       "      <td>1678271.0</td>\n",
       "      <td>0.0</td>\n",
       "    </tr>\n",
       "    <tr>\n",
       "      <th>1</th>\n",
       "      <td>Acácio Favacho</td>\n",
       "      <td>2020.0</td>\n",
       "      <td>6.0</td>\n",
       "      <td>MANUTENÇÃO DE ESCRITÓRIO DE APOIO À ATIVIDADE ...</td>\n",
       "      <td>7065252.0</td>\n",
       "      <td>Nota Fiscal Eletrônica</td>\n",
       "      <td>4.0</td>\n",
       "      <td>2020-06-16</td>\n",
       "      <td>545</td>\n",
       "      <td>229.00</td>\n",
       "      <td>http://www.camara.leg.br/cota-parlamentar/nota...</td>\n",
       "      <td>COMERCIAL DE SERVICOS UNIAO LTDA ME</td>\n",
       "      <td>05807200000174</td>\n",
       "      <td>229.00</td>\n",
       "      <td>0.0</td>\n",
       "      <td></td>\n",
       "      <td>1702259.0</td>\n",
       "      <td>0.0</td>\n",
       "    </tr>\n",
       "    <tr>\n",
       "      <th>2</th>\n",
       "      <td>Acácio Favacho</td>\n",
       "      <td>2020.0</td>\n",
       "      <td>2.0</td>\n",
       "      <td>MANUTENÇÃO DE ESCRITÓRIO DE APOIO À ATIVIDADE ...</td>\n",
       "      <td>7031733.0</td>\n",
       "      <td>Nota Fiscal</td>\n",
       "      <td>0.0</td>\n",
       "      <td>2020-03-03</td>\n",
       "      <td>417246</td>\n",
       "      <td>268.40</td>\n",
       "      <td>https://www.camara.leg.br/cota-parlamentar/doc...</td>\n",
       "      <td>EDVALDO FRANCISCO DE OLIVEIRA</td>\n",
       "      <td>32373812000179</td>\n",
       "      <td>268.40</td>\n",
       "      <td>0.0</td>\n",
       "      <td></td>\n",
       "      <td>1684292.0</td>\n",
       "      <td>0.0</td>\n",
       "    </tr>\n",
       "    <tr>\n",
       "      <th>3</th>\n",
       "      <td>Acácio Favacho</td>\n",
       "      <td>2020.0</td>\n",
       "      <td>1.0</td>\n",
       "      <td>COMBUSTÍVEIS E LUBRIFICANTES.</td>\n",
       "      <td>6993481.0</td>\n",
       "      <td>Nota Fiscal Eletrônica</td>\n",
       "      <td>4.0</td>\n",
       "      <td>2020-01-06</td>\n",
       "      <td>479</td>\n",
       "      <td>3600.00</td>\n",
       "      <td>http://www.camara.leg.br/cota-parlamentar/nota...</td>\n",
       "      <td>A C CAMBRAIA LTDA</td>\n",
       "      <td>23068984000571</td>\n",
       "      <td>3600.00</td>\n",
       "      <td>0.0</td>\n",
       "      <td></td>\n",
       "      <td>1666719.0</td>\n",
       "      <td>0.0</td>\n",
       "    </tr>\n",
       "    <tr>\n",
       "      <th>4</th>\n",
       "      <td>Acácio Favacho</td>\n",
       "      <td>2020.0</td>\n",
       "      <td>8.0</td>\n",
       "      <td>COMBUSTÍVEIS E LUBRIFICANTES.</td>\n",
       "      <td>7090596.0</td>\n",
       "      <td>Nota Fiscal Eletrônica</td>\n",
       "      <td>4.0</td>\n",
       "      <td>2020-08-03</td>\n",
       "      <td>128126</td>\n",
       "      <td>200.02</td>\n",
       "      <td>http://www.camara.leg.br/cota-parlamentar/nota...</td>\n",
       "      <td>AUTO POSTO 306 NORTE LTDA</td>\n",
       "      <td>22398818000147</td>\n",
       "      <td>200.02</td>\n",
       "      <td>0.0</td>\n",
       "      <td></td>\n",
       "      <td>1715262.0</td>\n",
       "      <td>0.0</td>\n",
       "    </tr>\n",
       "    <tr>\n",
       "      <th>...</th>\n",
       "      <td>...</td>\n",
       "      <td>...</td>\n",
       "      <td>...</td>\n",
       "      <td>...</td>\n",
       "      <td>...</td>\n",
       "      <td>...</td>\n",
       "      <td>...</td>\n",
       "      <td>...</td>\n",
       "      <td>...</td>\n",
       "      <td>...</td>\n",
       "      <td>...</td>\n",
       "      <td>...</td>\n",
       "      <td>...</td>\n",
       "      <td>...</td>\n",
       "      <td>...</td>\n",
       "      <td>...</td>\n",
       "      <td>...</td>\n",
       "      <td>...</td>\n",
       "    </tr>\n",
       "    <tr>\n",
       "      <th>10</th>\n",
       "      <td>Zeca Dirceu</td>\n",
       "      <td>2020.0</td>\n",
       "      <td>7.0</td>\n",
       "      <td>MANUTENÇÃO DE ESCRITÓRIO DE APOIO À ATIVIDADE ...</td>\n",
       "      <td>7092392.0</td>\n",
       "      <td>Recibos/Outros</td>\n",
       "      <td>1.0</td>\n",
       "      <td>2020-07-31</td>\n",
       "      <td>sn</td>\n",
       "      <td>1300.00</td>\n",
       "      <td>https://www.camara.leg.br/cota-parlamentar/doc...</td>\n",
       "      <td>Antonio Peguim</td>\n",
       "      <td>04312880972</td>\n",
       "      <td>1300.00</td>\n",
       "      <td>0.0</td>\n",
       "      <td></td>\n",
       "      <td>1716367.0</td>\n",
       "      <td>0.0</td>\n",
       "    </tr>\n",
       "    <tr>\n",
       "      <th>11</th>\n",
       "      <td>Zeca Dirceu</td>\n",
       "      <td>2020.0</td>\n",
       "      <td>8.0</td>\n",
       "      <td>MANUTENÇÃO DE ESCRITÓRIO DE APOIO À ATIVIDADE ...</td>\n",
       "      <td>7092393.0</td>\n",
       "      <td>Recibos/Outros</td>\n",
       "      <td>1.0</td>\n",
       "      <td>2020-08-30</td>\n",
       "      <td>sn</td>\n",
       "      <td>1300.00</td>\n",
       "      <td>https://www.camara.leg.br/cota-parlamentar/doc...</td>\n",
       "      <td>Antonio Peguim</td>\n",
       "      <td>04312880972</td>\n",
       "      <td>1300.00</td>\n",
       "      <td>0.0</td>\n",
       "      <td></td>\n",
       "      <td>1716365.0</td>\n",
       "      <td>0.0</td>\n",
       "    </tr>\n",
       "    <tr>\n",
       "      <th>12</th>\n",
       "      <td>Zeca Dirceu</td>\n",
       "      <td>2020.0</td>\n",
       "      <td>1.0</td>\n",
       "      <td>MANUTENÇÃO DE ESCRITÓRIO DE APOIO À ATIVIDADE ...</td>\n",
       "      <td>7019946.0</td>\n",
       "      <td>Nota Fiscal</td>\n",
       "      <td>0.0</td>\n",
       "      <td>2020-01-24</td>\n",
       "      <td>118003178</td>\n",
       "      <td>235.28</td>\n",
       "      <td>https://www.camara.leg.br/cota-parlamentar/doc...</td>\n",
       "      <td>Copel Distribuição S.A.</td>\n",
       "      <td>04368898000106</td>\n",
       "      <td>235.28</td>\n",
       "      <td>0.0</td>\n",
       "      <td></td>\n",
       "      <td>1679618.0</td>\n",
       "      <td>0.0</td>\n",
       "    </tr>\n",
       "    <tr>\n",
       "      <th>13</th>\n",
       "      <td>Zeca Dirceu</td>\n",
       "      <td>2020.0</td>\n",
       "      <td>2.0</td>\n",
       "      <td>MANUTENÇÃO DE ESCRITÓRIO DE APOIO À ATIVIDADE ...</td>\n",
       "      <td>7044385.0</td>\n",
       "      <td>Nota Fiscal</td>\n",
       "      <td>0.0</td>\n",
       "      <td>2020-02-22</td>\n",
       "      <td>122568208</td>\n",
       "      <td>464.77</td>\n",
       "      <td>https://www.camara.leg.br/cota-parlamentar/doc...</td>\n",
       "      <td>Copel Distribuição S.A.</td>\n",
       "      <td>04368898000106</td>\n",
       "      <td>464.77</td>\n",
       "      <td>0.0</td>\n",
       "      <td></td>\n",
       "      <td>1690671.0</td>\n",
       "      <td>0.0</td>\n",
       "    </tr>\n",
       "    <tr>\n",
       "      <th>14</th>\n",
       "      <td>Zeca Dirceu</td>\n",
       "      <td>2020.0</td>\n",
       "      <td>3.0</td>\n",
       "      <td>MANUTENÇÃO DE ESCRITÓRIO DE APOIO À ATIVIDADE ...</td>\n",
       "      <td>7044386.0</td>\n",
       "      <td>Nota Fiscal</td>\n",
       "      <td>0.0</td>\n",
       "      <td>2020-03-25</td>\n",
       "      <td>127660788</td>\n",
       "      <td>514.11</td>\n",
       "      <td>https://www.camara.leg.br/cota-parlamentar/doc...</td>\n",
       "      <td>Copel Distribuição S.A.</td>\n",
       "      <td>04368898000106</td>\n",
       "      <td>514.11</td>\n",
       "      <td>0.0</td>\n",
       "      <td></td>\n",
       "      <td>1690672.0</td>\n",
       "      <td>0.0</td>\n",
       "    </tr>\n",
       "  </tbody>\n",
       "</table>\n",
       "<p>4342 rows × 18 columns</p>\n",
       "</div>"
      ],
      "text/plain": [
       "     nome_deputado     ano  mes  \\\n",
       "0   Acácio Favacho  2020.0  2.0   \n",
       "1   Acácio Favacho  2020.0  6.0   \n",
       "2   Acácio Favacho  2020.0  2.0   \n",
       "3   Acácio Favacho  2020.0  1.0   \n",
       "4   Acácio Favacho  2020.0  8.0   \n",
       "..             ...     ...  ...   \n",
       "10     Zeca Dirceu  2020.0  7.0   \n",
       "11     Zeca Dirceu  2020.0  8.0   \n",
       "12     Zeca Dirceu  2020.0  1.0   \n",
       "13     Zeca Dirceu  2020.0  2.0   \n",
       "14     Zeca Dirceu  2020.0  3.0   \n",
       "\n",
       "                                          tipoDespesa  codDocumento  \\\n",
       "0   MANUTENÇÃO DE ESCRITÓRIO DE APOIO À ATIVIDADE ...     7018213.0   \n",
       "1   MANUTENÇÃO DE ESCRITÓRIO DE APOIO À ATIVIDADE ...     7065252.0   \n",
       "2   MANUTENÇÃO DE ESCRITÓRIO DE APOIO À ATIVIDADE ...     7031733.0   \n",
       "3                       COMBUSTÍVEIS E LUBRIFICANTES.     6993481.0   \n",
       "4                       COMBUSTÍVEIS E LUBRIFICANTES.     7090596.0   \n",
       "..                                                ...           ...   \n",
       "10  MANUTENÇÃO DE ESCRITÓRIO DE APOIO À ATIVIDADE ...     7092392.0   \n",
       "11  MANUTENÇÃO DE ESCRITÓRIO DE APOIO À ATIVIDADE ...     7092393.0   \n",
       "12  MANUTENÇÃO DE ESCRITÓRIO DE APOIO À ATIVIDADE ...     7019946.0   \n",
       "13  MANUTENÇÃO DE ESCRITÓRIO DE APOIO À ATIVIDADE ...     7044385.0   \n",
       "14  MANUTENÇÃO DE ESCRITÓRIO DE APOIO À ATIVIDADE ...     7044386.0   \n",
       "\n",
       "             tipoDocumento  codTipoDocumento dataDocumento numDocumento  \\\n",
       "0   Nota Fiscal Eletrônica               4.0    2020-02-18         1790   \n",
       "1   Nota Fiscal Eletrônica               4.0    2020-06-16          545   \n",
       "2              Nota Fiscal               0.0    2020-03-03       417246   \n",
       "3   Nota Fiscal Eletrônica               4.0    2020-01-06          479   \n",
       "4   Nota Fiscal Eletrônica               4.0    2020-08-03       128126   \n",
       "..                     ...               ...           ...          ...   \n",
       "10          Recibos/Outros               1.0    2020-07-31           sn   \n",
       "11          Recibos/Outros               1.0    2020-08-30           sn   \n",
       "12             Nota Fiscal               0.0    2020-01-24    118003178   \n",
       "13             Nota Fiscal               0.0    2020-02-22    122568208   \n",
       "14             Nota Fiscal               0.0    2020-03-25    127660788   \n",
       "\n",
       "    valorDocumento                                       urlDocumento  \\\n",
       "0           145.00  http://www.camara.leg.br/cota-parlamentar/nota...   \n",
       "1           229.00  http://www.camara.leg.br/cota-parlamentar/nota...   \n",
       "2           268.40  https://www.camara.leg.br/cota-parlamentar/doc...   \n",
       "3          3600.00  http://www.camara.leg.br/cota-parlamentar/nota...   \n",
       "4           200.02  http://www.camara.leg.br/cota-parlamentar/nota...   \n",
       "..             ...                                                ...   \n",
       "10         1300.00  https://www.camara.leg.br/cota-parlamentar/doc...   \n",
       "11         1300.00  https://www.camara.leg.br/cota-parlamentar/doc...   \n",
       "12          235.28  https://www.camara.leg.br/cota-parlamentar/doc...   \n",
       "13          464.77  https://www.camara.leg.br/cota-parlamentar/doc...   \n",
       "14          514.11  https://www.camara.leg.br/cota-parlamentar/doc...   \n",
       "\n",
       "                          nomeFornecedor cnpjCpfFornecedor  valorLiquido  \\\n",
       "0   BEL PONTO BORDADOS E CONFECCOES LTDA    00849026000109        145.00   \n",
       "1    COMERCIAL DE SERVICOS UNIAO LTDA ME    05807200000174        229.00   \n",
       "2          EDVALDO FRANCISCO DE OLIVEIRA    32373812000179        268.40   \n",
       "3                      A C CAMBRAIA LTDA    23068984000571       3600.00   \n",
       "4              AUTO POSTO 306 NORTE LTDA    22398818000147        200.02   \n",
       "..                                   ...               ...           ...   \n",
       "10                        Antonio Peguim       04312880972       1300.00   \n",
       "11                        Antonio Peguim       04312880972       1300.00   \n",
       "12               Copel Distribuição S.A.    04368898000106        235.28   \n",
       "13               Copel Distribuição S.A.    04368898000106        464.77   \n",
       "14               Copel Distribuição S.A.    04368898000106        514.11   \n",
       "\n",
       "    valorGlosa numRessarcimento    codLote  parcela  \n",
       "0          0.0                   1678271.0      0.0  \n",
       "1          0.0                   1702259.0      0.0  \n",
       "2          0.0                   1684292.0      0.0  \n",
       "3          0.0                   1666719.0      0.0  \n",
       "4          0.0                   1715262.0      0.0  \n",
       "..         ...              ...        ...      ...  \n",
       "10         0.0                   1716367.0      0.0  \n",
       "11         0.0                   1716365.0      0.0  \n",
       "12         0.0                   1679618.0      0.0  \n",
       "13         0.0                   1690671.0      0.0  \n",
       "14         0.0                   1690672.0      0.0  \n",
       "\n",
       "[4342 rows x 18 columns]"
      ]
     },
     "metadata": {},
     "output_type": "display_data"
    }
   ],
   "source": [
    "display(df)"
   ]
  },
  {
   "cell_type": "code",
   "execution_count": 95,
   "metadata": {},
   "outputs": [
    {
     "data": {
      "text/html": [
       "<div>\n",
       "<style scoped>\n",
       "    .dataframe tbody tr th:only-of-type {\n",
       "        vertical-align: middle;\n",
       "    }\n",
       "\n",
       "    .dataframe tbody tr th {\n",
       "        vertical-align: top;\n",
       "    }\n",
       "\n",
       "    .dataframe thead th {\n",
       "        text-align: right;\n",
       "    }\n",
       "</style>\n",
       "<table border=\"1\" class=\"dataframe\">\n",
       "  <thead>\n",
       "    <tr style=\"text-align: right;\">\n",
       "      <th></th>\n",
       "      <th>tipoDespesa</th>\n",
       "      <th>ano</th>\n",
       "      <th>mes</th>\n",
       "      <th>codDocumento</th>\n",
       "      <th>codTipoDocumento</th>\n",
       "      <th>valorDocumento</th>\n",
       "      <th>valorLiquido</th>\n",
       "      <th>valorGlosa</th>\n",
       "      <th>codLote</th>\n",
       "      <th>parcela</th>\n",
       "    </tr>\n",
       "  </thead>\n",
       "  <tbody>\n",
       "    <tr>\n",
       "      <th>0</th>\n",
       "      <td>COMBUSTÍVEIS E LUBRIFICANTES.</td>\n",
       "      <td>1446410.0</td>\n",
       "      <td>4605.0</td>\n",
       "      <td>5.079023e+09</td>\n",
       "      <td>1709.0</td>\n",
       "      <td>610180.84</td>\n",
       "      <td>602267.33</td>\n",
       "      <td>7913.51</td>\n",
       "      <td>1.228386e+09</td>\n",
       "      <td>0.0</td>\n",
       "    </tr>\n",
       "    <tr>\n",
       "      <th>1</th>\n",
       "      <td>CONSULTORIAS, PESQUISAS E TRABALHOS TÉCNICOS.</td>\n",
       "      <td>181812.0</td>\n",
       "      <td>641.0</td>\n",
       "      <td>6.393504e+08</td>\n",
       "      <td>176.0</td>\n",
       "      <td>1521000.00</td>\n",
       "      <td>1521000.00</td>\n",
       "      <td>0.00</td>\n",
       "      <td>1.548395e+08</td>\n",
       "      <td>0.0</td>\n",
       "    </tr>\n",
       "    <tr>\n",
       "      <th>2</th>\n",
       "      <td>DIVULGAÇÃO DA ATIVIDADE PARLAMENTAR.</td>\n",
       "      <td>264623.0</td>\n",
       "      <td>810.0</td>\n",
       "      <td>9.269072e+08</td>\n",
       "      <td>28.0</td>\n",
       "      <td>1149662.18</td>\n",
       "      <td>1143533.17</td>\n",
       "      <td>6129.01</td>\n",
       "      <td>2.236049e+08</td>\n",
       "      <td>0.0</td>\n",
       "    </tr>\n",
       "    <tr>\n",
       "      <th>3</th>\n",
       "      <td>MANUTENÇÃO DE ESCRITÓRIO DE APOIO À ATIVIDADE ...</td>\n",
       "      <td>6605520.0</td>\n",
       "      <td>19417.0</td>\n",
       "      <td>2.314043e+10</td>\n",
       "      <td>2734.0</td>\n",
       "      <td>4197542.16</td>\n",
       "      <td>4172257.04</td>\n",
       "      <td>25008.07</td>\n",
       "      <td>5.583305e+09</td>\n",
       "      <td>0.0</td>\n",
       "    </tr>\n",
       "    <tr>\n",
       "      <th>4</th>\n",
       "      <td>PASSAGEM AÉREA - REEMBOLSO</td>\n",
       "      <td>40402.0</td>\n",
       "      <td>204.0</td>\n",
       "      <td>1.425695e+08</td>\n",
       "      <td>33.0</td>\n",
       "      <td>27022.45</td>\n",
       "      <td>27022.45</td>\n",
       "      <td>0.00</td>\n",
       "      <td>3.466138e+07</td>\n",
       "      <td>0.0</td>\n",
       "    </tr>\n",
       "    <tr>\n",
       "      <th>5</th>\n",
       "      <td>PASSAGEM AÉREA - RPA</td>\n",
       "      <td>4040.0</td>\n",
       "      <td>2.0</td>\n",
       "      <td>3.448831e+06</td>\n",
       "      <td>0.0</td>\n",
       "      <td>2475.60</td>\n",
       "      <td>2475.60</td>\n",
       "      <td>0.00</td>\n",
       "      <td>0.000000e+00</td>\n",
       "      <td>0.0</td>\n",
       "    </tr>\n",
       "    <tr>\n",
       "      <th>6</th>\n",
       "      <td>PASSAGEM AÉREA - SIGEPA</td>\n",
       "      <td>8080.0</td>\n",
       "      <td>47.0</td>\n",
       "      <td>8.528000e+04</td>\n",
       "      <td>0.0</td>\n",
       "      <td>3917.30</td>\n",
       "      <td>3917.30</td>\n",
       "      <td>0.00</td>\n",
       "      <td>0.000000e+00</td>\n",
       "      <td>0.0</td>\n",
       "    </tr>\n",
       "    <tr>\n",
       "      <th>7</th>\n",
       "      <td>SERVIÇOS POSTAIS</td>\n",
       "      <td>26263.0</td>\n",
       "      <td>98.0</td>\n",
       "      <td>0.000000e+00</td>\n",
       "      <td>13.0</td>\n",
       "      <td>1044.68</td>\n",
       "      <td>1044.68</td>\n",
       "      <td>0.00</td>\n",
       "      <td>0.000000e+00</td>\n",
       "      <td>0.0</td>\n",
       "    </tr>\n",
       "    <tr>\n",
       "      <th>8</th>\n",
       "      <td>TELEFONIA</td>\n",
       "      <td>193941.0</td>\n",
       "      <td>602.0</td>\n",
       "      <td>5.639566e+07</td>\n",
       "      <td>0.0</td>\n",
       "      <td>12456.94</td>\n",
       "      <td>12154.32</td>\n",
       "      <td>150.76</td>\n",
       "      <td>1.355526e+07</td>\n",
       "      <td>0.0</td>\n",
       "    </tr>\n",
       "  </tbody>\n",
       "</table>\n",
       "</div>"
      ],
      "text/plain": [
       "                                         tipoDespesa        ano      mes  \\\n",
       "0                      COMBUSTÍVEIS E LUBRIFICANTES.  1446410.0   4605.0   \n",
       "1      CONSULTORIAS, PESQUISAS E TRABALHOS TÉCNICOS.   181812.0    641.0   \n",
       "2               DIVULGAÇÃO DA ATIVIDADE PARLAMENTAR.   264623.0    810.0   \n",
       "3  MANUTENÇÃO DE ESCRITÓRIO DE APOIO À ATIVIDADE ...  6605520.0  19417.0   \n",
       "4                         PASSAGEM AÉREA - REEMBOLSO    40402.0    204.0   \n",
       "5                               PASSAGEM AÉREA - RPA     4040.0      2.0   \n",
       "6                            PASSAGEM AÉREA - SIGEPA     8080.0     47.0   \n",
       "7                                   SERVIÇOS POSTAIS    26263.0     98.0   \n",
       "8                                          TELEFONIA   193941.0    602.0   \n",
       "\n",
       "   codDocumento  codTipoDocumento  valorDocumento  valorLiquido  valorGlosa  \\\n",
       "0  5.079023e+09            1709.0       610180.84     602267.33     7913.51   \n",
       "1  6.393504e+08             176.0      1521000.00    1521000.00        0.00   \n",
       "2  9.269072e+08              28.0      1149662.18    1143533.17     6129.01   \n",
       "3  2.314043e+10            2734.0      4197542.16    4172257.04    25008.07   \n",
       "4  1.425695e+08              33.0        27022.45      27022.45        0.00   \n",
       "5  3.448831e+06               0.0         2475.60       2475.60        0.00   \n",
       "6  8.528000e+04               0.0         3917.30       3917.30        0.00   \n",
       "7  0.000000e+00              13.0         1044.68       1044.68        0.00   \n",
       "8  5.639566e+07               0.0        12456.94      12154.32      150.76   \n",
       "\n",
       "        codLote  parcela  \n",
       "0  1.228386e+09      0.0  \n",
       "1  1.548395e+08      0.0  \n",
       "2  2.236049e+08      0.0  \n",
       "3  5.583305e+09      0.0  \n",
       "4  3.466138e+07      0.0  \n",
       "5  0.000000e+00      0.0  \n",
       "6  0.000000e+00      0.0  \n",
       "7  0.000000e+00      0.0  \n",
       "8  1.355526e+07      0.0  "
      ]
     },
     "metadata": {},
     "output_type": "display_data"
    },
    {
     "data": {
      "application/vnd.plotly.v1+json": {
       "config": {
        "plotlyServerURL": "https://plot.ly"
       },
       "data": [
        {
         "alignmentgroup": "True",
         "hovertemplate": "tipoDespesa=%{x}<br>valorLiquido=%{y}<extra></extra>",
         "legendgroup": "",
         "marker": {
          "color": "#636efa",
          "pattern": {
           "shape": ""
          }
         },
         "name": "",
         "offsetgroup": "",
         "orientation": "v",
         "showlegend": false,
         "textposition": "auto",
         "type": "bar",
         "x": [
          "COMBUSTÍVEIS E LUBRIFICANTES.",
          "CONSULTORIAS, PESQUISAS E TRABALHOS TÉCNICOS.",
          "DIVULGAÇÃO DA ATIVIDADE PARLAMENTAR.",
          "MANUTENÇÃO DE ESCRITÓRIO DE APOIO À ATIVIDADE PARLAMENTAR",
          "PASSAGEM AÉREA - REEMBOLSO",
          "PASSAGEM AÉREA - RPA",
          "PASSAGEM AÉREA - SIGEPA",
          "SERVIÇOS POSTAIS",
          "TELEFONIA"
         ],
         "xaxis": "x",
         "y": [
          602267.33,
          1521000,
          1143533.17,
          4172257.04,
          27022.45,
          2475.6,
          3917.3,
          1044.68,
          12154.32
         ],
         "yaxis": "y"
        }
       ],
       "layout": {
        "barmode": "relative",
        "legend": {
         "tracegroupgap": 0
        },
        "margin": {
         "t": 60
        },
        "template": {
         "data": {
          "bar": [
           {
            "error_x": {
             "color": "#2a3f5f"
            },
            "error_y": {
             "color": "#2a3f5f"
            },
            "marker": {
             "line": {
              "color": "#E5ECF6",
              "width": 0.5
             },
             "pattern": {
              "fillmode": "overlay",
              "size": 10,
              "solidity": 0.2
             }
            },
            "type": "bar"
           }
          ],
          "barpolar": [
           {
            "marker": {
             "line": {
              "color": "#E5ECF6",
              "width": 0.5
             },
             "pattern": {
              "fillmode": "overlay",
              "size": 10,
              "solidity": 0.2
             }
            },
            "type": "barpolar"
           }
          ],
          "carpet": [
           {
            "aaxis": {
             "endlinecolor": "#2a3f5f",
             "gridcolor": "white",
             "linecolor": "white",
             "minorgridcolor": "white",
             "startlinecolor": "#2a3f5f"
            },
            "baxis": {
             "endlinecolor": "#2a3f5f",
             "gridcolor": "white",
             "linecolor": "white",
             "minorgridcolor": "white",
             "startlinecolor": "#2a3f5f"
            },
            "type": "carpet"
           }
          ],
          "choropleth": [
           {
            "colorbar": {
             "outlinewidth": 0,
             "ticks": ""
            },
            "type": "choropleth"
           }
          ],
          "contour": [
           {
            "colorbar": {
             "outlinewidth": 0,
             "ticks": ""
            },
            "colorscale": [
             [
              0,
              "#0d0887"
             ],
             [
              0.1111111111111111,
              "#46039f"
             ],
             [
              0.2222222222222222,
              "#7201a8"
             ],
             [
              0.3333333333333333,
              "#9c179e"
             ],
             [
              0.4444444444444444,
              "#bd3786"
             ],
             [
              0.5555555555555556,
              "#d8576b"
             ],
             [
              0.6666666666666666,
              "#ed7953"
             ],
             [
              0.7777777777777778,
              "#fb9f3a"
             ],
             [
              0.8888888888888888,
              "#fdca26"
             ],
             [
              1,
              "#f0f921"
             ]
            ],
            "type": "contour"
           }
          ],
          "contourcarpet": [
           {
            "colorbar": {
             "outlinewidth": 0,
             "ticks": ""
            },
            "type": "contourcarpet"
           }
          ],
          "heatmap": [
           {
            "colorbar": {
             "outlinewidth": 0,
             "ticks": ""
            },
            "colorscale": [
             [
              0,
              "#0d0887"
             ],
             [
              0.1111111111111111,
              "#46039f"
             ],
             [
              0.2222222222222222,
              "#7201a8"
             ],
             [
              0.3333333333333333,
              "#9c179e"
             ],
             [
              0.4444444444444444,
              "#bd3786"
             ],
             [
              0.5555555555555556,
              "#d8576b"
             ],
             [
              0.6666666666666666,
              "#ed7953"
             ],
             [
              0.7777777777777778,
              "#fb9f3a"
             ],
             [
              0.8888888888888888,
              "#fdca26"
             ],
             [
              1,
              "#f0f921"
             ]
            ],
            "type": "heatmap"
           }
          ],
          "heatmapgl": [
           {
            "colorbar": {
             "outlinewidth": 0,
             "ticks": ""
            },
            "colorscale": [
             [
              0,
              "#0d0887"
             ],
             [
              0.1111111111111111,
              "#46039f"
             ],
             [
              0.2222222222222222,
              "#7201a8"
             ],
             [
              0.3333333333333333,
              "#9c179e"
             ],
             [
              0.4444444444444444,
              "#bd3786"
             ],
             [
              0.5555555555555556,
              "#d8576b"
             ],
             [
              0.6666666666666666,
              "#ed7953"
             ],
             [
              0.7777777777777778,
              "#fb9f3a"
             ],
             [
              0.8888888888888888,
              "#fdca26"
             ],
             [
              1,
              "#f0f921"
             ]
            ],
            "type": "heatmapgl"
           }
          ],
          "histogram": [
           {
            "marker": {
             "pattern": {
              "fillmode": "overlay",
              "size": 10,
              "solidity": 0.2
             }
            },
            "type": "histogram"
           }
          ],
          "histogram2d": [
           {
            "colorbar": {
             "outlinewidth": 0,
             "ticks": ""
            },
            "colorscale": [
             [
              0,
              "#0d0887"
             ],
             [
              0.1111111111111111,
              "#46039f"
             ],
             [
              0.2222222222222222,
              "#7201a8"
             ],
             [
              0.3333333333333333,
              "#9c179e"
             ],
             [
              0.4444444444444444,
              "#bd3786"
             ],
             [
              0.5555555555555556,
              "#d8576b"
             ],
             [
              0.6666666666666666,
              "#ed7953"
             ],
             [
              0.7777777777777778,
              "#fb9f3a"
             ],
             [
              0.8888888888888888,
              "#fdca26"
             ],
             [
              1,
              "#f0f921"
             ]
            ],
            "type": "histogram2d"
           }
          ],
          "histogram2dcontour": [
           {
            "colorbar": {
             "outlinewidth": 0,
             "ticks": ""
            },
            "colorscale": [
             [
              0,
              "#0d0887"
             ],
             [
              0.1111111111111111,
              "#46039f"
             ],
             [
              0.2222222222222222,
              "#7201a8"
             ],
             [
              0.3333333333333333,
              "#9c179e"
             ],
             [
              0.4444444444444444,
              "#bd3786"
             ],
             [
              0.5555555555555556,
              "#d8576b"
             ],
             [
              0.6666666666666666,
              "#ed7953"
             ],
             [
              0.7777777777777778,
              "#fb9f3a"
             ],
             [
              0.8888888888888888,
              "#fdca26"
             ],
             [
              1,
              "#f0f921"
             ]
            ],
            "type": "histogram2dcontour"
           }
          ],
          "mesh3d": [
           {
            "colorbar": {
             "outlinewidth": 0,
             "ticks": ""
            },
            "type": "mesh3d"
           }
          ],
          "parcoords": [
           {
            "line": {
             "colorbar": {
              "outlinewidth": 0,
              "ticks": ""
             }
            },
            "type": "parcoords"
           }
          ],
          "pie": [
           {
            "automargin": true,
            "type": "pie"
           }
          ],
          "scatter": [
           {
            "fillpattern": {
             "fillmode": "overlay",
             "size": 10,
             "solidity": 0.2
            },
            "type": "scatter"
           }
          ],
          "scatter3d": [
           {
            "line": {
             "colorbar": {
              "outlinewidth": 0,
              "ticks": ""
             }
            },
            "marker": {
             "colorbar": {
              "outlinewidth": 0,
              "ticks": ""
             }
            },
            "type": "scatter3d"
           }
          ],
          "scattercarpet": [
           {
            "marker": {
             "colorbar": {
              "outlinewidth": 0,
              "ticks": ""
             }
            },
            "type": "scattercarpet"
           }
          ],
          "scattergeo": [
           {
            "marker": {
             "colorbar": {
              "outlinewidth": 0,
              "ticks": ""
             }
            },
            "type": "scattergeo"
           }
          ],
          "scattergl": [
           {
            "marker": {
             "colorbar": {
              "outlinewidth": 0,
              "ticks": ""
             }
            },
            "type": "scattergl"
           }
          ],
          "scattermapbox": [
           {
            "marker": {
             "colorbar": {
              "outlinewidth": 0,
              "ticks": ""
             }
            },
            "type": "scattermapbox"
           }
          ],
          "scatterpolar": [
           {
            "marker": {
             "colorbar": {
              "outlinewidth": 0,
              "ticks": ""
             }
            },
            "type": "scatterpolar"
           }
          ],
          "scatterpolargl": [
           {
            "marker": {
             "colorbar": {
              "outlinewidth": 0,
              "ticks": ""
             }
            },
            "type": "scatterpolargl"
           }
          ],
          "scatterternary": [
           {
            "marker": {
             "colorbar": {
              "outlinewidth": 0,
              "ticks": ""
             }
            },
            "type": "scatterternary"
           }
          ],
          "surface": [
           {
            "colorbar": {
             "outlinewidth": 0,
             "ticks": ""
            },
            "colorscale": [
             [
              0,
              "#0d0887"
             ],
             [
              0.1111111111111111,
              "#46039f"
             ],
             [
              0.2222222222222222,
              "#7201a8"
             ],
             [
              0.3333333333333333,
              "#9c179e"
             ],
             [
              0.4444444444444444,
              "#bd3786"
             ],
             [
              0.5555555555555556,
              "#d8576b"
             ],
             [
              0.6666666666666666,
              "#ed7953"
             ],
             [
              0.7777777777777778,
              "#fb9f3a"
             ],
             [
              0.8888888888888888,
              "#fdca26"
             ],
             [
              1,
              "#f0f921"
             ]
            ],
            "type": "surface"
           }
          ],
          "table": [
           {
            "cells": {
             "fill": {
              "color": "#EBF0F8"
             },
             "line": {
              "color": "white"
             }
            },
            "header": {
             "fill": {
              "color": "#C8D4E3"
             },
             "line": {
              "color": "white"
             }
            },
            "type": "table"
           }
          ]
         },
         "layout": {
          "annotationdefaults": {
           "arrowcolor": "#2a3f5f",
           "arrowhead": 0,
           "arrowwidth": 1
          },
          "autotypenumbers": "strict",
          "coloraxis": {
           "colorbar": {
            "outlinewidth": 0,
            "ticks": ""
           }
          },
          "colorscale": {
           "diverging": [
            [
             0,
             "#8e0152"
            ],
            [
             0.1,
             "#c51b7d"
            ],
            [
             0.2,
             "#de77ae"
            ],
            [
             0.3,
             "#f1b6da"
            ],
            [
             0.4,
             "#fde0ef"
            ],
            [
             0.5,
             "#f7f7f7"
            ],
            [
             0.6,
             "#e6f5d0"
            ],
            [
             0.7,
             "#b8e186"
            ],
            [
             0.8,
             "#7fbc41"
            ],
            [
             0.9,
             "#4d9221"
            ],
            [
             1,
             "#276419"
            ]
           ],
           "sequential": [
            [
             0,
             "#0d0887"
            ],
            [
             0.1111111111111111,
             "#46039f"
            ],
            [
             0.2222222222222222,
             "#7201a8"
            ],
            [
             0.3333333333333333,
             "#9c179e"
            ],
            [
             0.4444444444444444,
             "#bd3786"
            ],
            [
             0.5555555555555556,
             "#d8576b"
            ],
            [
             0.6666666666666666,
             "#ed7953"
            ],
            [
             0.7777777777777778,
             "#fb9f3a"
            ],
            [
             0.8888888888888888,
             "#fdca26"
            ],
            [
             1,
             "#f0f921"
            ]
           ],
           "sequentialminus": [
            [
             0,
             "#0d0887"
            ],
            [
             0.1111111111111111,
             "#46039f"
            ],
            [
             0.2222222222222222,
             "#7201a8"
            ],
            [
             0.3333333333333333,
             "#9c179e"
            ],
            [
             0.4444444444444444,
             "#bd3786"
            ],
            [
             0.5555555555555556,
             "#d8576b"
            ],
            [
             0.6666666666666666,
             "#ed7953"
            ],
            [
             0.7777777777777778,
             "#fb9f3a"
            ],
            [
             0.8888888888888888,
             "#fdca26"
            ],
            [
             1,
             "#f0f921"
            ]
           ]
          },
          "colorway": [
           "#636efa",
           "#EF553B",
           "#00cc96",
           "#ab63fa",
           "#FFA15A",
           "#19d3f3",
           "#FF6692",
           "#B6E880",
           "#FF97FF",
           "#FECB52"
          ],
          "font": {
           "color": "#2a3f5f"
          },
          "geo": {
           "bgcolor": "white",
           "lakecolor": "white",
           "landcolor": "#E5ECF6",
           "showlakes": true,
           "showland": true,
           "subunitcolor": "white"
          },
          "hoverlabel": {
           "align": "left"
          },
          "hovermode": "closest",
          "mapbox": {
           "style": "light"
          },
          "paper_bgcolor": "white",
          "plot_bgcolor": "#E5ECF6",
          "polar": {
           "angularaxis": {
            "gridcolor": "white",
            "linecolor": "white",
            "ticks": ""
           },
           "bgcolor": "#E5ECF6",
           "radialaxis": {
            "gridcolor": "white",
            "linecolor": "white",
            "ticks": ""
           }
          },
          "scene": {
           "xaxis": {
            "backgroundcolor": "#E5ECF6",
            "gridcolor": "white",
            "gridwidth": 2,
            "linecolor": "white",
            "showbackground": true,
            "ticks": "",
            "zerolinecolor": "white"
           },
           "yaxis": {
            "backgroundcolor": "#E5ECF6",
            "gridcolor": "white",
            "gridwidth": 2,
            "linecolor": "white",
            "showbackground": true,
            "ticks": "",
            "zerolinecolor": "white"
           },
           "zaxis": {
            "backgroundcolor": "#E5ECF6",
            "gridcolor": "white",
            "gridwidth": 2,
            "linecolor": "white",
            "showbackground": true,
            "ticks": "",
            "zerolinecolor": "white"
           }
          },
          "shapedefaults": {
           "line": {
            "color": "#2a3f5f"
           }
          },
          "ternary": {
           "aaxis": {
            "gridcolor": "white",
            "linecolor": "white",
            "ticks": ""
           },
           "baxis": {
            "gridcolor": "white",
            "linecolor": "white",
            "ticks": ""
           },
           "bgcolor": "#E5ECF6",
           "caxis": {
            "gridcolor": "white",
            "linecolor": "white",
            "ticks": ""
           }
          },
          "title": {
           "x": 0.05
          },
          "xaxis": {
           "automargin": true,
           "gridcolor": "white",
           "linecolor": "white",
           "ticks": "",
           "title": {
            "standoff": 15
           },
           "zerolinecolor": "white",
           "zerolinewidth": 2
          },
          "yaxis": {
           "automargin": true,
           "gridcolor": "white",
           "linecolor": "white",
           "ticks": "",
           "title": {
            "standoff": 15
           },
           "zerolinecolor": "white",
           "zerolinewidth": 2
          }
         }
        },
        "xaxis": {
         "anchor": "y",
         "domain": [
          0,
          1
         ],
         "title": {
          "text": "tipoDespesa"
         }
        },
        "yaxis": {
         "anchor": "x",
         "domain": [
          0,
          1
         ],
         "title": {
          "text": "valorLiquido"
         }
        }
       }
      }
     },
     "metadata": {},
     "output_type": "display_data"
    }
   ],
   "source": [
    "import plotly.express as px\n",
    "\n",
    "df_tipo_despesas =df.groupby(['tipoDespesa']).sum('valorLiquido').reset_index()\n",
    "display(df_tipo_despesas)\n",
    "fig = px.bar(df_tipo_despesas, x = 'tipoDespesa', y = 'valorLiquido')\n",
    "fig.show()"
   ]
  },
  {
   "cell_type": "code",
   "execution_count": 98,
   "metadata": {},
   "outputs": [
    {
     "data": {
      "text/html": [
       "<div>\n",
       "<style scoped>\n",
       "    .dataframe tbody tr th:only-of-type {\n",
       "        vertical-align: middle;\n",
       "    }\n",
       "\n",
       "    .dataframe tbody tr th {\n",
       "        vertical-align: top;\n",
       "    }\n",
       "\n",
       "    .dataframe thead th {\n",
       "        text-align: right;\n",
       "    }\n",
       "</style>\n",
       "<table border=\"1\" class=\"dataframe\">\n",
       "  <thead>\n",
       "    <tr style=\"text-align: right;\">\n",
       "      <th></th>\n",
       "      <th>nome_deputado</th>\n",
       "      <th>ano</th>\n",
       "      <th>mes</th>\n",
       "      <th>codDocumento</th>\n",
       "      <th>codTipoDocumento</th>\n",
       "      <th>valorDocumento</th>\n",
       "      <th>valorLiquido</th>\n",
       "      <th>valorGlosa</th>\n",
       "      <th>codLote</th>\n",
       "      <th>parcela</th>\n",
       "    </tr>\n",
       "  </thead>\n",
       "  <tbody>\n",
       "    <tr>\n",
       "      <th>0</th>\n",
       "      <td>AJ Albuquerque</td>\n",
       "      <td>30300.0</td>\n",
       "      <td>96.0</td>\n",
       "      <td>106055234.0</td>\n",
       "      <td>44.0</td>\n",
       "      <td>5779.52</td>\n",
       "      <td>5779.52</td>\n",
       "      <td>0.00</td>\n",
       "      <td>25565039.0</td>\n",
       "      <td>0.0</td>\n",
       "    </tr>\n",
       "    <tr>\n",
       "      <th>1</th>\n",
       "      <td>Acácio Favacho</td>\n",
       "      <td>30300.0</td>\n",
       "      <td>66.0</td>\n",
       "      <td>105754591.0</td>\n",
       "      <td>56.0</td>\n",
       "      <td>5836.06</td>\n",
       "      <td>5836.06</td>\n",
       "      <td>0.00</td>\n",
       "      <td>25412729.0</td>\n",
       "      <td>0.0</td>\n",
       "    </tr>\n",
       "    <tr>\n",
       "      <th>2</th>\n",
       "      <td>Adolfo Viana</td>\n",
       "      <td>30300.0</td>\n",
       "      <td>105.0</td>\n",
       "      <td>106158291.0</td>\n",
       "      <td>60.0</td>\n",
       "      <td>3865.03</td>\n",
       "      <td>3865.03</td>\n",
       "      <td>0.00</td>\n",
       "      <td>25618311.0</td>\n",
       "      <td>0.0</td>\n",
       "    </tr>\n",
       "    <tr>\n",
       "      <th>3</th>\n",
       "      <td>Adriana Ventura</td>\n",
       "      <td>30300.0</td>\n",
       "      <td>57.0</td>\n",
       "      <td>105745810.0</td>\n",
       "      <td>2.0</td>\n",
       "      <td>9626.71</td>\n",
       "      <td>9622.58</td>\n",
       "      <td>4.13</td>\n",
       "      <td>25406418.0</td>\n",
       "      <td>0.0</td>\n",
       "    </tr>\n",
       "    <tr>\n",
       "      <th>4</th>\n",
       "      <td>Adriano do Baldy</td>\n",
       "      <td>30300.0</td>\n",
       "      <td>75.0</td>\n",
       "      <td>105962111.0</td>\n",
       "      <td>0.0</td>\n",
       "      <td>6215.41</td>\n",
       "      <td>6202.61</td>\n",
       "      <td>12.80</td>\n",
       "      <td>25522048.0</td>\n",
       "      <td>0.0</td>\n",
       "    </tr>\n",
       "    <tr>\n",
       "      <th>...</th>\n",
       "      <td>...</td>\n",
       "      <td>...</td>\n",
       "      <td>...</td>\n",
       "      <td>...</td>\n",
       "      <td>...</td>\n",
       "      <td>...</td>\n",
       "      <td>...</td>\n",
       "      <td>...</td>\n",
       "      <td>...</td>\n",
       "      <td>...</td>\n",
       "    </tr>\n",
       "    <tr>\n",
       "      <th>288</th>\n",
       "      <td>Zeca Dirceu</td>\n",
       "      <td>30300.0</td>\n",
       "      <td>84.0</td>\n",
       "      <td>106140517.0</td>\n",
       "      <td>12.0</td>\n",
       "      <td>16814.16</td>\n",
       "      <td>16814.16</td>\n",
       "      <td>0.00</td>\n",
       "      <td>25607288.0</td>\n",
       "      <td>0.0</td>\n",
       "    </tr>\n",
       "    <tr>\n",
       "      <th>289</th>\n",
       "      <td>Zé Neto</td>\n",
       "      <td>30300.0</td>\n",
       "      <td>99.0</td>\n",
       "      <td>106114278.0</td>\n",
       "      <td>11.0</td>\n",
       "      <td>74269.88</td>\n",
       "      <td>74266.74</td>\n",
       "      <td>3.14</td>\n",
       "      <td>25594457.0</td>\n",
       "      <td>0.0</td>\n",
       "    </tr>\n",
       "    <tr>\n",
       "      <th>290</th>\n",
       "      <td>Zé Silva</td>\n",
       "      <td>30300.0</td>\n",
       "      <td>104.0</td>\n",
       "      <td>106306230.0</td>\n",
       "      <td>16.0</td>\n",
       "      <td>5365.54</td>\n",
       "      <td>5324.70</td>\n",
       "      <td>40.84</td>\n",
       "      <td>25686940.0</td>\n",
       "      <td>0.0</td>\n",
       "    </tr>\n",
       "    <tr>\n",
       "      <th>291</th>\n",
       "      <td>Zé Vitor</td>\n",
       "      <td>30300.0</td>\n",
       "      <td>51.0</td>\n",
       "      <td>105627325.0</td>\n",
       "      <td>16.0</td>\n",
       "      <td>2404.47</td>\n",
       "      <td>2404.47</td>\n",
       "      <td>0.00</td>\n",
       "      <td>25353699.0</td>\n",
       "      <td>0.0</td>\n",
       "    </tr>\n",
       "    <tr>\n",
       "      <th>292</th>\n",
       "      <td>Átila Lins</td>\n",
       "      <td>30300.0</td>\n",
       "      <td>103.0</td>\n",
       "      <td>21267777.0</td>\n",
       "      <td>0.0</td>\n",
       "      <td>3536.72</td>\n",
       "      <td>3536.72</td>\n",
       "      <td>0.00</td>\n",
       "      <td>5142252.0</td>\n",
       "      <td>0.0</td>\n",
       "    </tr>\n",
       "  </tbody>\n",
       "</table>\n",
       "<p>293 rows × 10 columns</p>\n",
       "</div>"
      ],
      "text/plain": [
       "        nome_deputado      ano    mes  codDocumento  codTipoDocumento  \\\n",
       "0      AJ Albuquerque  30300.0   96.0   106055234.0              44.0   \n",
       "1      Acácio Favacho  30300.0   66.0   105754591.0              56.0   \n",
       "2        Adolfo Viana  30300.0  105.0   106158291.0              60.0   \n",
       "3     Adriana Ventura  30300.0   57.0   105745810.0               2.0   \n",
       "4    Adriano do Baldy  30300.0   75.0   105962111.0               0.0   \n",
       "..                ...      ...    ...           ...               ...   \n",
       "288       Zeca Dirceu  30300.0   84.0   106140517.0              12.0   \n",
       "289           Zé Neto  30300.0   99.0   106114278.0              11.0   \n",
       "290          Zé Silva  30300.0  104.0   106306230.0              16.0   \n",
       "291          Zé Vitor  30300.0   51.0   105627325.0              16.0   \n",
       "292        Átila Lins  30300.0  103.0    21267777.0               0.0   \n",
       "\n",
       "     valorDocumento  valorLiquido  valorGlosa     codLote  parcela  \n",
       "0           5779.52       5779.52        0.00  25565039.0      0.0  \n",
       "1           5836.06       5836.06        0.00  25412729.0      0.0  \n",
       "2           3865.03       3865.03        0.00  25618311.0      0.0  \n",
       "3           9626.71       9622.58        4.13  25406418.0      0.0  \n",
       "4           6215.41       6202.61       12.80  25522048.0      0.0  \n",
       "..              ...           ...         ...         ...      ...  \n",
       "288        16814.16      16814.16        0.00  25607288.0      0.0  \n",
       "289        74269.88      74266.74        3.14  25594457.0      0.0  \n",
       "290         5365.54       5324.70       40.84  25686940.0      0.0  \n",
       "291         2404.47       2404.47        0.00  25353699.0      0.0  \n",
       "292         3536.72       3536.72        0.00   5142252.0      0.0  \n",
       "\n",
       "[293 rows x 10 columns]"
      ]
     },
     "metadata": {},
     "output_type": "display_data"
    },
    {
     "data": {
      "application/vnd.plotly.v1+json": {
       "config": {
        "plotlyServerURL": "https://plot.ly"
       },
       "data": [
        {
         "alignmentgroup": "True",
         "hovertemplate": "nome_deputado=%{x}<br>valorLiquido=%{y}<extra></extra>",
         "legendgroup": "",
         "marker": {
          "color": "#636efa",
          "pattern": {
           "shape": ""
          }
         },
         "name": "",
         "offsetgroup": "",
         "orientation": "v",
         "showlegend": false,
         "textposition": "auto",
         "type": "bar",
         "x": [
          "AJ Albuquerque",
          "Acácio Favacho",
          "Adolfo Viana",
          "Adriana Ventura",
          "Adriano do Baldy",
          "Afonso Hamm",
          "Afonso Motta",
          "Aguinaldo Ribeiro",
          "Airton Faleiro",
          "Alceu Moreira",
          "Alencar Santana",
          "Alex Manente",
          "Alex Santana",
          "Alexandre Leite",
          "Alfredinho",
          "Alice Portugal",
          "Aliel Machado",
          "Altineu Côrtes",
          "Aluisio Mendes",
          "Amaro Neto",
          "André Ferreira",
          "André Figueiredo",
          "André Fufuca",
          "André Janones",
          "Antonio Brito",
          "Antônia Lúcia",
          "Arlindo Chinaglia",
          "Arnaldo Jardim",
          "Arthur Lira",
          "Arthur Oliveira Maia",
          "Augusto Coutinho",
          "Aureo Ribeiro",
          "Aécio Neves",
          "Bacelar",
          "Baleia Rossi",
          "Benedita da Silva",
          "Benes Leocádio",
          "Beto Pereira",
          "Bia Kicis",
          "Bibo Nunes",
          "Bohn Gass",
          "Capitão Alberto Neto",
          "Capitão Augusto",
          "Carla Zambelli",
          "Carlos Chiodini",
          "Carlos Gomes",
          "Carlos Henrique Gaguim",
          "Carlos Jordy",
          "Carlos Sampaio",
          "Carlos Veras",
          "Carlos Zarattini",
          "Caroline de Toni",
          "Celso Russomanno",
          "Celso Sabino",
          "Cezinha de Madureira",
          "Chiquinho Brazão",
          "Chris Tonietto",
          "Claudio Cajado",
          "Cleber Verde",
          "Coronel Chrisóstomo",
          "Covatti Filho",
          "Célio Silveira",
          "Célio Studart",
          "Da Vitoria",
          "Dagoberto Nogueira",
          "Damião Feliciano",
          "Daniel Almeida",
          "Daniel Freitas",
          "Daniel Trzeciak",
          "Danilo Forte",
          "Danrlei de Deus Hinterholz",
          "David Soares",
          "Delegado Marcelo Freitas",
          "Delegado Éder Mauro",
          "Diego Andrade",
          "Diego Garcia",
          "Dimas Fabiano",
          "Domingos Neto",
          "Domingos Sávio",
          "Doutor Luizinho",
          "Dr. Frederico",
          "Dr. Jaziel",
          "Dr. Luiz Ovando",
          "Dr. Zacharias Calil",
          "Eduardo Bismarck",
          "Eduardo Bolsonaro",
          "Eduardo da Fonte",
          "Elcione Barbalho",
          "Eli Borges",
          "Elmar Nascimento",
          "Emanuel Pinheiro Neto",
          "Emidinho Madeira",
          "Enio Verri",
          "Erika Kokay",
          "Eros Biondini",
          "Euclydes Pettersen",
          "Evair Vieira de Melo",
          "Fabio Reis",
          "Fabio Schiochet",
          "Fausto Pinato",
          "Felipe Carreras",
          "Felipe Francischini",
          "Fernanda Melchionna",
          "Fernando Coelho Filho",
          "Fernando Monteiro",
          "Fernando Rodolfo",
          "Filipe Barros",
          "Flávia Morais",
          "Flávio Nogueira",
          "Fred Costa",
          "Félix Mendonça Júnior",
          "General Girão",
          "Geovania de Sá",
          "Geraldo Resende",
          "Gervásio Maia",
          "Giacobo",
          "Gilberto Abramo",
          "Gilberto Nascimento",
          "Gilson Marques",
          "Giovani Cherini",
          "Glauber Braga",
          "Glaustin da Fokus",
          "Gleisi Hoffmann",
          "Greyce Elias",
          "Gustinho Ribeiro",
          "Gutemberg Reis",
          "Heitor Schuch",
          "Helder Salomão",
          "Helio Lopes",
          "Hugo Leal",
          "Hugo Motta",
          "Idilvan Alencar",
          "Igor Timo",
          "Isnaldo Bulhões Jr.",
          "Ivan Valente",
          "Jandira Feghali",
          "Jefferson Campos",
          "Jhonatan de Jesus",
          "Joaquim Passarinho",
          "Jorge Braz",
          "Jorge Goetten",
          "Jorge Solla",
          "Joseildo Ramos",
          "Josias Gomes",
          "Josimar Maranhãozinho",
          "Josivaldo JP",
          "José Airton Félix Cirilo",
          "José Guimarães",
          "José Medeiros",
          "José Nelto",
          "José Priante",
          "José Rocha",
          "João Carlos Bacelar",
          "João Daniel",
          "João Maia",
          "Juarez Costa",
          "Julio Cesar Ribeiro",
          "Julio Lopes",
          "Juninho do Pneu",
          "Junio Amaral",
          "Junior Lourenço",
          "Júlio Cesar",
          "Júnior Ferrari",
          "Júnior Mano",
          "Kim Kataguiri",
          "Lafayette de Andrada",
          "Laura Carneiro",
          "Leandre",
          "Leonardo Monteiro",
          "Leur Lomanto Júnior",
          "Lincoln Portela",
          "Lucas Redecker",
          "Luciano Bivar",
          "Luciano Ducci",
          "Lucio Mosquini",
          "Luis Tibé",
          "Luisa Canziani",
          "Luiz Carlos Motta",
          "Luiz Lima",
          "Luiz Nishimori",
          "Luiz Philippe de Orleans e Bragança",
          "Luiza Erundina",
          "Luizianne Lins",
          "Lázaro Botelho",
          "Lídice da Mata",
          "Magda Mofatto",
          "Marcel van Hattem",
          "Marcelo Moraes",
          "Marcelo Álvaro Antônio",
          "Marcio Alvino",
          "Marco Bertaiolli",
          "Marco Brasil",
          "Marcon",
          "Marcos Aurélio Sampaio",
          "Marcos Pereira",
          "Marcos Soares",
          "Maria Rosas",
          "Maria do Rosário",
          "Marreca Filho",
          "Marx Beltrão",
          "Mauricio do Vôlei",
          "Mauro Benevides Filho",
          "Merlong Solano",
          "Miguel Lombardi",
          "Milton Vieira",
          "Misael Varella",
          "Moses Rodrigues",
          "Márcio Biolchi",
          "Márcio Jerry",
          "Márcio Marinho",
          "Mário Heringer",
          "Mário Negromonte Jr.",
          "Natália Bonavides",
          "Newton Cardoso Jr",
          "Nicoletti",
          "Nilto Tatto",
          "Odair Cunha",
          "Olival Marques",
          "Orlando Silva",
          "Osmar Terra",
          "Otoni de Paula",
          "Otto Alencar Filho",
          "Padre João",
          "Pastor Eurico",
          "Pastor Gil",
          "Pastor Sargento Isidório",
          "Patrus Ananias",
          "Paulo Abi-Ackel",
          "Paulo Azi",
          "Paulo Foletto",
          "Paulo Freire Costa",
          "Paulo Guedes",
          "Paulo Magalhães",
          "Paulão",
          "Pedro Lucas Fernandes",
          "Pedro Lupion",
          "Pedro Paulo",
          "Pedro Uczai",
          "Pedro Westphalen",
          "Pinheirinho",
          "Pompeo de Mattos",
          "Pr. Marco Feliciano",
          "Professor Alcides",
          "Raimundo Costa",
          "Reginaldo Lopes",
          "Renata Abreu",
          "Renildo Calheiros",
          "Ricardo Guidi",
          "Ricardo Silva",
          "Robério Monteiro",
          "Rodrigo de Castro",
          "Rogério Correia",
          "Rosana Valle",
          "Rosangela Gomes",
          "Rubens Otoni",
          "Rubens Pereira Júnior",
          "Rui Falcão",
          "Ruy Carneiro",
          "Sanderson",
          "Sandro Alex",
          "Sargento Fahur",
          "Sergio Souza",
          "Sidney Leite",
          "Silas Câmara",
          "Silvia Cristina",
          "Silvio Costa Filho",
          "Soraya Santos",
          "Stefano Aguiar",
          "Sâmia Bomfim",
          "Sérgio Brito",
          "Sóstenes Cavalcante",
          "Tabata Amaral",
          "Talíria Petrone",
          "Tiririca",
          "Toninho Wandscheer",
          "Túlio Gadêlha",
          "Valmir Assunção",
          "Vander Loubet",
          "Vermelho",
          "Vicentinho",
          "Vicentinho Júnior",
          "Vinicius Carvalho",
          "Vinicius Gurgel",
          "Vitor Lippi",
          "Waldenor Pereira",
          "Weliton Prado",
          "Wellington Roberto",
          "Wilson Santiago",
          "Zeca Dirceu",
          "Zé Neto",
          "Zé Silva",
          "Zé Vitor",
          "Átila Lins"
         ],
         "xaxis": "x",
         "y": [
          5779.5199999999995,
          5836.06,
          3865.03,
          9622.58,
          6202.61,
          6574.54,
          3257.46,
          8159.51,
          2223.27,
          1763.12,
          1751.38,
          11721.72,
          2330.66,
          5536.42,
          467.6,
          7883.219999999999,
          21916.54,
          33364.97,
          8444.41,
          3429.05,
          6452.17,
          6284.37,
          91761.8,
          9975.34,
          6525.1,
          47496.590000000004,
          12868,
          2532.58,
          1775.95,
          2238.19,
          5440.73,
          35353.1,
          65064.75,
          46558.12,
          2822.3,
          72607.95,
          72281.87,
          2475.69,
          2794.42,
          4715.09,
          31124.16,
          14323.38,
          6230.17,
          46866.15,
          27387.26,
          4212.8,
          75499.19,
          10411.76,
          10218.789999999999,
          2644.47,
          41859.93,
          1011.54,
          2677.93,
          17126.97,
          3668.32,
          56273.71,
          40742.32,
          7864.26,
          112683.4,
          19135.83,
          13496.53,
          137912.3,
          9373.81,
          49590,
          15465.57,
          3990.8199999999997,
          6531.53,
          2597.26,
          3637.57,
          6639.84,
          36715.7,
          11848.19,
          2264.11,
          84177.03,
          24823.690000000002,
          19706.6,
          3341.5299999999997,
          173870.99,
          9654.72,
          2525.79,
          1959.19,
          9536,
          3210.62,
          21470.64,
          13384.5,
          582.61,
          2410.72,
          12882.76,
          27573.31,
          6045.67,
          4242,
          24323.08,
          3966.66,
          8318.87,
          5211.46,
          3073.08,
          6335.35,
          30984,
          4818.28,
          33086.29,
          1359.96,
          48920.73,
          4158,
          5194.55,
          64212.82,
          3964.16,
          32958.5,
          52609.83,
          2704.41,
          5253.4,
          3600,
          3939.42,
          1318.7,
          0.26,
          8344.91,
          36572,
          3917.25,
          22550,
          15817.06,
          5496,
          2266.92,
          28217.64,
          82338.71,
          6761.41,
          337200,
          5757.400000000001,
          18110.01,
          1239.28,
          11942.16,
          13401.72,
          3177.7,
          2305.43,
          6077.89,
          2512.75,
          97291.51,
          5457.75,
          46548.33,
          233102.9,
          11679.14,
          45999.61,
          7044.03,
          5188.68,
          18685.39,
          3648.58,
          12124.37,
          3291.91,
          65700,
          1387.8400000000001,
          56364.36,
          10327.49,
          2892.28,
          4603.03,
          5767.3,
          17342.72,
          10861.800000000001,
          1995.72,
          3063.47,
          2569.62,
          4547.56,
          1699.22,
          91186.67,
          44468.04,
          9230.91,
          7920.02,
          50444.43,
          3109.44,
          1951.6100000000001,
          1553.92,
          48902.8,
          66939.65,
          4448.27,
          4613.3,
          14691.44,
          5712.03,
          4601.2,
          63620.88,
          69562.26,
          6570.95,
          19454.4,
          4396.02,
          3577.24,
          1954.17,
          24119.3,
          86212.3,
          23269.67,
          146176.15,
          14932.73,
          7637.79,
          4956.7699999999995,
          10837.82,
          3253.0699999999997,
          23040.04,
          3308.82,
          1731.51,
          17815.2,
          27871.61,
          16089.8,
          52287.130000000005,
          100511.76,
          3541.77,
          1000,
          102710.13,
          22078.34,
          670.38,
          80333.6,
          16243.56,
          50174.87,
          2613.49,
          17742.420000000002,
          13200.35,
          65517.9,
          3434.19,
          3566.82,
          1637.01,
          6731.67,
          17940.56,
          19557.47,
          3312.53,
          21038.3,
          1824.65,
          1827.16,
          2521.91,
          4896.53,
          2944.99,
          43267.06,
          15287.69,
          3999.19,
          7214.3099999999995,
          17593.86,
          2085.98,
          112864.38,
          19395.16,
          7596.25,
          4601.3,
          2459.58,
          10625.91,
          98233.76,
          35607.15,
          6949.8099999999995,
          8850.9,
          1861.08,
          73300.52,
          116564.16,
          32618.5,
          5864.33,
          14287.23,
          4191.93,
          2402.82,
          9218.24,
          5973.22,
          8677.94,
          55450.11,
          17163.45,
          50030.53,
          5825.09,
          104040.29,
          5366.82,
          30388.19,
          25919.93,
          7859.09,
          1992.12,
          11370.15,
          2264.82,
          185006.39,
          36173.8,
          64832.62,
          112250,
          14509.4,
          30000,
          11578.17,
          2606.81,
          991.28,
          93924.31,
          4349.88,
          11796.24,
          27901.54,
          1817.5,
          5019.4,
          4571.12,
          6634.14,
          365000,
          17657.92,
          165557.15,
          82048.9,
          7180.84,
          2404.48,
          6833.81,
          28314.45,
          16814.16,
          74266.74,
          5324.700000000001,
          2404.47,
          3536.7200000000003
         ],
         "yaxis": "y"
        }
       ],
       "layout": {
        "barmode": "relative",
        "legend": {
         "tracegroupgap": 0
        },
        "margin": {
         "t": 60
        },
        "template": {
         "data": {
          "bar": [
           {
            "error_x": {
             "color": "#2a3f5f"
            },
            "error_y": {
             "color": "#2a3f5f"
            },
            "marker": {
             "line": {
              "color": "#E5ECF6",
              "width": 0.5
             },
             "pattern": {
              "fillmode": "overlay",
              "size": 10,
              "solidity": 0.2
             }
            },
            "type": "bar"
           }
          ],
          "barpolar": [
           {
            "marker": {
             "line": {
              "color": "#E5ECF6",
              "width": 0.5
             },
             "pattern": {
              "fillmode": "overlay",
              "size": 10,
              "solidity": 0.2
             }
            },
            "type": "barpolar"
           }
          ],
          "carpet": [
           {
            "aaxis": {
             "endlinecolor": "#2a3f5f",
             "gridcolor": "white",
             "linecolor": "white",
             "minorgridcolor": "white",
             "startlinecolor": "#2a3f5f"
            },
            "baxis": {
             "endlinecolor": "#2a3f5f",
             "gridcolor": "white",
             "linecolor": "white",
             "minorgridcolor": "white",
             "startlinecolor": "#2a3f5f"
            },
            "type": "carpet"
           }
          ],
          "choropleth": [
           {
            "colorbar": {
             "outlinewidth": 0,
             "ticks": ""
            },
            "type": "choropleth"
           }
          ],
          "contour": [
           {
            "colorbar": {
             "outlinewidth": 0,
             "ticks": ""
            },
            "colorscale": [
             [
              0,
              "#0d0887"
             ],
             [
              0.1111111111111111,
              "#46039f"
             ],
             [
              0.2222222222222222,
              "#7201a8"
             ],
             [
              0.3333333333333333,
              "#9c179e"
             ],
             [
              0.4444444444444444,
              "#bd3786"
             ],
             [
              0.5555555555555556,
              "#d8576b"
             ],
             [
              0.6666666666666666,
              "#ed7953"
             ],
             [
              0.7777777777777778,
              "#fb9f3a"
             ],
             [
              0.8888888888888888,
              "#fdca26"
             ],
             [
              1,
              "#f0f921"
             ]
            ],
            "type": "contour"
           }
          ],
          "contourcarpet": [
           {
            "colorbar": {
             "outlinewidth": 0,
             "ticks": ""
            },
            "type": "contourcarpet"
           }
          ],
          "heatmap": [
           {
            "colorbar": {
             "outlinewidth": 0,
             "ticks": ""
            },
            "colorscale": [
             [
              0,
              "#0d0887"
             ],
             [
              0.1111111111111111,
              "#46039f"
             ],
             [
              0.2222222222222222,
              "#7201a8"
             ],
             [
              0.3333333333333333,
              "#9c179e"
             ],
             [
              0.4444444444444444,
              "#bd3786"
             ],
             [
              0.5555555555555556,
              "#d8576b"
             ],
             [
              0.6666666666666666,
              "#ed7953"
             ],
             [
              0.7777777777777778,
              "#fb9f3a"
             ],
             [
              0.8888888888888888,
              "#fdca26"
             ],
             [
              1,
              "#f0f921"
             ]
            ],
            "type": "heatmap"
           }
          ],
          "heatmapgl": [
           {
            "colorbar": {
             "outlinewidth": 0,
             "ticks": ""
            },
            "colorscale": [
             [
              0,
              "#0d0887"
             ],
             [
              0.1111111111111111,
              "#46039f"
             ],
             [
              0.2222222222222222,
              "#7201a8"
             ],
             [
              0.3333333333333333,
              "#9c179e"
             ],
             [
              0.4444444444444444,
              "#bd3786"
             ],
             [
              0.5555555555555556,
              "#d8576b"
             ],
             [
              0.6666666666666666,
              "#ed7953"
             ],
             [
              0.7777777777777778,
              "#fb9f3a"
             ],
             [
              0.8888888888888888,
              "#fdca26"
             ],
             [
              1,
              "#f0f921"
             ]
            ],
            "type": "heatmapgl"
           }
          ],
          "histogram": [
           {
            "marker": {
             "pattern": {
              "fillmode": "overlay",
              "size": 10,
              "solidity": 0.2
             }
            },
            "type": "histogram"
           }
          ],
          "histogram2d": [
           {
            "colorbar": {
             "outlinewidth": 0,
             "ticks": ""
            },
            "colorscale": [
             [
              0,
              "#0d0887"
             ],
             [
              0.1111111111111111,
              "#46039f"
             ],
             [
              0.2222222222222222,
              "#7201a8"
             ],
             [
              0.3333333333333333,
              "#9c179e"
             ],
             [
              0.4444444444444444,
              "#bd3786"
             ],
             [
              0.5555555555555556,
              "#d8576b"
             ],
             [
              0.6666666666666666,
              "#ed7953"
             ],
             [
              0.7777777777777778,
              "#fb9f3a"
             ],
             [
              0.8888888888888888,
              "#fdca26"
             ],
             [
              1,
              "#f0f921"
             ]
            ],
            "type": "histogram2d"
           }
          ],
          "histogram2dcontour": [
           {
            "colorbar": {
             "outlinewidth": 0,
             "ticks": ""
            },
            "colorscale": [
             [
              0,
              "#0d0887"
             ],
             [
              0.1111111111111111,
              "#46039f"
             ],
             [
              0.2222222222222222,
              "#7201a8"
             ],
             [
              0.3333333333333333,
              "#9c179e"
             ],
             [
              0.4444444444444444,
              "#bd3786"
             ],
             [
              0.5555555555555556,
              "#d8576b"
             ],
             [
              0.6666666666666666,
              "#ed7953"
             ],
             [
              0.7777777777777778,
              "#fb9f3a"
             ],
             [
              0.8888888888888888,
              "#fdca26"
             ],
             [
              1,
              "#f0f921"
             ]
            ],
            "type": "histogram2dcontour"
           }
          ],
          "mesh3d": [
           {
            "colorbar": {
             "outlinewidth": 0,
             "ticks": ""
            },
            "type": "mesh3d"
           }
          ],
          "parcoords": [
           {
            "line": {
             "colorbar": {
              "outlinewidth": 0,
              "ticks": ""
             }
            },
            "type": "parcoords"
           }
          ],
          "pie": [
           {
            "automargin": true,
            "type": "pie"
           }
          ],
          "scatter": [
           {
            "fillpattern": {
             "fillmode": "overlay",
             "size": 10,
             "solidity": 0.2
            },
            "type": "scatter"
           }
          ],
          "scatter3d": [
           {
            "line": {
             "colorbar": {
              "outlinewidth": 0,
              "ticks": ""
             }
            },
            "marker": {
             "colorbar": {
              "outlinewidth": 0,
              "ticks": ""
             }
            },
            "type": "scatter3d"
           }
          ],
          "scattercarpet": [
           {
            "marker": {
             "colorbar": {
              "outlinewidth": 0,
              "ticks": ""
             }
            },
            "type": "scattercarpet"
           }
          ],
          "scattergeo": [
           {
            "marker": {
             "colorbar": {
              "outlinewidth": 0,
              "ticks": ""
             }
            },
            "type": "scattergeo"
           }
          ],
          "scattergl": [
           {
            "marker": {
             "colorbar": {
              "outlinewidth": 0,
              "ticks": ""
             }
            },
            "type": "scattergl"
           }
          ],
          "scattermapbox": [
           {
            "marker": {
             "colorbar": {
              "outlinewidth": 0,
              "ticks": ""
             }
            },
            "type": "scattermapbox"
           }
          ],
          "scatterpolar": [
           {
            "marker": {
             "colorbar": {
              "outlinewidth": 0,
              "ticks": ""
             }
            },
            "type": "scatterpolar"
           }
          ],
          "scatterpolargl": [
           {
            "marker": {
             "colorbar": {
              "outlinewidth": 0,
              "ticks": ""
             }
            },
            "type": "scatterpolargl"
           }
          ],
          "scatterternary": [
           {
            "marker": {
             "colorbar": {
              "outlinewidth": 0,
              "ticks": ""
             }
            },
            "type": "scatterternary"
           }
          ],
          "surface": [
           {
            "colorbar": {
             "outlinewidth": 0,
             "ticks": ""
            },
            "colorscale": [
             [
              0,
              "#0d0887"
             ],
             [
              0.1111111111111111,
              "#46039f"
             ],
             [
              0.2222222222222222,
              "#7201a8"
             ],
             [
              0.3333333333333333,
              "#9c179e"
             ],
             [
              0.4444444444444444,
              "#bd3786"
             ],
             [
              0.5555555555555556,
              "#d8576b"
             ],
             [
              0.6666666666666666,
              "#ed7953"
             ],
             [
              0.7777777777777778,
              "#fb9f3a"
             ],
             [
              0.8888888888888888,
              "#fdca26"
             ],
             [
              1,
              "#f0f921"
             ]
            ],
            "type": "surface"
           }
          ],
          "table": [
           {
            "cells": {
             "fill": {
              "color": "#EBF0F8"
             },
             "line": {
              "color": "white"
             }
            },
            "header": {
             "fill": {
              "color": "#C8D4E3"
             },
             "line": {
              "color": "white"
             }
            },
            "type": "table"
           }
          ]
         },
         "layout": {
          "annotationdefaults": {
           "arrowcolor": "#2a3f5f",
           "arrowhead": 0,
           "arrowwidth": 1
          },
          "autotypenumbers": "strict",
          "coloraxis": {
           "colorbar": {
            "outlinewidth": 0,
            "ticks": ""
           }
          },
          "colorscale": {
           "diverging": [
            [
             0,
             "#8e0152"
            ],
            [
             0.1,
             "#c51b7d"
            ],
            [
             0.2,
             "#de77ae"
            ],
            [
             0.3,
             "#f1b6da"
            ],
            [
             0.4,
             "#fde0ef"
            ],
            [
             0.5,
             "#f7f7f7"
            ],
            [
             0.6,
             "#e6f5d0"
            ],
            [
             0.7,
             "#b8e186"
            ],
            [
             0.8,
             "#7fbc41"
            ],
            [
             0.9,
             "#4d9221"
            ],
            [
             1,
             "#276419"
            ]
           ],
           "sequential": [
            [
             0,
             "#0d0887"
            ],
            [
             0.1111111111111111,
             "#46039f"
            ],
            [
             0.2222222222222222,
             "#7201a8"
            ],
            [
             0.3333333333333333,
             "#9c179e"
            ],
            [
             0.4444444444444444,
             "#bd3786"
            ],
            [
             0.5555555555555556,
             "#d8576b"
            ],
            [
             0.6666666666666666,
             "#ed7953"
            ],
            [
             0.7777777777777778,
             "#fb9f3a"
            ],
            [
             0.8888888888888888,
             "#fdca26"
            ],
            [
             1,
             "#f0f921"
            ]
           ],
           "sequentialminus": [
            [
             0,
             "#0d0887"
            ],
            [
             0.1111111111111111,
             "#46039f"
            ],
            [
             0.2222222222222222,
             "#7201a8"
            ],
            [
             0.3333333333333333,
             "#9c179e"
            ],
            [
             0.4444444444444444,
             "#bd3786"
            ],
            [
             0.5555555555555556,
             "#d8576b"
            ],
            [
             0.6666666666666666,
             "#ed7953"
            ],
            [
             0.7777777777777778,
             "#fb9f3a"
            ],
            [
             0.8888888888888888,
             "#fdca26"
            ],
            [
             1,
             "#f0f921"
            ]
           ]
          },
          "colorway": [
           "#636efa",
           "#EF553B",
           "#00cc96",
           "#ab63fa",
           "#FFA15A",
           "#19d3f3",
           "#FF6692",
           "#B6E880",
           "#FF97FF",
           "#FECB52"
          ],
          "font": {
           "color": "#2a3f5f"
          },
          "geo": {
           "bgcolor": "white",
           "lakecolor": "white",
           "landcolor": "#E5ECF6",
           "showlakes": true,
           "showland": true,
           "subunitcolor": "white"
          },
          "hoverlabel": {
           "align": "left"
          },
          "hovermode": "closest",
          "mapbox": {
           "style": "light"
          },
          "paper_bgcolor": "white",
          "plot_bgcolor": "#E5ECF6",
          "polar": {
           "angularaxis": {
            "gridcolor": "white",
            "linecolor": "white",
            "ticks": ""
           },
           "bgcolor": "#E5ECF6",
           "radialaxis": {
            "gridcolor": "white",
            "linecolor": "white",
            "ticks": ""
           }
          },
          "scene": {
           "xaxis": {
            "backgroundcolor": "#E5ECF6",
            "gridcolor": "white",
            "gridwidth": 2,
            "linecolor": "white",
            "showbackground": true,
            "ticks": "",
            "zerolinecolor": "white"
           },
           "yaxis": {
            "backgroundcolor": "#E5ECF6",
            "gridcolor": "white",
            "gridwidth": 2,
            "linecolor": "white",
            "showbackground": true,
            "ticks": "",
            "zerolinecolor": "white"
           },
           "zaxis": {
            "backgroundcolor": "#E5ECF6",
            "gridcolor": "white",
            "gridwidth": 2,
            "linecolor": "white",
            "showbackground": true,
            "ticks": "",
            "zerolinecolor": "white"
           }
          },
          "shapedefaults": {
           "line": {
            "color": "#2a3f5f"
           }
          },
          "ternary": {
           "aaxis": {
            "gridcolor": "white",
            "linecolor": "white",
            "ticks": ""
           },
           "baxis": {
            "gridcolor": "white",
            "linecolor": "white",
            "ticks": ""
           },
           "bgcolor": "#E5ECF6",
           "caxis": {
            "gridcolor": "white",
            "linecolor": "white",
            "ticks": ""
           }
          },
          "title": {
           "x": 0.05
          },
          "xaxis": {
           "automargin": true,
           "gridcolor": "white",
           "linecolor": "white",
           "ticks": "",
           "title": {
            "standoff": 15
           },
           "zerolinecolor": "white",
           "zerolinewidth": 2
          },
          "yaxis": {
           "automargin": true,
           "gridcolor": "white",
           "linecolor": "white",
           "ticks": "",
           "title": {
            "standoff": 15
           },
           "zerolinecolor": "white",
           "zerolinewidth": 2
          }
         }
        },
        "xaxis": {
         "anchor": "y",
         "domain": [
          0,
          1
         ],
         "title": {
          "text": "nome_deputado"
         }
        },
        "yaxis": {
         "anchor": "x",
         "domain": [
          0,
          1
         ],
         "title": {
          "text": "valorLiquido"
         }
        }
       }
      }
     },
     "metadata": {},
     "output_type": "display_data"
    }
   ],
   "source": [
    "df_despesas_por_deputados = df.groupby(['nome_deputado']).sum('valorLiquido').reset_index()\n",
    "display(df_despesas_por_deputados)\n",
    "fig = px.bar(df_despesas_por_deputados, x = 'nome_deputado', y = 'valorLiquido')\n",
    "fig.show()"
   ]
  }
 ],
 "metadata": {
  "kernelspec": {
   "display_name": "base",
   "language": "python",
   "name": "python3"
  },
  "language_info": {
   "codemirror_mode": {
    "name": "ipython",
    "version": 3
   },
   "file_extension": ".py",
   "mimetype": "text/x-python",
   "name": "python",
   "nbconvert_exporter": "python",
   "pygments_lexer": "ipython3",
   "version": "3.9.13"
  },
  "orig_nbformat": 4,
  "vscode": {
   "interpreter": {
    "hash": "72ea4cb7ac67c66e5bc1785d98641c1094fc7f5c84dc1fff8f88c4d0657f4704"
   }
  }
 },
 "nbformat": 4,
 "nbformat_minor": 2
}
