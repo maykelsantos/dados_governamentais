{
 "cells": [
  {
   "cell_type": "code",
   "execution_count": 32,
   "metadata": {},
   "outputs": [],
   "source": [
    "# importando bibliotecas necessárias\n",
    "\n",
    "import requests\n",
    "import pandas as pd\n",
    "import pprint"
   ]
  },
  {
   "cell_type": "code",
   "execution_count": 33,
   "metadata": {},
   "outputs": [],
   "source": [
    "# dados importantes\n",
    "\n",
    "headers = {\n",
    "    'Content-Type': 'application/json',\n",
    "    'chave-api-dados': '249d215e1b35a32d5f9e0f90aadc9052'\n",
    "}"
   ]
  },
  {
   "cell_type": "code",
   "execution_count": 34,
   "metadata": {},
   "outputs": [
    {
     "data": {
      "text/html": [
       "<div>\n",
       "<style scoped>\n",
       "    .dataframe tbody tr th:only-of-type {\n",
       "        vertical-align: middle;\n",
       "    }\n",
       "\n",
       "    .dataframe tbody tr th {\n",
       "        vertical-align: top;\n",
       "    }\n",
       "\n",
       "    .dataframe thead th {\n",
       "        text-align: right;\n",
       "    }\n",
       "</style>\n",
       "<table border=\"1\" class=\"dataframe\">\n",
       "  <thead>\n",
       "    <tr style=\"text-align: right;\">\n",
       "      <th></th>\n",
       "      <th>codigo</th>\n",
       "      <th>descricao</th>\n",
       "    </tr>\n",
       "  </thead>\n",
       "  <tbody>\n",
       "    <tr>\n",
       "      <th>0</th>\n",
       "      <td>01000</td>\n",
       "      <td>Câmara dos Deputados - Unidades com vínculo di...</td>\n",
       "    </tr>\n",
       "    <tr>\n",
       "      <th>1</th>\n",
       "      <td>01901</td>\n",
       "      <td>Fundo Rotativo da Câmara dos Deputados</td>\n",
       "    </tr>\n",
       "    <tr>\n",
       "      <th>2</th>\n",
       "      <td>02000</td>\n",
       "      <td>Senado Federal - Unidades com vínculo direto</td>\n",
       "    </tr>\n",
       "    <tr>\n",
       "      <th>3</th>\n",
       "      <td>02001</td>\n",
       "      <td>Fundo Especial do Senado Federal</td>\n",
       "    </tr>\n",
       "    <tr>\n",
       "      <th>4</th>\n",
       "      <td>02002</td>\n",
       "      <td>Senado Federal/ FUNSEEP</td>\n",
       "    </tr>\n",
       "    <tr>\n",
       "      <th>...</th>\n",
       "      <td>...</td>\n",
       "      <td>...</td>\n",
       "    </tr>\n",
       "    <tr>\n",
       "      <th>2</th>\n",
       "      <td>97120</td>\n",
       "      <td>Estado do Mato Grosso do Sul</td>\n",
       "    </tr>\n",
       "    <tr>\n",
       "      <th>3</th>\n",
       "      <td>97220</td>\n",
       "      <td>Estado do Mato Grosso</td>\n",
       "    </tr>\n",
       "    <tr>\n",
       "      <th>4</th>\n",
       "      <td>97320</td>\n",
       "      <td>Estado de Goiás</td>\n",
       "    </tr>\n",
       "    <tr>\n",
       "      <th>5</th>\n",
       "      <td>97400</td>\n",
       "      <td>Distrito Federal</td>\n",
       "    </tr>\n",
       "    <tr>\n",
       "      <th>6</th>\n",
       "      <td>99900</td>\n",
       "      <td>República Federativa do Brasil - Unidades com ...</td>\n",
       "    </tr>\n",
       "  </tbody>\n",
       "</table>\n",
       "<p>592 rows × 2 columns</p>\n",
       "</div>"
      ],
      "text/plain": [
       "   codigo                                          descricao\n",
       "0   01000  Câmara dos Deputados - Unidades com vínculo di...\n",
       "1   01901            Fundo Rotativo da Câmara dos Deputados \n",
       "2   02000       Senado Federal - Unidades com vínculo direto\n",
       "3   02001                   Fundo Especial do Senado Federal\n",
       "4   02002                            Senado Federal/ FUNSEEP\n",
       "..    ...                                                ...\n",
       "2   97120                       Estado do Mato Grosso do Sul\n",
       "3   97220                              Estado do Mato Grosso\n",
       "4   97320                                    Estado de Goiás\n",
       "5   97400                                   Distrito Federal\n",
       "6   99900  República Federativa do Brasil - Unidades com ...\n",
       "\n",
       "[592 rows x 2 columns]"
      ]
     },
     "metadata": {},
     "output_type": "display_data"
    }
   ],
   "source": [
    "# consultando as informações do órgãos siafi\n",
    "\n",
    "pagina = 1\n",
    "sem_dados = '[]'\n",
    "df = pd.DataFrame()\n",
    "\n",
    "response = requests.get('https://api.portaldatransparencia.gov.br/api-de-dados/orgaos-siafi?pagina={}'.format(pagina), headers = headers)\n",
    "dados = response.json()\n",
    "\n",
    "while response.text != sem_dados:\n",
    "        response = requests.get('https://api.portaldatransparencia.gov.br/api-de-dados/orgaos-siafi?pagina={}'.format(pagina), headers = headers)\n",
    "        dados = response.json()\n",
    "        df_consulta = pd.DataFrame(dados)\n",
    "        df = pd.concat([df, df_consulta])\n",
    "        pagina = pagina + 1\n",
    "    \n",
    "display(df)"
   ]
  }
 ],
 "metadata": {
  "kernelspec": {
   "display_name": "base",
   "language": "python",
   "name": "python3"
  },
  "language_info": {
   "codemirror_mode": {
    "name": "ipython",
    "version": 3
   },
   "file_extension": ".py",
   "mimetype": "text/x-python",
   "name": "python",
   "nbconvert_exporter": "python",
   "pygments_lexer": "ipython3",
   "version": "3.9.13"
  },
  "orig_nbformat": 4,
  "vscode": {
   "interpreter": {
    "hash": "72ea4cb7ac67c66e5bc1785d98641c1094fc7f5c84dc1fff8f88c4d0657f4704"
   }
  }
 },
 "nbformat": 4,
 "nbformat_minor": 2
}
