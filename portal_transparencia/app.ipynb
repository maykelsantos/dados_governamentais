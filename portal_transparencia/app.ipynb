{
 "cells": [
  {
   "cell_type": "code",
   "execution_count": 1,
   "metadata": {},
   "outputs": [
    {
     "data": {
      "text/plain": [
       "0       Abilio Brunini\n",
       "1       Acácio Favacho\n",
       "2          Adail Filho\n",
       "3      Adilson Barroso\n",
       "4         Adolfo Viana\n",
       "            ...       \n",
       "508           Zé Silva\n",
       "509          Zé Trovão\n",
       "510           Zé Vitor\n",
       "511        Zeca Dirceu\n",
       "512    Zezinho Barbary\n",
       "Name: nome, Length: 513, dtype: object"
      ]
     },
     "metadata": {},
     "output_type": "display_data"
    }
   ],
   "source": [
    "import pandas as pd\n",
    "import requests\n",
    "import pprint\n",
    "\n",
    "# consulta a lista de deputados federais\n",
    "response = requests.get('https://dadosabertos.camara.leg.br/api/v2/deputados')\n",
    "\n",
    "# transforma em JSON\n",
    "dados = response.json()\n",
    "\n",
    "# transforma em DataFrame com Pandas\n",
    "df_deputados = pd.DataFrame(dados['dados'])\n",
    "\n",
    "# armazena os ids dos deputados\n",
    "df_deputados_id = df_deputados['id']\n",
    "\n",
    "#armazena os nomes dos deputados\n",
    "df_deputados_nome = df_deputados['nome']\n",
    "\n",
    "display(df_deputados_nome)"
   ]
  },
  {
   "cell_type": "code",
   "execution_count": 2,
   "metadata": {},
   "outputs": [
    {
     "name": "stdout",
     "output_type": "stream",
     "text": [
      "Carregando as despesas do deputado Abilio Brunini [...]\n",
      "Despesas do deputado Abilio Brunini adicionado aos dados para análise!\n",
      "Carregando as despesas do deputado Acácio Favacho [...]\n",
      "Despesas do deputado Acácio Favacho adicionado aos dados para análise!\n",
      "Carregando as despesas do deputado Adail Filho [...]\n",
      "Despesas do deputado Adail Filho adicionado aos dados para análise!\n",
      "Carregando as despesas do deputado Adilson Barroso [...]\n",
      "Despesas do deputado Adilson Barroso adicionado aos dados para análise!\n",
      "Carregando as despesas do deputado Adolfo Viana [...]\n",
      "Despesas do deputado Adolfo Viana adicionado aos dados para análise!\n",
      "Carregando as despesas do deputado Adriana Ventura [...]\n",
      "Despesas do deputado Adriana Ventura adicionado aos dados para análise!\n",
      "Carregando as despesas do deputado Adriano do Baldy [...]\n",
      "Despesas do deputado Adriano do Baldy adicionado aos dados para análise!\n",
      "Carregando as despesas do deputado Aécio Neves [...]\n",
      "Despesas do deputado Aécio Neves adicionado aos dados para análise!\n",
      "Carregando as despesas do deputado Afonso Hamm [...]\n",
      "Despesas do deputado Afonso Hamm adicionado aos dados para análise!\n",
      "Carregando as despesas do deputado Afonso Motta [...]\n",
      "Despesas do deputado Afonso Motta adicionado aos dados para análise!\n",
      "Carregando as despesas do deputado Aguinaldo Ribeiro [...]\n",
      "Despesas do deputado Aguinaldo Ribeiro adicionado aos dados para análise!\n",
      "Carregando as despesas do deputado Airton Faleiro [...]\n",
      "Despesas do deputado Airton Faleiro adicionado aos dados para análise!\n",
      "Carregando as despesas do deputado AJ Albuquerque [...]\n",
      "Despesas do deputado AJ Albuquerque adicionado aos dados para análise!\n",
      "Carregando as despesas do deputado Alberto Fraga [...]\n",
      "Despesas do deputado Alberto Fraga adicionado aos dados para análise!\n",
      "Carregando as despesas do deputado Alberto Mourão [...]\n",
      "Despesas do deputado Alberto Mourão adicionado aos dados para análise!\n",
      "Carregando as despesas do deputado Albuquerque [...]\n",
      "Despesas do deputado Albuquerque adicionado aos dados para análise!\n",
      "Carregando as despesas do deputado Alceu Moreira [...]\n",
      "Despesas do deputado Alceu Moreira adicionado aos dados para análise!\n",
      "Carregando as despesas do deputado Alencar Santana [...]\n",
      "Despesas do deputado Alencar Santana adicionado aos dados para análise!\n",
      "Carregando as despesas do deputado Alex Manente [...]\n",
      "Despesas do deputado Alex Manente adicionado aos dados para análise!\n",
      "Carregando as despesas do deputado Alex Santana [...]\n",
      "Despesas do deputado Alex Santana adicionado aos dados para análise!\n",
      "Carregando as despesas do deputado Alexandre Guimarães [...]\n",
      "Despesas do deputado Alexandre Guimarães adicionado aos dados para análise!\n",
      "Carregando as despesas do deputado Alexandre Leite [...]\n",
      "Despesas do deputado Alexandre Leite adicionado aos dados para análise!\n",
      "Carregando as despesas do deputado Alexandre Lindenmeyer [...]\n",
      "Despesas do deputado Alexandre Lindenmeyer adicionado aos dados para análise!\n",
      "Carregando as despesas do deputado Alfredinho [...]\n",
      "Despesas do deputado Alfredinho adicionado aos dados para análise!\n",
      "Carregando as despesas do deputado Alfredo Gaspar [...]\n",
      "Despesas do deputado Alfredo Gaspar adicionado aos dados para análise!\n",
      "Carregando as despesas do deputado Alice Portugal [...]\n",
      "Despesas do deputado Alice Portugal adicionado aos dados para análise!\n",
      "Carregando as despesas do deputado Aliel Machado [...]\n",
      "Despesas do deputado Aliel Machado adicionado aos dados para análise!\n",
      "Carregando as despesas do deputado Altineu Côrtes [...]\n",
      "Despesas do deputado Altineu Côrtes adicionado aos dados para análise!\n",
      "Carregando as despesas do deputado Aluisio Mendes [...]\n",
      "Despesas do deputado Aluisio Mendes adicionado aos dados para análise!\n",
      "Carregando as despesas do deputado Amália Barros [...]\n",
      "Despesas do deputado Amália Barros adicionado aos dados para análise!\n",
      "Carregando as despesas do deputado Amanda Gentil [...]\n",
      "Despesas do deputado Amanda Gentil adicionado aos dados para análise!\n",
      "Carregando as despesas do deputado Amaro Neto [...]\n",
      "Despesas do deputado Amaro Neto adicionado aos dados para análise!\n",
      "Carregando as despesas do deputado Amom Mandel [...]\n",
      "Despesas do deputado Amom Mandel adicionado aos dados para análise!\n",
      "Carregando as despesas do deputado Ana Paula Leão [...]\n",
      "Despesas do deputado Ana Paula Leão adicionado aos dados para análise!\n",
      "Carregando as despesas do deputado Ana Paula Lima [...]\n",
      "Despesas do deputado Ana Paula Lima adicionado aos dados para análise!\n",
      "Carregando as despesas do deputado Ana Pimentel [...]\n",
      "Despesas do deputado Ana Pimentel adicionado aos dados para análise!\n",
      "Carregando as despesas do deputado André Fernandes [...]\n",
      "Despesas do deputado André Fernandes adicionado aos dados para análise!\n",
      "Carregando as despesas do deputado André Ferreira [...]\n",
      "Despesas do deputado André Ferreira adicionado aos dados para análise!\n",
      "Carregando as despesas do deputado André Figueiredo [...]\n",
      "Despesas do deputado André Figueiredo adicionado aos dados para análise!\n",
      "Carregando as despesas do deputado André Fufuca [...]\n",
      "Despesas do deputado André Fufuca adicionado aos dados para análise!\n",
      "Carregando as despesas do deputado André Janones [...]\n",
      "Despesas do deputado André Janones adicionado aos dados para análise!\n",
      "Carregando as despesas do deputado Andreia Siqueira [...]\n",
      "Despesas do deputado Andreia Siqueira adicionado aos dados para análise!\n",
      "Carregando as despesas do deputado Antônia Lúcia [...]\n",
      "Despesas do deputado Antônia Lúcia adicionado aos dados para análise!\n",
      "Carregando as despesas do deputado Antonio Andrade [...]\n",
      "Despesas do deputado Antonio Andrade adicionado aos dados para análise!\n",
      "Carregando as despesas do deputado Antonio Brito [...]\n",
      "Despesas do deputado Antonio Brito adicionado aos dados para análise!\n",
      "Carregando as despesas do deputado Antonio Carlos Rodrigues [...]\n",
      "Despesas do deputado Antonio Carlos Rodrigues adicionado aos dados para análise!\n",
      "Carregando as despesas do deputado Antônio Doido [...]\n",
      "Despesas do deputado Antônio Doido adicionado aos dados para análise!\n",
      "Carregando as despesas do deputado Any Ortiz [...]\n",
      "Despesas do deputado Any Ortiz adicionado aos dados para análise!\n",
      "Carregando as despesas do deputado Arlindo Chinaglia [...]\n",
      "Despesas do deputado Arlindo Chinaglia adicionado aos dados para análise!\n",
      "Carregando as despesas do deputado Arnaldo Jardim [...]\n",
      "Despesas do deputado Arnaldo Jardim adicionado aos dados para análise!\n",
      "Carregando as despesas do deputado Arthur Lira [...]\n",
      "Despesas do deputado Arthur Lira adicionado aos dados para análise!\n",
      "Carregando as despesas do deputado Arthur Oliveira Maia [...]\n",
      "Despesas do deputado Arthur Oliveira Maia adicionado aos dados para análise!\n",
      "Carregando as despesas do deputado Átila Lins [...]\n",
      "Despesas do deputado Átila Lins adicionado aos dados para análise!\n",
      "Carregando as despesas do deputado Átila Lira [...]\n",
      "Despesas do deputado Átila Lira adicionado aos dados para análise!\n",
      "Carregando as despesas do deputado Augusto Coutinho [...]\n",
      "Despesas do deputado Augusto Coutinho adicionado aos dados para análise!\n",
      "Carregando as despesas do deputado Augusto Pupio [...]\n",
      "Despesas do deputado Augusto Pupio adicionado aos dados para análise!\n",
      "Carregando as despesas do deputado Aureo Ribeiro [...]\n",
      "Despesas do deputado Aureo Ribeiro adicionado aos dados para análise!\n",
      "Carregando as despesas do deputado Bacelar [...]\n",
      "Despesas do deputado Bacelar adicionado aos dados para análise!\n",
      "Carregando as despesas do deputado Baleia Rossi [...]\n",
      "Despesas do deputado Baleia Rossi adicionado aos dados para análise!\n",
      "Carregando as despesas do deputado Bandeira de Mello [...]\n",
      "Despesas do deputado Bandeira de Mello adicionado aos dados para análise!\n",
      "Carregando as despesas do deputado Bebeto [...]\n",
      "Despesas do deputado Bebeto adicionado aos dados para análise!\n",
      "Carregando as despesas do deputado Benedita da Silva [...]\n",
      "Despesas do deputado Benedita da Silva adicionado aos dados para análise!\n",
      "Carregando as despesas do deputado Benes Leocádio [...]\n",
      "Despesas do deputado Benes Leocádio adicionado aos dados para análise!\n",
      "Carregando as despesas do deputado Beto Pereira [...]\n",
      "Despesas do deputado Beto Pereira adicionado aos dados para análise!\n",
      "Carregando as despesas do deputado Beto Preto [...]\n",
      "Despesas do deputado Beto Preto adicionado aos dados para análise!\n",
      "Carregando as despesas do deputado Beto Richa [...]\n",
      "Despesas do deputado Beto Richa adicionado aos dados para análise!\n",
      "Carregando as despesas do deputado Bia Kicis [...]\n",
      "Despesas do deputado Bia Kicis adicionado aos dados para análise!\n",
      "Carregando as despesas do deputado Bibo Nunes [...]\n",
      "Despesas do deputado Bibo Nunes adicionado aos dados para análise!\n",
      "Carregando as despesas do deputado Bohn Gass [...]\n",
      "Despesas do deputado Bohn Gass adicionado aos dados para análise!\n",
      "Carregando as despesas do deputado Bruno Farias [...]\n",
      "Despesas do deputado Bruno Farias adicionado aos dados para análise!\n",
      "Carregando as despesas do deputado Bruno Ganem [...]\n",
      "Despesas do deputado Bruno Ganem adicionado aos dados para análise!\n",
      "Carregando as despesas do deputado Cabo Gilberto Silva [...]\n",
      "Despesas do deputado Cabo Gilberto Silva adicionado aos dados para análise!\n",
      "Carregando as despesas do deputado Camila Jara [...]\n",
      "Despesas do deputado Camila Jara adicionado aos dados para análise!\n",
      "Carregando as despesas do deputado Capitão Alberto Neto [...]\n",
      "Despesas do deputado Capitão Alberto Neto adicionado aos dados para análise!\n",
      "Carregando as despesas do deputado Capitão Alden [...]\n",
      "Despesas do deputado Capitão Alden adicionado aos dados para análise!\n",
      "Carregando as despesas do deputado Capitão Augusto [...]\n",
      "Despesas do deputado Capitão Augusto adicionado aos dados para análise!\n",
      "Carregando as despesas do deputado Carla Zambelli [...]\n",
      "Despesas do deputado Carla Zambelli adicionado aos dados para análise!\n",
      "Carregando as despesas do deputado Carlos Chiodini [...]\n",
      "Despesas do deputado Carlos Chiodini adicionado aos dados para análise!\n",
      "Carregando as despesas do deputado Carlos Gomes [...]\n",
      "Despesas do deputado Carlos Gomes adicionado aos dados para análise!\n",
      "Carregando as despesas do deputado Carlos Henrique Gaguim [...]\n",
      "Despesas do deputado Carlos Henrique Gaguim adicionado aos dados para análise!\n",
      "Carregando as despesas do deputado Carlos Jordy [...]\n",
      "Despesas do deputado Carlos Jordy adicionado aos dados para análise!\n",
      "Carregando as despesas do deputado Carlos Sampaio [...]\n",
      "Despesas do deputado Carlos Sampaio adicionado aos dados para análise!\n",
      "Carregando as despesas do deputado Carlos Veras [...]\n",
      "Despesas do deputado Carlos Veras adicionado aos dados para análise!\n",
      "Carregando as despesas do deputado Carlos Zarattini [...]\n",
      "Despesas do deputado Carlos Zarattini adicionado aos dados para análise!\n",
      "Carregando as despesas do deputado Carol Dartora [...]\n",
      "Despesas do deputado Carol Dartora adicionado aos dados para análise!\n",
      "Carregando as despesas do deputado Caroline de Toni [...]\n",
      "Despesas do deputado Caroline de Toni adicionado aos dados para análise!\n",
      "Carregando as despesas do deputado Castro Neto [...]\n",
      "Despesas do deputado Castro Neto adicionado aos dados para análise!\n",
      "Carregando as despesas do deputado Célia Xakriabá [...]\n",
      "Despesas do deputado Célia Xakriabá adicionado aos dados para análise!\n",
      "Carregando as despesas do deputado Célio Silveira [...]\n",
      "Despesas do deputado Célio Silveira adicionado aos dados para análise!\n",
      "Carregando as despesas do deputado Célio Studart [...]\n",
      "Despesas do deputado Célio Studart adicionado aos dados para análise!\n",
      "Carregando as despesas do deputado Celso Russomanno [...]\n",
      "Despesas do deputado Celso Russomanno adicionado aos dados para análise!\n",
      "Carregando as despesas do deputado Celso Sabino [...]\n",
      "Despesas do deputado Celso Sabino adicionado aos dados para análise!\n",
      "Carregando as despesas do deputado Cezinha de Madureira [...]\n",
      "Despesas do deputado Cezinha de Madureira adicionado aos dados para análise!\n",
      "Carregando as despesas do deputado Charles Fernandes [...]\n",
      "Despesas do deputado Charles Fernandes adicionado aos dados para análise!\n",
      "Carregando as despesas do deputado Chico Alencar [...]\n",
      "Despesas do deputado Chico Alencar adicionado aos dados para análise!\n",
      "Carregando as despesas do deputado Chiquinho Brazão [...]\n",
      "Despesas do deputado Chiquinho Brazão adicionado aos dados para análise!\n",
      "Carregando as despesas do deputado Chris Tonietto [...]\n",
      "Despesas do deputado Chris Tonietto adicionado aos dados para análise!\n",
      "Carregando as despesas do deputado Clarissa Tércio [...]\n",
      "Despesas do deputado Clarissa Tércio adicionado aos dados para análise!\n",
      "Carregando as despesas do deputado Claudio Cajado [...]\n",
      "Despesas do deputado Claudio Cajado adicionado aos dados para análise!\n",
      "Carregando as despesas do deputado Cleber Verde [...]\n",
      "Despesas do deputado Cleber Verde adicionado aos dados para análise!\n",
      "Carregando as despesas do deputado Clodoaldo Magalhães [...]\n",
      "Despesas do deputado Clodoaldo Magalhães adicionado aos dados para análise!\n",
      "Carregando as despesas do deputado Cobalchini [...]\n",
      "Despesas do deputado Cobalchini adicionado aos dados para análise!\n",
      "Carregando as despesas do deputado Coronel Assis [...]\n",
      "Despesas do deputado Coronel Assis adicionado aos dados para análise!\n",
      "Carregando as despesas do deputado Coronel Chrisóstomo [...]\n",
      "Despesas do deputado Coronel Chrisóstomo adicionado aos dados para análise!\n",
      "Carregando as despesas do deputado Coronel Fernanda [...]\n",
      "Despesas do deputado Coronel Fernanda adicionado aos dados para análise!\n",
      "Carregando as despesas do deputado Coronel Meira [...]\n",
      "Despesas do deputado Coronel Meira adicionado aos dados para análise!\n",
      "Carregando as despesas do deputado Coronel Telhada [...]\n",
      "Despesas do deputado Coronel Telhada adicionado aos dados para análise!\n",
      "Carregando as despesas do deputado Coronel Ulysses [...]\n",
      "Despesas do deputado Coronel Ulysses adicionado aos dados para análise!\n",
      "Carregando as despesas do deputado Covatti Filho [...]\n",
      "Despesas do deputado Covatti Filho adicionado aos dados para análise!\n",
      "Carregando as despesas do deputado Cristiane Lopes [...]\n",
      "Despesas do deputado Cristiane Lopes adicionado aos dados para análise!\n",
      "Carregando as despesas do deputado Da Vitoria [...]\n",
      "Despesas do deputado Da Vitoria adicionado aos dados para análise!\n",
      "Carregando as despesas do deputado Dagoberto Nogueira [...]\n",
      "Despesas do deputado Dagoberto Nogueira adicionado aos dados para análise!\n",
      "Carregando as despesas do deputado Daiana Santos [...]\n",
      "Despesas do deputado Daiana Santos adicionado aos dados para análise!\n",
      "Carregando as despesas do deputado Dal Barreto [...]\n",
      "Despesas do deputado Dal Barreto adicionado aos dados para análise!\n",
      "Carregando as despesas do deputado Damião Feliciano [...]\n",
      "Despesas do deputado Damião Feliciano adicionado aos dados para análise!\n",
      "Carregando as despesas do deputado Dandara [...]\n",
      "Despesas do deputado Dandara adicionado aos dados para análise!\n",
      "Carregando as despesas do deputado Dani Cunha [...]\n",
      "Despesas do deputado Dani Cunha adicionado aos dados para análise!\n",
      "Carregando as despesas do deputado Daniel Agrobom [...]\n",
      "Despesas do deputado Daniel Agrobom adicionado aos dados para análise!\n",
      "Carregando as despesas do deputado Daniel Almeida [...]\n",
      "Despesas do deputado Daniel Almeida adicionado aos dados para análise!\n",
      "Carregando as despesas do deputado Daniel Barbosa [...]\n",
      "Despesas do deputado Daniel Barbosa adicionado aos dados para análise!\n",
      "Carregando as despesas do deputado Daniel Freitas [...]\n",
      "Despesas do deputado Daniel Freitas adicionado aos dados para análise!\n",
      "Carregando as despesas do deputado Daniel Soranz [...]\n",
      "Despesas do deputado Daniel Soranz adicionado aos dados para análise!\n",
      "Carregando as despesas do deputado Daniel Trzeciak [...]\n",
      "Despesas do deputado Daniel Trzeciak adicionado aos dados para análise!\n",
      "Carregando as despesas do deputado Daniela Reinehr [...]\n",
      "Despesas do deputado Daniela Reinehr adicionado aos dados para análise!\n",
      "Carregando as despesas do deputado Danilo Forte [...]\n",
      "Despesas do deputado Danilo Forte adicionado aos dados para análise!\n",
      "Carregando as despesas do deputado Danrlei de Deus Hinterholz [...]\n",
      "Despesas do deputado Danrlei de Deus Hinterholz adicionado aos dados para análise!\n",
      "Carregando as despesas do deputado David Soares [...]\n",
      "Despesas do deputado David Soares adicionado aos dados para análise!\n",
      "Carregando as despesas do deputado Dayany do Capitão [...]\n",
      "Despesas do deputado Dayany do Capitão adicionado aos dados para análise!\n",
      "Carregando as despesas do deputado Defensor Stélio Dener [...]\n",
      "Despesas do deputado Defensor Stélio Dener adicionado aos dados para análise!\n",
      "Carregando as despesas do deputado Delegada Adriana Accorsi [...]\n",
      "Despesas do deputado Delegada Adriana Accorsi adicionado aos dados para análise!\n",
      "Carregando as despesas do deputado Delegada Ione [...]\n",
      "Despesas do deputado Delegada Ione adicionado aos dados para análise!\n",
      "Carregando as despesas do deputado Delegada Katarina [...]\n",
      "Despesas do deputado Delegada Katarina adicionado aos dados para análise!\n",
      "Carregando as despesas do deputado Delegado Caveira [...]\n",
      "Despesas do deputado Delegado Caveira adicionado aos dados para análise!\n",
      "Carregando as despesas do deputado Delegado da Cunha [...]\n",
      "Despesas do deputado Delegado da Cunha adicionado aos dados para análise!\n",
      "Carregando as despesas do deputado Delegado Éder Mauro [...]\n",
      "Despesas do deputado Delegado Éder Mauro adicionado aos dados para análise!\n",
      "Carregando as despesas do deputado Delegado Fabio Costa [...]\n",
      "Despesas do deputado Delegado Fabio Costa adicionado aos dados para análise!\n",
      "Carregando as despesas do deputado Delegado Marcelo Freitas [...]\n",
      "Despesas do deputado Delegado Marcelo Freitas adicionado aos dados para análise!\n",
      "Carregando as despesas do deputado Delegado Matheus Laiola [...]\n",
      "Despesas do deputado Delegado Matheus Laiola adicionado aos dados para análise!\n",
      "Carregando as despesas do deputado Delegado Palumbo [...]\n",
      "Despesas do deputado Delegado Palumbo adicionado aos dados para análise!\n",
      "Carregando as despesas do deputado Delegado Paulo Bilynskyj [...]\n",
      "Despesas do deputado Delegado Paulo Bilynskyj adicionado aos dados para análise!\n",
      "Carregando as despesas do deputado Delegado Ramagem [...]\n",
      "Despesas do deputado Delegado Ramagem adicionado aos dados para análise!\n",
      "Carregando as despesas do deputado Deltan Dallagnol [...]\n",
      "Despesas do deputado Deltan Dallagnol adicionado aos dados para análise!\n",
      "Carregando as despesas do deputado Denise Pessôa [...]\n",
      "Despesas do deputado Denise Pessôa adicionado aos dados para análise!\n",
      "Carregando as despesas do deputado Detinha [...]\n",
      "Despesas do deputado Detinha adicionado aos dados para análise!\n",
      "Carregando as despesas do deputado Diego Andrade [...]\n",
      "Despesas do deputado Diego Andrade adicionado aos dados para análise!\n",
      "Carregando as despesas do deputado Diego Coronel [...]\n",
      "Despesas do deputado Diego Coronel adicionado aos dados para análise!\n",
      "Carregando as despesas do deputado Diego Garcia [...]\n",
      "Despesas do deputado Diego Garcia adicionado aos dados para análise!\n",
      "Carregando as despesas do deputado Dilceu Sperafico [...]\n",
      "Despesas do deputado Dilceu Sperafico adicionado aos dados para análise!\n",
      "Carregando as despesas do deputado Dilvanda Faro [...]\n",
      "Despesas do deputado Dilvanda Faro adicionado aos dados para análise!\n",
      "Carregando as despesas do deputado Dimas Fabiano [...]\n",
      "Despesas do deputado Dimas Fabiano adicionado aos dados para análise!\n",
      "Carregando as despesas do deputado Dimas Gadelha [...]\n",
      "Despesas do deputado Dimas Gadelha adicionado aos dados para análise!\n",
      "Carregando as despesas do deputado Domingos Neto [...]\n",
      "Despesas do deputado Domingos Neto adicionado aos dados para análise!\n",
      "Carregando as despesas do deputado Domingos Sávio [...]\n",
      "Despesas do deputado Domingos Sávio adicionado aos dados para análise!\n",
      "Carregando as despesas do deputado Dorinaldo Malafaia [...]\n",
      "Despesas do deputado Dorinaldo Malafaia adicionado aos dados para análise!\n",
      "Carregando as despesas do deputado Doutor Luizinho [...]\n",
      "Despesas do deputado Doutor Luizinho adicionado aos dados para análise!\n",
      "Carregando as despesas do deputado Dr Benjamim [...]\n",
      "Despesas do deputado Dr Benjamim adicionado aos dados para análise!\n",
      "Carregando as despesas do deputado Dr. Fernando Máximo [...]\n",
      "Despesas do deputado Dr. Fernando Máximo adicionado aos dados para análise!\n",
      "Carregando as despesas do deputado Dr. Francisco [...]\n",
      "Despesas do deputado Dr. Francisco adicionado aos dados para análise!\n",
      "Carregando as despesas do deputado Dr. Frederico [...]\n",
      "Despesas do deputado Dr. Frederico adicionado aos dados para análise!\n",
      "Carregando as despesas do deputado Dr. Jaziel [...]\n",
      "Despesas do deputado Dr. Jaziel adicionado aos dados para análise!\n",
      "Carregando as despesas do deputado Dr. Luiz Ovando [...]\n",
      "Despesas do deputado Dr. Luiz Ovando adicionado aos dados para análise!\n",
      "Carregando as despesas do deputado Dr. Victor Linhalis [...]\n",
      "Despesas do deputado Dr. Victor Linhalis adicionado aos dados para análise!\n",
      "Carregando as despesas do deputado Dr. Zacharias Calil [...]\n",
      "Despesas do deputado Dr. Zacharias Calil adicionado aos dados para análise!\n",
      "Carregando as despesas do deputado Dra. Alessandra Haber [...]\n",
      "Despesas do deputado Dra. Alessandra Haber adicionado aos dados para análise!\n",
      "Carregando as despesas do deputado Duarte [...]\n",
      "Despesas do deputado Duarte adicionado aos dados para análise!\n",
      "Carregando as despesas do deputado Duda Ramos [...]\n",
      "Despesas do deputado Duda Ramos adicionado aos dados para análise!\n",
      "Carregando as despesas do deputado Duda Salabert [...]\n",
      "Despesas do deputado Duda Salabert adicionado aos dados para análise!\n",
      "Carregando as despesas do deputado Eduardo Bismarck [...]\n",
      "Despesas do deputado Eduardo Bismarck adicionado aos dados para análise!\n",
      "Carregando as despesas do deputado Eduardo Bolsonaro [...]\n",
      "Despesas do deputado Eduardo Bolsonaro adicionado aos dados para análise!\n",
      "Carregando as despesas do deputado Eduardo da Fonte [...]\n",
      "Despesas do deputado Eduardo da Fonte adicionado aos dados para análise!\n",
      "Carregando as despesas do deputado Eduardo Velloso [...]\n",
      "Despesas do deputado Eduardo Velloso adicionado aos dados para análise!\n",
      "Carregando as despesas do deputado Elcione Barbalho [...]\n",
      "Despesas do deputado Elcione Barbalho adicionado aos dados para análise!\n",
      "Carregando as despesas do deputado Eli Borges [...]\n",
      "Despesas do deputado Eli Borges adicionado aos dados para análise!\n",
      "Carregando as despesas do deputado Elmar Nascimento [...]\n",
      "Despesas do deputado Elmar Nascimento adicionado aos dados para análise!\n",
      "Carregando as despesas do deputado Emanuel Pinheiro Neto [...]\n",
      "Despesas do deputado Emanuel Pinheiro Neto adicionado aos dados para análise!\n",
      "Carregando as despesas do deputado Emidinho Madeira [...]\n",
      "Despesas do deputado Emidinho Madeira adicionado aos dados para análise!\n",
      "Carregando as despesas do deputado Enio Verri [...]\n",
      "Despesas do deputado Enio Verri adicionado aos dados para análise!\n",
      "Carregando as despesas do deputado Eriberto Medeiros [...]\n",
      "Despesas do deputado Eriberto Medeiros adicionado aos dados para análise!\n",
      "Carregando as despesas do deputado Erika Hilton [...]\n",
      "Despesas do deputado Erika Hilton adicionado aos dados para análise!\n",
      "Carregando as despesas do deputado Erika Kokay [...]\n",
      "Despesas do deputado Erika Kokay adicionado aos dados para análise!\n",
      "Carregando as despesas do deputado Eros Biondini [...]\n",
      "Despesas do deputado Eros Biondini adicionado aos dados para análise!\n",
      "Carregando as despesas do deputado Euclydes Pettersen [...]\n",
      "Despesas do deputado Euclydes Pettersen adicionado aos dados para análise!\n",
      "Carregando as despesas do deputado Eunício Oliveira [...]\n",
      "Despesas do deputado Eunício Oliveira adicionado aos dados para análise!\n",
      "Carregando as despesas do deputado Evair Vieira de Melo [...]\n",
      "Despesas do deputado Evair Vieira de Melo adicionado aos dados para análise!\n",
      "Carregando as despesas do deputado Fabio Garcia [...]\n",
      "Despesas do deputado Fabio Garcia adicionado aos dados para análise!\n",
      "Carregando as despesas do deputado Fábio Macedo [...]\n",
      "Despesas do deputado Fábio Macedo adicionado aos dados para análise!\n",
      "Carregando as despesas do deputado Fabio Reis [...]\n",
      "Despesas do deputado Fabio Reis adicionado aos dados para análise!\n",
      "Carregando as despesas do deputado Fabio Schiochet [...]\n",
      "Despesas do deputado Fabio Schiochet adicionado aos dados para análise!\n",
      "Carregando as despesas do deputado Fábio Teruel [...]\n",
      "Despesas do deputado Fábio Teruel adicionado aos dados para análise!\n",
      "Carregando as despesas do deputado Fausto Pinato [...]\n",
      "Despesas do deputado Fausto Pinato adicionado aos dados para análise!\n",
      "Carregando as despesas do deputado Fausto Santos Jr. [...]\n",
      "Despesas do deputado Fausto Santos Jr. adicionado aos dados para análise!\n",
      "Carregando as despesas do deputado Felipe Becari [...]\n",
      "Despesas do deputado Felipe Becari adicionado aos dados para análise!\n",
      "Carregando as despesas do deputado Felipe Carreras [...]\n",
      "Despesas do deputado Felipe Carreras adicionado aos dados para análise!\n",
      "Carregando as despesas do deputado Felipe Francischini [...]\n",
      "Despesas do deputado Felipe Francischini adicionado aos dados para análise!\n",
      "Carregando as despesas do deputado Félix Mendonça Júnior [...]\n",
      "Despesas do deputado Félix Mendonça Júnior adicionado aos dados para análise!\n",
      "Carregando as despesas do deputado Fernanda Melchionna [...]\n",
      "Despesas do deputado Fernanda Melchionna adicionado aos dados para análise!\n",
      "Carregando as despesas do deputado Fernanda Pessoa [...]\n",
      "Despesas do deputado Fernanda Pessoa adicionado aos dados para análise!\n",
      "Carregando as despesas do deputado Fernando Coelho Filho [...]\n",
      "Despesas do deputado Fernando Coelho Filho adicionado aos dados para análise!\n",
      "Carregando as despesas do deputado Fernando Mineiro [...]\n",
      "Despesas do deputado Fernando Mineiro adicionado aos dados para análise!\n",
      "Carregando as despesas do deputado Fernando Monteiro [...]\n",
      "Despesas do deputado Fernando Monteiro adicionado aos dados para análise!\n",
      "Carregando as despesas do deputado Fernando Rodolfo [...]\n",
      "Despesas do deputado Fernando Rodolfo adicionado aos dados para análise!\n",
      "Carregando as despesas do deputado Filipe Barros [...]\n",
      "Despesas do deputado Filipe Barros adicionado aos dados para análise!\n",
      "Carregando as despesas do deputado Filipe Martins [...]\n",
      "Despesas do deputado Filipe Martins adicionado aos dados para análise!\n",
      "Carregando as despesas do deputado Flávia Morais [...]\n",
      "Despesas do deputado Flávia Morais adicionado aos dados para análise!\n",
      "Carregando as despesas do deputado Flávio Nogueira [...]\n",
      "Despesas do deputado Flávio Nogueira adicionado aos dados para análise!\n",
      "Carregando as despesas do deputado Florentino Neto [...]\n",
      "Despesas do deputado Florentino Neto adicionado aos dados para análise!\n",
      "Carregando as despesas do deputado Franciane Bayer [...]\n",
      "Despesas do deputado Franciane Bayer adicionado aos dados para análise!\n",
      "Carregando as despesas do deputado Fred Costa [...]\n",
      "Despesas do deputado Fred Costa adicionado aos dados para análise!\n",
      "Carregando as despesas do deputado Fred Linhares [...]\n",
      "Despesas do deputado Fred Linhares adicionado aos dados para análise!\n",
      "Carregando as despesas do deputado Gabriel Nunes [...]\n",
      "Despesas do deputado Gabriel Nunes adicionado aos dados para análise!\n",
      "Carregando as despesas do deputado General Girão [...]\n",
      "Despesas do deputado General Girão adicionado aos dados para análise!\n",
      "Carregando as despesas do deputado General Pazuello [...]\n",
      "Despesas do deputado General Pazuello adicionado aos dados para análise!\n",
      "Carregando as despesas do deputado Geovania de Sá [...]\n",
      "Despesas do deputado Geovania de Sá adicionado aos dados para análise!\n",
      "Carregando as despesas do deputado Geraldo Mendes [...]\n",
      "Despesas do deputado Geraldo Mendes adicionado aos dados para análise!\n",
      "Carregando as despesas do deputado Geraldo Resende [...]\n",
      "Despesas do deputado Geraldo Resende adicionado aos dados para análise!\n",
      "Carregando as despesas do deputado Gerlen Diniz [...]\n",
      "Despesas do deputado Gerlen Diniz adicionado aos dados para análise!\n",
      "Carregando as despesas do deputado Gervásio Maia [...]\n",
      "Despesas do deputado Gervásio Maia adicionado aos dados para análise!\n",
      "Carregando as despesas do deputado Giacobo [...]\n",
      "Despesas do deputado Giacobo adicionado aos dados para análise!\n",
      "Carregando as despesas do deputado Gilberto Abramo [...]\n",
      "Despesas do deputado Gilberto Abramo adicionado aos dados para análise!\n",
      "Carregando as despesas do deputado Gilberto Nascimento [...]\n",
      "Despesas do deputado Gilberto Nascimento adicionado aos dados para análise!\n",
      "Carregando as despesas do deputado Gilson Daniel [...]\n",
      "Despesas do deputado Gilson Daniel adicionado aos dados para análise!\n",
      "Carregando as despesas do deputado Gilson Marques [...]\n",
      "Despesas do deputado Gilson Marques adicionado aos dados para análise!\n",
      "Carregando as despesas do deputado Gilvan da Federal [...]\n",
      "Despesas do deputado Gilvan da Federal adicionado aos dados para análise!\n",
      "Carregando as despesas do deputado Gilvan Maximo [...]\n",
      "Despesas do deputado Gilvan Maximo adicionado aos dados para análise!\n",
      "Carregando as despesas do deputado Giovani Cherini [...]\n",
      "Despesas do deputado Giovani Cherini adicionado aos dados para análise!\n",
      "Carregando as despesas do deputado Glauber Braga [...]\n",
      "Despesas do deputado Glauber Braga adicionado aos dados para análise!\n",
      "Carregando as despesas do deputado Glaustin da Fokus [...]\n",
      "Despesas do deputado Glaustin da Fokus adicionado aos dados para análise!\n",
      "Carregando as despesas do deputado Gleisi Hoffmann [...]\n",
      "Despesas do deputado Gleisi Hoffmann adicionado aos dados para análise!\n",
      "Carregando as despesas do deputado Greyce Elias [...]\n",
      "Despesas do deputado Greyce Elias adicionado aos dados para análise!\n",
      "Carregando as despesas do deputado Guilherme Boulos [...]\n",
      "Despesas do deputado Guilherme Boulos adicionado aos dados para análise!\n",
      "Carregando as despesas do deputado Guilherme Uchoa [...]\n",
      "Despesas do deputado Guilherme Uchoa adicionado aos dados para análise!\n",
      "Carregando as despesas do deputado Gustavo Gayer [...]\n",
      "Despesas do deputado Gustavo Gayer adicionado aos dados para análise!\n",
      "Carregando as despesas do deputado Gustinho Ribeiro [...]\n",
      "Despesas do deputado Gustinho Ribeiro adicionado aos dados para análise!\n",
      "Carregando as despesas do deputado Gutemberg Reis [...]\n",
      "Despesas do deputado Gutemberg Reis adicionado aos dados para análise!\n",
      "Carregando as despesas do deputado Heitor Schuch [...]\n",
      "Despesas do deputado Heitor Schuch adicionado aos dados para análise!\n",
      "Carregando as despesas do deputado Helder Salomão [...]\n",
      "Despesas do deputado Helder Salomão adicionado aos dados para análise!\n",
      "Carregando as despesas do deputado Helena Lima [...]\n",
      "Despesas do deputado Helena Lima adicionado aos dados para análise!\n",
      "Carregando as despesas do deputado Helio Lopes [...]\n",
      "Despesas do deputado Helio Lopes adicionado aos dados para análise!\n",
      "Carregando as despesas do deputado Henderson Pinto [...]\n",
      "Despesas do deputado Henderson Pinto adicionado aos dados para análise!\n",
      "Carregando as despesas do deputado Hercílio Coelho Diniz [...]\n",
      "Despesas do deputado Hercílio Coelho Diniz adicionado aos dados para análise!\n",
      "Carregando as despesas do deputado Hugo Leal [...]\n",
      "Despesas do deputado Hugo Leal adicionado aos dados para análise!\n",
      "Carregando as despesas do deputado Hugo Motta [...]\n",
      "Despesas do deputado Hugo Motta adicionado aos dados para análise!\n",
      "Carregando as despesas do deputado Icaro de Valmir [...]\n",
      "Despesas do deputado Icaro de Valmir adicionado aos dados para análise!\n",
      "Carregando as despesas do deputado Idilvan Alencar [...]\n",
      "Despesas do deputado Idilvan Alencar adicionado aos dados para análise!\n",
      "Carregando as despesas do deputado Igor Timo [...]\n",
      "Despesas do deputado Igor Timo adicionado aos dados para análise!\n",
      "Carregando as despesas do deputado Ismael [...]\n",
      "Despesas do deputado Ismael adicionado aos dados para análise!\n",
      "Carregando as despesas do deputado Ismael Alexandrino [...]\n",
      "Despesas do deputado Ismael Alexandrino adicionado aos dados para análise!\n",
      "Carregando as despesas do deputado Isnaldo Bulhões Jr. [...]\n",
      "Despesas do deputado Isnaldo Bulhões Jr. adicionado aos dados para análise!\n",
      "Carregando as despesas do deputado Ivan Valente [...]\n",
      "Despesas do deputado Ivan Valente adicionado aos dados para análise!\n",
      "Carregando as despesas do deputado Ivoneide Caetano [...]\n",
      "Despesas do deputado Ivoneide Caetano adicionado aos dados para análise!\n",
      "Carregando as despesas do deputado Iza Arruda [...]\n",
      "Despesas do deputado Iza Arruda adicionado aos dados para análise!\n",
      "Carregando as despesas do deputado Jack Rocha [...]\n",
      "Despesas do deputado Jack Rocha adicionado aos dados para análise!\n",
      "Carregando as despesas do deputado Jadyel Alencar [...]\n",
      "Despesas do deputado Jadyel Alencar adicionado aos dados para análise!\n",
      "Carregando as despesas do deputado Jandira Feghali [...]\n",
      "Despesas do deputado Jandira Feghali adicionado aos dados para análise!\n",
      "Carregando as despesas do deputado Jeferson Rodrigues [...]\n",
      "Despesas do deputado Jeferson Rodrigues adicionado aos dados para análise!\n",
      "Carregando as despesas do deputado Jefferson Campos [...]\n",
      "Despesas do deputado Jefferson Campos adicionado aos dados para análise!\n",
      "Carregando as despesas do deputado Jhonatan de Jesus [...]\n",
      "Despesas do deputado Jhonatan de Jesus adicionado aos dados para análise!\n",
      "Carregando as despesas do deputado Jilmar Tatto [...]\n",
      "Despesas do deputado Jilmar Tatto adicionado aos dados para análise!\n",
      "Carregando as despesas do deputado João Carlos Bacelar [...]\n",
      "Despesas do deputado João Carlos Bacelar adicionado aos dados para análise!\n",
      "Carregando as despesas do deputado João Daniel [...]\n",
      "Despesas do deputado João Daniel adicionado aos dados para análise!\n",
      "Carregando as despesas do deputado João Leão [...]\n",
      "Despesas do deputado João Leão adicionado aos dados para análise!\n",
      "Carregando as despesas do deputado João Maia [...]\n",
      "Despesas do deputado João Maia adicionado aos dados para análise!\n",
      "Carregando as despesas do deputado Joaquim Passarinho [...]\n",
      "Despesas do deputado Joaquim Passarinho adicionado aos dados para análise!\n",
      "Carregando as despesas do deputado Jonas Donizette [...]\n",
      "Despesas do deputado Jonas Donizette adicionado aos dados para análise!\n",
      "Carregando as despesas do deputado Jorge Braz [...]\n",
      "Despesas do deputado Jorge Braz adicionado aos dados para análise!\n",
      "Carregando as despesas do deputado Jorge Goetten [...]\n",
      "Despesas do deputado Jorge Goetten adicionado aos dados para análise!\n",
      "Carregando as despesas do deputado Jorge Solla [...]\n",
      "Despesas do deputado Jorge Solla adicionado aos dados para análise!\n",
      "Carregando as despesas do deputado José Airton Félix Cirilo [...]\n",
      "Despesas do deputado José Airton Félix Cirilo adicionado aos dados para análise!\n",
      "Carregando as despesas do deputado José Guimarães [...]\n",
      "Despesas do deputado José Guimarães adicionado aos dados para análise!\n",
      "Carregando as despesas do deputado José Medeiros [...]\n",
      "Despesas do deputado José Medeiros adicionado aos dados para análise!\n",
      "Carregando as despesas do deputado José Nelto [...]\n",
      "Despesas do deputado José Nelto adicionado aos dados para análise!\n",
      "Carregando as despesas do deputado José Priante [...]\n",
      "Despesas do deputado José Priante adicionado aos dados para análise!\n",
      "Carregando as despesas do deputado José Rocha [...]\n",
      "Despesas do deputado José Rocha adicionado aos dados para análise!\n",
      "Carregando as despesas do deputado Joseildo Ramos [...]\n",
      "Despesas do deputado Joseildo Ramos adicionado aos dados para análise!\n",
      "Carregando as despesas do deputado Josenildo [...]\n",
      "Despesas do deputado Josenildo adicionado aos dados para análise!\n",
      "Carregando as despesas do deputado Josias Gomes [...]\n",
      "Despesas do deputado Josias Gomes adicionado aos dados para análise!\n",
      "Carregando as despesas do deputado Josimar Maranhãozinho [...]\n",
      "Despesas do deputado Josimar Maranhãozinho adicionado aos dados para análise!\n",
      "Carregando as despesas do deputado Josivaldo JP [...]\n",
      "Despesas do deputado Josivaldo JP adicionado aos dados para análise!\n",
      "Carregando as despesas do deputado Juarez Costa [...]\n",
      "Despesas do deputado Juarez Costa adicionado aos dados para análise!\n",
      "Carregando as despesas do deputado Julia Zanatta [...]\n",
      "Despesas do deputado Julia Zanatta adicionado aos dados para análise!\n",
      "Carregando as despesas do deputado Juliana Cardoso [...]\n",
      "Despesas do deputado Juliana Cardoso adicionado aos dados para análise!\n",
      "Carregando as despesas do deputado Julio Arcoverde [...]\n",
      "Despesas do deputado Julio Arcoverde adicionado aos dados para análise!\n",
      "Carregando as despesas do deputado Júlio Cesar [...]\n",
      "Despesas do deputado Júlio Cesar adicionado aos dados para análise!\n",
      "Carregando as despesas do deputado Julio Cesar Ribeiro [...]\n",
      "Despesas do deputado Julio Cesar Ribeiro adicionado aos dados para análise!\n",
      "Carregando as despesas do deputado Julio Lopes [...]\n",
      "Despesas do deputado Julio Lopes adicionado aos dados para análise!\n",
      "Carregando as despesas do deputado Juninho do Pneu [...]\n",
      "Despesas do deputado Juninho do Pneu adicionado aos dados para análise!\n",
      "Carregando as despesas do deputado Junio Amaral [...]\n",
      "Despesas do deputado Junio Amaral adicionado aos dados para análise!\n",
      "Carregando as despesas do deputado Júnior Ferrari [...]\n",
      "Despesas do deputado Júnior Ferrari adicionado aos dados para análise!\n",
      "Carregando as despesas do deputado Junior Lourenço [...]\n",
      "Despesas do deputado Junior Lourenço adicionado aos dados para análise!\n",
      "Carregando as despesas do deputado Júnior Mano [...]\n",
      "Despesas do deputado Júnior Mano adicionado aos dados para análise!\n",
      "Carregando as despesas do deputado Keniston Braga [...]\n",
      "Despesas do deputado Keniston Braga adicionado aos dados para análise!\n",
      "Carregando as despesas do deputado Kiko Celeguim [...]\n",
      "Despesas do deputado Kiko Celeguim adicionado aos dados para análise!\n",
      "Carregando as despesas do deputado Kim Kataguiri [...]\n",
      "Despesas do deputado Kim Kataguiri adicionado aos dados para análise!\n",
      "Carregando as despesas do deputado Lafayette de Andrada [...]\n",
      "Despesas do deputado Lafayette de Andrada adicionado aos dados para análise!\n",
      "Carregando as despesas do deputado Laura Carneiro [...]\n",
      "Despesas do deputado Laura Carneiro adicionado aos dados para análise!\n",
      "Carregando as despesas do deputado Lázaro Botelho [...]\n",
      "Despesas do deputado Lázaro Botelho adicionado aos dados para análise!\n",
      "Carregando as despesas do deputado Leandre [...]\n",
      "Despesas do deputado Leandre adicionado aos dados para análise!\n",
      "Carregando as despesas do deputado Lebrão [...]\n",
      "Despesas do deputado Lebrão adicionado aos dados para análise!\n",
      "Carregando as despesas do deputado Lêda Borges [...]\n",
      "Despesas do deputado Lêda Borges adicionado aos dados para análise!\n",
      "Carregando as despesas do deputado Léo Prates [...]\n",
      "Despesas do deputado Léo Prates adicionado aos dados para análise!\n",
      "Carregando as despesas do deputado Leonardo Monteiro [...]\n",
      "Despesas do deputado Leonardo Monteiro adicionado aos dados para análise!\n",
      "Carregando as despesas do deputado Leur Lomanto Júnior [...]\n",
      "Despesas do deputado Leur Lomanto Júnior adicionado aos dados para análise!\n",
      "Carregando as despesas do deputado Lídice da Mata [...]\n",
      "Despesas do deputado Lídice da Mata adicionado aos dados para análise!\n",
      "Carregando as despesas do deputado Lincoln Portela [...]\n",
      "Despesas do deputado Lincoln Portela adicionado aos dados para análise!\n",
      "Carregando as despesas do deputado Lindbergh Farias [...]\n",
      "Despesas do deputado Lindbergh Farias adicionado aos dados para análise!\n",
      "Carregando as despesas do deputado Lucas Ramos [...]\n",
      "Despesas do deputado Lucas Ramos adicionado aos dados para análise!\n",
      "Carregando as despesas do deputado Lucas Redecker [...]\n",
      "Despesas do deputado Lucas Redecker adicionado aos dados para análise!\n",
      "Carregando as despesas do deputado Luciano Amaral [...]\n",
      "Despesas do deputado Luciano Amaral adicionado aos dados para análise!\n",
      "Carregando as despesas do deputado Luciano Bivar [...]\n",
      "Despesas do deputado Luciano Bivar adicionado aos dados para análise!\n",
      "Carregando as despesas do deputado Luciano Ducci [...]\n",
      "Despesas do deputado Luciano Ducci adicionado aos dados para análise!\n",
      "Carregando as despesas do deputado Luciano Vieira [...]\n",
      "Despesas do deputado Luciano Vieira adicionado aos dados para análise!\n",
      "Carregando as despesas do deputado Lucio Mosquini [...]\n",
      "Despesas do deputado Lucio Mosquini adicionado aos dados para análise!\n",
      "Carregando as despesas do deputado Luis Carlos Gomes [...]\n",
      "Despesas do deputado Luis Carlos Gomes adicionado aos dados para análise!\n",
      "Carregando as despesas do deputado Luis Tibé [...]\n",
      "Despesas do deputado Luis Tibé adicionado aos dados para análise!\n",
      "Carregando as despesas do deputado Luisa Canziani [...]\n",
      "Despesas do deputado Luisa Canziani adicionado aos dados para análise!\n",
      "Carregando as despesas do deputado Luiz Carlos Busato [...]\n",
      "Despesas do deputado Luiz Carlos Busato adicionado aos dados para análise!\n",
      "Carregando as despesas do deputado Luiz Carlos Motta [...]\n",
      "Despesas do deputado Luiz Carlos Motta adicionado aos dados para análise!\n",
      "Carregando as despesas do deputado Luiz Couto [...]\n",
      "Despesas do deputado Luiz Couto adicionado aos dados para análise!\n",
      "Carregando as despesas do deputado Luiz Fernando Faria [...]\n",
      "Despesas do deputado Luiz Fernando Faria adicionado aos dados para análise!\n",
      "Carregando as despesas do deputado Luiz Gastão [...]\n",
      "Despesas do deputado Luiz Gastão adicionado aos dados para análise!\n",
      "Carregando as despesas do deputado Luiz Lima [...]\n",
      "Despesas do deputado Luiz Lima adicionado aos dados para análise!\n",
      "Carregando as despesas do deputado Luiz Nishimori [...]\n",
      "Despesas do deputado Luiz Nishimori adicionado aos dados para análise!\n",
      "Carregando as despesas do deputado Luiz Philippe de Orleans e Bragança [...]\n",
      "Despesas do deputado Luiz Philippe de Orleans e Bragança adicionado aos dados para análise!\n",
      "Carregando as despesas do deputado Luiza Erundina [...]\n",
      "Despesas do deputado Luiza Erundina adicionado aos dados para análise!\n",
      "Carregando as despesas do deputado Luizianne Lins [...]\n",
      "Despesas do deputado Luizianne Lins adicionado aos dados para análise!\n",
      "Carregando as despesas do deputado Lula da Fonte [...]\n",
      "Despesas do deputado Lula da Fonte adicionado aos dados para análise!\n",
      "Carregando as despesas do deputado Magda Mofatto [...]\n",
      "Despesas do deputado Magda Mofatto adicionado aos dados para análise!\n",
      "Carregando as despesas do deputado Marangoni [...]\n",
      "Despesas do deputado Marangoni adicionado aos dados para análise!\n",
      "Carregando as despesas do deputado Marcel van Hattem [...]\n",
      "Despesas do deputado Marcel van Hattem adicionado aos dados para análise!\n",
      "Carregando as despesas do deputado Marcelo Álvaro Antônio [...]\n",
      "Despesas do deputado Marcelo Álvaro Antônio adicionado aos dados para análise!\n",
      "Carregando as despesas do deputado Marcelo Crivella [...]\n",
      "Despesas do deputado Marcelo Crivella adicionado aos dados para análise!\n",
      "Carregando as despesas do deputado Marcelo Lima [...]\n",
      "Despesas do deputado Marcelo Lima adicionado aos dados para análise!\n",
      "Carregando as despesas do deputado Marcelo Moraes [...]\n",
      "Despesas do deputado Marcelo Moraes adicionado aos dados para análise!\n",
      "Carregando as despesas do deputado Marcelo Queiroz [...]\n",
      "Despesas do deputado Marcelo Queiroz adicionado aos dados para análise!\n",
      "Carregando as despesas do deputado Marcio Alvino [...]\n",
      "Despesas do deputado Marcio Alvino adicionado aos dados para análise!\n",
      "Carregando as despesas do deputado Márcio Biolchi [...]\n",
      "Despesas do deputado Márcio Biolchi adicionado aos dados para análise!\n",
      "Carregando as despesas do deputado Márcio Honaiser [...]\n",
      "Despesas do deputado Márcio Honaiser adicionado aos dados para análise!\n",
      "Carregando as despesas do deputado Márcio Jerry [...]\n",
      "Despesas do deputado Márcio Jerry adicionado aos dados para análise!\n",
      "Carregando as despesas do deputado Márcio Marinho [...]\n",
      "Despesas do deputado Márcio Marinho adicionado aos dados para análise!\n",
      "Carregando as despesas do deputado Marco Bertaiolli [...]\n",
      "Despesas do deputado Marco Bertaiolli adicionado aos dados para análise!\n",
      "Carregando as despesas do deputado Marco Brasil [...]\n",
      "Despesas do deputado Marco Brasil adicionado aos dados para análise!\n",
      "Carregando as despesas do deputado Marcon [...]\n",
      "Despesas do deputado Marcon adicionado aos dados para análise!\n",
      "Carregando as despesas do deputado Marcos Aurélio Sampaio [...]\n",
      "Despesas do deputado Marcos Aurélio Sampaio adicionado aos dados para análise!\n",
      "Carregando as despesas do deputado Marcos Pereira [...]\n",
      "Despesas do deputado Marcos Pereira adicionado aos dados para análise!\n",
      "Carregando as despesas do deputado Marcos Pollon [...]\n",
      "Despesas do deputado Marcos Pollon adicionado aos dados para análise!\n",
      "Carregando as despesas do deputado Marcos Soares [...]\n",
      "Despesas do deputado Marcos Soares adicionado aos dados para análise!\n",
      "Carregando as despesas do deputado Marcos Tavares [...]\n",
      "Despesas do deputado Marcos Tavares adicionado aos dados para análise!\n",
      "Carregando as despesas do deputado Maria Arraes [...]\n",
      "Despesas do deputado Maria Arraes adicionado aos dados para análise!\n",
      "Carregando as despesas do deputado Maria do Rosário [...]\n",
      "Despesas do deputado Maria do Rosário adicionado aos dados para análise!\n",
      "Carregando as despesas do deputado Maria Rosas [...]\n",
      "Despesas do deputado Maria Rosas adicionado aos dados para análise!\n",
      "Carregando as despesas do deputado Mario Frias [...]\n",
      "Despesas do deputado Mario Frias adicionado aos dados para análise!\n",
      "Carregando as despesas do deputado Mário Heringer [...]\n",
      "Despesas do deputado Mário Heringer adicionado aos dados para análise!\n",
      "Carregando as despesas do deputado Mário Negromonte Jr. [...]\n",
      "Despesas do deputado Mário Negromonte Jr. adicionado aos dados para análise!\n",
      "Carregando as despesas do deputado Marreca Filho [...]\n",
      "Despesas do deputado Marreca Filho adicionado aos dados para análise!\n",
      "Carregando as despesas do deputado Marussa Boldrin [...]\n",
      "Despesas do deputado Marussa Boldrin adicionado aos dados para análise!\n",
      "Carregando as despesas do deputado Marx Beltrão [...]\n",
      "Despesas do deputado Marx Beltrão adicionado aos dados para análise!\n",
      "Carregando as despesas do deputado Matheus Noronha [...]\n",
      "Despesas do deputado Matheus Noronha adicionado aos dados para análise!\n",
      "Carregando as despesas do deputado Maurício Carvalho [...]\n",
      "Despesas do deputado Maurício Carvalho adicionado aos dados para análise!\n",
      "Carregando as despesas do deputado Mauricio do Vôlei [...]\n",
      "Despesas do deputado Mauricio do Vôlei adicionado aos dados para análise!\n",
      "Carregando as despesas do deputado Mauricio Marcon [...]\n",
      "Despesas do deputado Mauricio Marcon adicionado aos dados para análise!\n",
      "Carregando as despesas do deputado Mauricio Neves [...]\n",
      "Despesas do deputado Mauricio Neves adicionado aos dados para análise!\n",
      "Carregando as despesas do deputado Mauro Benevides Filho [...]\n",
      "Despesas do deputado Mauro Benevides Filho adicionado aos dados para análise!\n",
      "Carregando as despesas do deputado Max Lemos [...]\n",
      "Despesas do deputado Max Lemos adicionado aos dados para análise!\n",
      "Carregando as despesas do deputado Meire Serafim [...]\n",
      "Despesas do deputado Meire Serafim adicionado aos dados para análise!\n",
      "Carregando as despesas do deputado Mendonça Filho [...]\n",
      "Despesas do deputado Mendonça Filho adicionado aos dados para análise!\n",
      "Carregando as despesas do deputado Merlong Solano [...]\n",
      "Despesas do deputado Merlong Solano adicionado aos dados para análise!\n",
      "Carregando as despesas do deputado Mersinho Lucena [...]\n",
      "Despesas do deputado Mersinho Lucena adicionado aos dados para análise!\n",
      "Carregando as despesas do deputado Messias Donato [...]\n",
      "Despesas do deputado Messias Donato adicionado aos dados para análise!\n",
      "Carregando as despesas do deputado Miguel Ângelo [...]\n",
      "Despesas do deputado Miguel Ângelo adicionado aos dados para análise!\n",
      "Carregando as despesas do deputado Miguel Lombardi [...]\n",
      "Despesas do deputado Miguel Lombardi adicionado aos dados para análise!\n",
      "Carregando as despesas do deputado Milton Vieira [...]\n",
      "Despesas do deputado Milton Vieira adicionado aos dados para análise!\n",
      "Carregando as despesas do deputado Misael Varella [...]\n",
      "Despesas do deputado Misael Varella adicionado aos dados para análise!\n",
      "Carregando as despesas do deputado Moses Rodrigues [...]\n",
      "Despesas do deputado Moses Rodrigues adicionado aos dados para análise!\n",
      "Carregando as despesas do deputado Murillo Gouvea [...]\n",
      "Despesas do deputado Murillo Gouvea adicionado aos dados para análise!\n",
      "Carregando as despesas do deputado Murilo Galdino [...]\n",
      "Despesas do deputado Murilo Galdino adicionado aos dados para análise!\n",
      "Carregando as despesas do deputado Natália Bonavides [...]\n",
      "Despesas do deputado Natália Bonavides adicionado aos dados para análise!\n",
      "Carregando as despesas do deputado Nely Aquino [...]\n",
      "Despesas do deputado Nely Aquino adicionado aos dados para análise!\n",
      "Carregando as despesas do deputado Neto Carletto [...]\n",
      "Despesas do deputado Neto Carletto adicionado aos dados para análise!\n",
      "Carregando as despesas do deputado Newton Cardoso Jr [...]\n",
      "Despesas do deputado Newton Cardoso Jr adicionado aos dados para análise!\n",
      "Carregando as despesas do deputado Nicoletti [...]\n",
      "Despesas do deputado Nicoletti adicionado aos dados para análise!\n",
      "Carregando as despesas do deputado Nikolas Ferreira [...]\n",
      "Despesas do deputado Nikolas Ferreira adicionado aos dados para análise!\n",
      "Carregando as despesas do deputado Nilto Tatto [...]\n",
      "Despesas do deputado Nilto Tatto adicionado aos dados para análise!\n",
      "Carregando as despesas do deputado Odair Cunha [...]\n",
      "Despesas do deputado Odair Cunha adicionado aos dados para análise!\n",
      "Carregando as despesas do deputado Olival Marques [...]\n",
      "Despesas do deputado Olival Marques adicionado aos dados para análise!\n",
      "Carregando as despesas do deputado Orlando Silva [...]\n",
      "Despesas do deputado Orlando Silva adicionado aos dados para análise!\n",
      "Carregando as despesas do deputado Osmar Terra [...]\n",
      "Despesas do deputado Osmar Terra adicionado aos dados para análise!\n",
      "Carregando as despesas do deputado Otoni de Paula [...]\n",
      "Despesas do deputado Otoni de Paula adicionado aos dados para análise!\n",
      "Carregando as despesas do deputado Otto Alencar Filho [...]\n",
      "Despesas do deputado Otto Alencar Filho adicionado aos dados para análise!\n",
      "Carregando as despesas do deputado Padovani [...]\n",
      "Despesas do deputado Padovani adicionado aos dados para análise!\n",
      "Carregando as despesas do deputado Padre João [...]\n",
      "Despesas do deputado Padre João adicionado aos dados para análise!\n",
      "Carregando as despesas do deputado Pastor Diniz [...]\n",
      "Despesas do deputado Pastor Diniz adicionado aos dados para análise!\n",
      "Carregando as despesas do deputado Pastor Eurico [...]\n",
      "Despesas do deputado Pastor Eurico adicionado aos dados para análise!\n",
      "Carregando as despesas do deputado Pastor Gil [...]\n",
      "Despesas do deputado Pastor Gil adicionado aos dados para análise!\n",
      "Carregando as despesas do deputado Pastor Henrique Vieira [...]\n",
      "Despesas do deputado Pastor Henrique Vieira adicionado aos dados para análise!\n",
      "Carregando as despesas do deputado Pastor Sargento Isidório [...]\n",
      "Despesas do deputado Pastor Sargento Isidório adicionado aos dados para análise!\n",
      "Carregando as despesas do deputado Patrus Ananias [...]\n",
      "Despesas do deputado Patrus Ananias adicionado aos dados para análise!\n",
      "Carregando as despesas do deputado Paulão [...]\n",
      "Despesas do deputado Paulão adicionado aos dados para análise!\n",
      "Carregando as despesas do deputado Paulinho Freire [...]\n",
      "Despesas do deputado Paulinho Freire adicionado aos dados para análise!\n",
      "Carregando as despesas do deputado Paulo Abi-Ackel [...]\n",
      "Despesas do deputado Paulo Abi-Ackel adicionado aos dados para análise!\n",
      "Carregando as despesas do deputado Paulo Alexandre Barbosa [...]\n",
      "Despesas do deputado Paulo Alexandre Barbosa adicionado aos dados para análise!\n",
      "Carregando as despesas do deputado Paulo Azi [...]\n",
      "Despesas do deputado Paulo Azi adicionado aos dados para análise!\n",
      "Carregando as despesas do deputado Paulo Foletto [...]\n",
      "Despesas do deputado Paulo Foletto adicionado aos dados para análise!\n",
      "Carregando as despesas do deputado Paulo Freire Costa [...]\n",
      "Despesas do deputado Paulo Freire Costa adicionado aos dados para análise!\n",
      "Carregando as despesas do deputado Paulo Guedes [...]\n",
      "Despesas do deputado Paulo Guedes adicionado aos dados para análise!\n",
      "Carregando as despesas do deputado Paulo Litro [...]\n",
      "Despesas do deputado Paulo Litro adicionado aos dados para análise!\n",
      "Carregando as despesas do deputado Paulo Magalhães [...]\n",
      "Despesas do deputado Paulo Magalhães adicionado aos dados para análise!\n",
      "Carregando as despesas do deputado Pedro Aihara [...]\n",
      "Despesas do deputado Pedro Aihara adicionado aos dados para análise!\n",
      "Carregando as despesas do deputado Pedro Campos [...]\n",
      "Despesas do deputado Pedro Campos adicionado aos dados para análise!\n",
      "Carregando as despesas do deputado Pedro Lucas Fernandes [...]\n",
      "Despesas do deputado Pedro Lucas Fernandes adicionado aos dados para análise!\n",
      "Carregando as despesas do deputado Pedro Lupion [...]\n",
      "Despesas do deputado Pedro Lupion adicionado aos dados para análise!\n",
      "Carregando as despesas do deputado Pedro Paulo [...]\n",
      "Despesas do deputado Pedro Paulo adicionado aos dados para análise!\n",
      "Carregando as despesas do deputado Pedro Uczai [...]\n",
      "Despesas do deputado Pedro Uczai adicionado aos dados para análise!\n",
      "Carregando as despesas do deputado Pedro Westphalen [...]\n",
      "Despesas do deputado Pedro Westphalen adicionado aos dados para análise!\n",
      "Carregando as despesas do deputado Pezenti [...]\n",
      "Despesas do deputado Pezenti adicionado aos dados para análise!\n",
      "Carregando as despesas do deputado Pinheirinho [...]\n",
      "Despesas do deputado Pinheirinho adicionado aos dados para análise!\n",
      "Carregando as despesas do deputado Pompeo de Mattos [...]\n",
      "Despesas do deputado Pompeo de Mattos adicionado aos dados para análise!\n",
      "Carregando as despesas do deputado Pr. Marco Feliciano [...]\n",
      "Despesas do deputado Pr. Marco Feliciano adicionado aos dados para análise!\n",
      "Carregando as despesas do deputado Prof. Reginaldo Veras [...]\n",
      "Despesas do deputado Prof. Reginaldo Veras adicionado aos dados para análise!\n",
      "Carregando as despesas do deputado Professor Alcides [...]\n",
      "Despesas do deputado Professor Alcides adicionado aos dados para análise!\n",
      "Carregando as despesas do deputado Professora Goreth [...]\n",
      "Despesas do deputado Professora Goreth adicionado aos dados para análise!\n",
      "Carregando as despesas do deputado Professora Luciene Cavalcante [...]\n",
      "Despesas do deputado Professora Luciene Cavalcante adicionado aos dados para análise!\n",
      "Carregando as despesas do deputado Rafael Brito [...]\n",
      "Despesas do deputado Rafael Brito adicionado aos dados para análise!\n",
      "Carregando as despesas do deputado Rafael Prudente [...]\n",
      "Despesas do deputado Rafael Prudente adicionado aos dados para análise!\n",
      "Carregando as despesas do deputado Rafael Simoes [...]\n",
      "Despesas do deputado Rafael Simoes adicionado aos dados para análise!\n",
      "Carregando as despesas do deputado Raimundo Costa [...]\n",
      "Despesas do deputado Raimundo Costa adicionado aos dados para análise!\n",
      "Carregando as despesas do deputado Raimundo Santos [...]\n",
      "Despesas do deputado Raimundo Santos adicionado aos dados para análise!\n",
      "Carregando as despesas do deputado Reginaldo Lopes [...]\n",
      "Despesas do deputado Reginaldo Lopes adicionado aos dados para análise!\n",
      "Carregando as despesas do deputado Reginete Bispo [...]\n",
      "Despesas do deputado Reginete Bispo adicionado aos dados para análise!\n",
      "Carregando as despesas do deputado Reimont [...]\n",
      "Despesas do deputado Reimont adicionado aos dados para análise!\n",
      "Carregando as despesas do deputado Renata Abreu [...]\n",
      "Despesas do deputado Renata Abreu adicionado aos dados para análise!\n",
      "Carregando as despesas do deputado Renilce Nicodemos [...]\n",
      "Despesas do deputado Renilce Nicodemos adicionado aos dados para análise!\n",
      "Carregando as despesas do deputado Renildo Calheiros [...]\n",
      "Despesas do deputado Renildo Calheiros adicionado aos dados para análise!\n",
      "Carregando as despesas do deputado Ricardo Abrão [...]\n",
      "Despesas do deputado Ricardo Abrão adicionado aos dados para análise!\n",
      "Carregando as despesas do deputado Ricardo Ayres [...]\n",
      "Despesas do deputado Ricardo Ayres adicionado aos dados para análise!\n",
      "Carregando as despesas do deputado Ricardo Guidi [...]\n",
      "Despesas do deputado Ricardo Guidi adicionado aos dados para análise!\n",
      "Carregando as despesas do deputado Ricardo Maia [...]\n",
      "Despesas do deputado Ricardo Maia adicionado aos dados para análise!\n",
      "Carregando as despesas do deputado Ricardo Salles [...]\n",
      "Despesas do deputado Ricardo Salles adicionado aos dados para análise!\n",
      "Carregando as despesas do deputado Ricardo Silva [...]\n",
      "Despesas do deputado Ricardo Silva adicionado aos dados para análise!\n",
      "Carregando as despesas do deputado Robério Monteiro [...]\n",
      "Despesas do deputado Robério Monteiro adicionado aos dados para análise!\n",
      "Carregando as despesas do deputado Roberta Roma [...]\n",
      "Despesas do deputado Roberta Roma adicionado aos dados para análise!\n",
      "Carregando as despesas do deputado Roberto Duarte [...]\n",
      "Despesas do deputado Roberto Duarte adicionado aos dados para análise!\n",
      "Carregando as despesas do deputado Roberto Monteiro [...]\n",
      "Despesas do deputado Roberto Monteiro adicionado aos dados para análise!\n",
      "Carregando as despesas do deputado Robinson Faria [...]\n",
      "Despesas do deputado Robinson Faria adicionado aos dados para análise!\n",
      "Carregando as despesas do deputado Rodolfo Nogueira [...]\n",
      "Despesas do deputado Rodolfo Nogueira adicionado aos dados para análise!\n",
      "Carregando as despesas do deputado Rodrigo de Castro [...]\n",
      "Despesas do deputado Rodrigo de Castro adicionado aos dados para análise!\n",
      "Carregando as despesas do deputado Rodrigo Gambale [...]\n",
      "Despesas do deputado Rodrigo Gambale adicionado aos dados para análise!\n",
      "Carregando as despesas do deputado Rodrigo Valadares [...]\n",
      "Despesas do deputado Rodrigo Valadares adicionado aos dados para análise!\n",
      "Carregando as despesas do deputado Rogéria Santos [...]\n",
      "Despesas do deputado Rogéria Santos adicionado aos dados para análise!\n",
      "Carregando as despesas do deputado Rogério Correia [...]\n",
      "Despesas do deputado Rogério Correia adicionado aos dados para análise!\n",
      "Carregando as despesas do deputado Romero Rodrigues [...]\n",
      "Despesas do deputado Romero Rodrigues adicionado aos dados para análise!\n",
      "Carregando as despesas do deputado Rosana Valle [...]\n",
      "Despesas do deputado Rosana Valle adicionado aos dados para análise!\n",
      "Carregando as despesas do deputado Rosângela Moro [...]\n",
      "Despesas do deputado Rosângela Moro adicionado aos dados para análise!\n",
      "Carregando as despesas do deputado Rosângela Reis [...]\n",
      "Despesas do deputado Rosângela Reis adicionado aos dados para análise!\n",
      "Carregando as despesas do deputado Roseana Sarney [...]\n",
      "Despesas do deputado Roseana Sarney adicionado aos dados para análise!\n",
      "Carregando as despesas do deputado Rubens Otoni [...]\n",
      "Despesas do deputado Rubens Otoni adicionado aos dados para análise!\n",
      "Carregando as despesas do deputado Rubens Pereira Júnior [...]\n",
      "Despesas do deputado Rubens Pereira Júnior adicionado aos dados para análise!\n",
      "Carregando as despesas do deputado Rui Falcão [...]\n",
      "Despesas do deputado Rui Falcão adicionado aos dados para análise!\n",
      "Carregando as despesas do deputado Ruy Carneiro [...]\n",
      "Despesas do deputado Ruy Carneiro adicionado aos dados para análise!\n",
      "Carregando as despesas do deputado Sâmia Bomfim [...]\n",
      "Despesas do deputado Sâmia Bomfim adicionado aos dados para análise!\n",
      "Carregando as despesas do deputado Samuel Viana [...]\n",
      "Despesas do deputado Samuel Viana adicionado aos dados para análise!\n",
      "Carregando as despesas do deputado Sanderson [...]\n",
      "Despesas do deputado Sanderson adicionado aos dados para análise!\n",
      "Carregando as despesas do deputado Sandro Alex [...]\n",
      "Despesas do deputado Sandro Alex adicionado aos dados para análise!\n",
      "Carregando as despesas do deputado Sargento Fahur [...]\n",
      "Despesas do deputado Sargento Fahur adicionado aos dados para análise!\n",
      "Carregando as despesas do deputado Sargento Gonçalves [...]\n",
      "Despesas do deputado Sargento Gonçalves adicionado aos dados para análise!\n",
      "Carregando as despesas do deputado Sargento Portugal [...]\n",
      "Despesas do deputado Sargento Portugal adicionado aos dados para análise!\n",
      "Carregando as despesas do deputado Saullo Vianna [...]\n",
      "Despesas do deputado Saullo Vianna adicionado aos dados para análise!\n",
      "Carregando as despesas do deputado Sergio Souza [...]\n",
      "Despesas do deputado Sergio Souza adicionado aos dados para análise!\n",
      "Carregando as despesas do deputado Sidney Leite [...]\n",
      "Despesas do deputado Sidney Leite adicionado aos dados para análise!\n",
      "Carregando as despesas do deputado Silas Câmara [...]\n",
      "Despesas do deputado Silas Câmara adicionado aos dados para análise!\n",
      "Carregando as despesas do deputado Silvia Cristina [...]\n",
      "Despesas do deputado Silvia Cristina adicionado aos dados para análise!\n",
      "Carregando as despesas do deputado Silvia Waiãpi [...]\n",
      "Despesas do deputado Silvia Waiãpi adicionado aos dados para análise!\n",
      "Carregando as despesas do deputado Silvio Costa Filho [...]\n",
      "Despesas do deputado Silvio Costa Filho adicionado aos dados para análise!\n",
      "Carregando as despesas do deputado Silvye Alves [...]\n",
      "Despesas do deputado Silvye Alves adicionado aos dados para análise!\n",
      "Carregando as despesas do deputado Simone Marquetto [...]\n",
      "Despesas do deputado Simone Marquetto adicionado aos dados para análise!\n",
      "Carregando as despesas do deputado Socorro Neri [...]\n",
      "Despesas do deputado Socorro Neri adicionado aos dados para análise!\n",
      "Carregando as despesas do deputado Sonize Barbosa [...]\n",
      "Despesas do deputado Sonize Barbosa adicionado aos dados para análise!\n",
      "Carregando as despesas do deputado Soraya Santos [...]\n",
      "Despesas do deputado Soraya Santos adicionado aos dados para análise!\n",
      "Carregando as despesas do deputado Sóstenes Cavalcante [...]\n",
      "Despesas do deputado Sóstenes Cavalcante adicionado aos dados para análise!\n",
      "Carregando as despesas do deputado Stefano Aguiar [...]\n",
      "Despesas do deputado Stefano Aguiar adicionado aos dados para análise!\n",
      "Carregando as despesas do deputado Tabata Amaral [...]\n",
      "Despesas do deputado Tabata Amaral adicionado aos dados para análise!\n",
      "Carregando as despesas do deputado Tadeu Veneri [...]\n",
      "Despesas do deputado Tadeu Veneri adicionado aos dados para análise!\n",
      "Carregando as despesas do deputado Talíria Petrone [...]\n",
      "Despesas do deputado Talíria Petrone adicionado aos dados para análise!\n",
      "Carregando as despesas do deputado Tarcísio Motta [...]\n",
      "Despesas do deputado Tarcísio Motta adicionado aos dados para análise!\n",
      "Carregando as despesas do deputado Tenente Coronel Zucco [...]\n",
      "Despesas do deputado Tenente Coronel Zucco adicionado aos dados para análise!\n",
      "Carregando as despesas do deputado Thiago de Joaldo [...]\n",
      "Despesas do deputado Thiago de Joaldo adicionado aos dados para análise!\n",
      "Carregando as despesas do deputado Thiago Flores [...]\n",
      "Despesas do deputado Thiago Flores adicionado aos dados para análise!\n",
      "Carregando as despesas do deputado Tião Medeiros [...]\n",
      "Despesas do deputado Tião Medeiros adicionado aos dados para análise!\n",
      "Carregando as despesas do deputado Tiririca [...]\n",
      "Despesas do deputado Tiririca adicionado aos dados para análise!\n",
      "Carregando as despesas do deputado Toninho Wandscheer [...]\n",
      "Despesas do deputado Toninho Wandscheer adicionado aos dados para análise!\n",
      "Carregando as despesas do deputado Túlio Gadêlha [...]\n",
      "Despesas do deputado Túlio Gadêlha adicionado aos dados para análise!\n",
      "Carregando as despesas do deputado Valmir Assunção [...]\n",
      "Despesas do deputado Valmir Assunção adicionado aos dados para análise!\n",
      "Carregando as despesas do deputado Vander Loubet [...]\n",
      "Despesas do deputado Vander Loubet adicionado aos dados para análise!\n",
      "Carregando as despesas do deputado Vermelho [...]\n",
      "Despesas do deputado Vermelho adicionado aos dados para análise!\n",
      "Carregando as despesas do deputado Vicentinho [...]\n",
      "Despesas do deputado Vicentinho adicionado aos dados para análise!\n",
      "Carregando as despesas do deputado Vicentinho Júnior [...]\n",
      "Despesas do deputado Vicentinho Júnior adicionado aos dados para análise!\n",
      "Carregando as despesas do deputado Vinicius Carvalho [...]\n",
      "Despesas do deputado Vinicius Carvalho adicionado aos dados para análise!\n",
      "Carregando as despesas do deputado Vinicius Gurgel [...]\n",
      "Despesas do deputado Vinicius Gurgel adicionado aos dados para análise!\n",
      "Carregando as despesas do deputado Vitor Lippi [...]\n",
      "Despesas do deputado Vitor Lippi adicionado aos dados para análise!\n",
      "Carregando as despesas do deputado Waldemar Oliveira [...]\n",
      "Despesas do deputado Waldemar Oliveira adicionado aos dados para análise!\n",
      "Carregando as despesas do deputado Waldenor Pereira [...]\n",
      "Despesas do deputado Waldenor Pereira adicionado aos dados para análise!\n",
      "Carregando as despesas do deputado Washington Quaquá [...]\n",
      "Despesas do deputado Washington Quaquá adicionado aos dados para análise!\n",
      "Carregando as despesas do deputado Weliton Prado [...]\n",
      "Despesas do deputado Weliton Prado adicionado aos dados para análise!\n",
      "Carregando as despesas do deputado Wellington Roberto [...]\n",
      "Despesas do deputado Wellington Roberto adicionado aos dados para análise!\n",
      "Carregando as despesas do deputado Wilson Santiago [...]\n",
      "Despesas do deputado Wilson Santiago adicionado aos dados para análise!\n",
      "Carregando as despesas do deputado Yandra Moura [...]\n",
      "Despesas do deputado Yandra Moura adicionado aos dados para análise!\n",
      "Carregando as despesas do deputado Yury do Paredão [...]\n",
      "Despesas do deputado Yury do Paredão adicionado aos dados para análise!\n",
      "Carregando as despesas do deputado Zé Haroldo Cathedral [...]\n",
      "Despesas do deputado Zé Haroldo Cathedral adicionado aos dados para análise!\n",
      "Carregando as despesas do deputado Zé Neto [...]\n",
      "Despesas do deputado Zé Neto adicionado aos dados para análise!\n",
      "Carregando as despesas do deputado Zé Silva [...]\n",
      "Despesas do deputado Zé Silva adicionado aos dados para análise!\n",
      "Carregando as despesas do deputado Zé Trovão [...]\n",
      "Despesas do deputado Zé Trovão adicionado aos dados para análise!\n",
      "Carregando as despesas do deputado Zé Vitor [...]\n",
      "Despesas do deputado Zé Vitor adicionado aos dados para análise!\n",
      "Carregando as despesas do deputado Zeca Dirceu [...]\n",
      "Despesas do deputado Zeca Dirceu adicionado aos dados para análise!\n"
     ]
    }
   ],
   "source": [
    "contador = 0\n",
    "\n",
    "# cria um DataFrame vazio\n",
    "df = pd.DataFrame()\n",
    "\n",
    "# consulta todas as despesas de todos os deputados federais\n",
    "for requisicao in range(0,512):\n",
    "    print('Carregando as despesas do deputado {} [...]'.format(df_deputados_nome[contador]))\n",
    "    response_despesas = requests.get('https://dadosabertos.camara.leg.br/api/v2/deputados/{}/despesas?ano=2020&ano=2021&ano=2022&ano=2023&ordem=ASC&ordenarPor=ano'.format(df_deputados_id[contador]))\n",
    "    dados = response_despesas.json()\n",
    "    df_despesas = pd.DataFrame(dados['dados'])\n",
    "    df_despesas['nome_deputado'] = df_deputados_nome[contador]\n",
    "    df = pd.concat([df, df_despesas])\n",
    "    print('Despesas do deputado {} adicionado aos dados para análise!'.format(df_deputados_nome[contador]))\n",
    "    contador = contador + 1"
   ]
  },
  {
   "cell_type": "code",
   "execution_count": 93,
   "metadata": {},
   "outputs": [
    {
     "data": {
      "text/html": [
       "<div>\n",
       "<style scoped>\n",
       "    .dataframe tbody tr th:only-of-type {\n",
       "        vertical-align: middle;\n",
       "    }\n",
       "\n",
       "    .dataframe tbody tr th {\n",
       "        vertical-align: top;\n",
       "    }\n",
       "\n",
       "    .dataframe thead th {\n",
       "        text-align: right;\n",
       "    }\n",
       "</style>\n",
       "<table border=\"1\" class=\"dataframe\">\n",
       "  <thead>\n",
       "    <tr style=\"text-align: right;\">\n",
       "      <th></th>\n",
       "      <th>nome_deputado</th>\n",
       "      <th>ano</th>\n",
       "      <th>mes</th>\n",
       "      <th>tipoDespesa</th>\n",
       "      <th>codDocumento</th>\n",
       "      <th>tipoDocumento</th>\n",
       "      <th>codTipoDocumento</th>\n",
       "      <th>dataDocumento</th>\n",
       "      <th>numDocumento</th>\n",
       "      <th>valorDocumento</th>\n",
       "      <th>urlDocumento</th>\n",
       "      <th>nomeFornecedor</th>\n",
       "      <th>cnpjCpfFornecedor</th>\n",
       "      <th>valorLiquido</th>\n",
       "      <th>valorGlosa</th>\n",
       "      <th>numRessarcimento</th>\n",
       "      <th>codLote</th>\n",
       "      <th>parcela</th>\n",
       "    </tr>\n",
       "  </thead>\n",
       "  <tbody>\n",
       "    <tr>\n",
       "      <th>0</th>\n",
       "      <td>Acácio Favacho</td>\n",
       "      <td>2020.0</td>\n",
       "      <td>2.0</td>\n",
       "      <td>MANUTENÇÃO DE ESCRITÓRIO DE APOIO À ATIVIDADE ...</td>\n",
       "      <td>7018213.0</td>\n",
       "      <td>Nota Fiscal Eletrônica</td>\n",
       "      <td>4.0</td>\n",
       "      <td>2020-02-18</td>\n",
       "      <td>1790</td>\n",
       "      <td>145.00</td>\n",
       "      <td>http://www.camara.leg.br/cota-parlamentar/nota...</td>\n",
       "      <td>BEL PONTO BORDADOS E CONFECCOES LTDA</td>\n",
       "      <td>00849026000109</td>\n",
       "      <td>145.00</td>\n",
       "      <td>0.0</td>\n",
       "      <td></td>\n",
       "      <td>1678271.0</td>\n",
       "      <td>0.0</td>\n",
       "    </tr>\n",
       "    <tr>\n",
       "      <th>1</th>\n",
       "      <td>Acácio Favacho</td>\n",
       "      <td>2020.0</td>\n",
       "      <td>6.0</td>\n",
       "      <td>MANUTENÇÃO DE ESCRITÓRIO DE APOIO À ATIVIDADE ...</td>\n",
       "      <td>7065252.0</td>\n",
       "      <td>Nota Fiscal Eletrônica</td>\n",
       "      <td>4.0</td>\n",
       "      <td>2020-06-16</td>\n",
       "      <td>545</td>\n",
       "      <td>229.00</td>\n",
       "      <td>http://www.camara.leg.br/cota-parlamentar/nota...</td>\n",
       "      <td>COMERCIAL DE SERVICOS UNIAO LTDA ME</td>\n",
       "      <td>05807200000174</td>\n",
       "      <td>229.00</td>\n",
       "      <td>0.0</td>\n",
       "      <td></td>\n",
       "      <td>1702259.0</td>\n",
       "      <td>0.0</td>\n",
       "    </tr>\n",
       "    <tr>\n",
       "      <th>2</th>\n",
       "      <td>Acácio Favacho</td>\n",
       "      <td>2020.0</td>\n",
       "      <td>2.0</td>\n",
       "      <td>MANUTENÇÃO DE ESCRITÓRIO DE APOIO À ATIVIDADE ...</td>\n",
       "      <td>7031733.0</td>\n",
       "      <td>Nota Fiscal</td>\n",
       "      <td>0.0</td>\n",
       "      <td>2020-03-03</td>\n",
       "      <td>417246</td>\n",
       "      <td>268.40</td>\n",
       "      <td>https://www.camara.leg.br/cota-parlamentar/doc...</td>\n",
       "      <td>EDVALDO FRANCISCO DE OLIVEIRA</td>\n",
       "      <td>32373812000179</td>\n",
       "      <td>268.40</td>\n",
       "      <td>0.0</td>\n",
       "      <td></td>\n",
       "      <td>1684292.0</td>\n",
       "      <td>0.0</td>\n",
       "    </tr>\n",
       "    <tr>\n",
       "      <th>3</th>\n",
       "      <td>Acácio Favacho</td>\n",
       "      <td>2020.0</td>\n",
       "      <td>1.0</td>\n",
       "      <td>COMBUSTÍVEIS E LUBRIFICANTES.</td>\n",
       "      <td>6993481.0</td>\n",
       "      <td>Nota Fiscal Eletrônica</td>\n",
       "      <td>4.0</td>\n",
       "      <td>2020-01-06</td>\n",
       "      <td>479</td>\n",
       "      <td>3600.00</td>\n",
       "      <td>http://www.camara.leg.br/cota-parlamentar/nota...</td>\n",
       "      <td>A C CAMBRAIA LTDA</td>\n",
       "      <td>23068984000571</td>\n",
       "      <td>3600.00</td>\n",
       "      <td>0.0</td>\n",
       "      <td></td>\n",
       "      <td>1666719.0</td>\n",
       "      <td>0.0</td>\n",
       "    </tr>\n",
       "    <tr>\n",
       "      <th>4</th>\n",
       "      <td>Acácio Favacho</td>\n",
       "      <td>2020.0</td>\n",
       "      <td>8.0</td>\n",
       "      <td>COMBUSTÍVEIS E LUBRIFICANTES.</td>\n",
       "      <td>7090596.0</td>\n",
       "      <td>Nota Fiscal Eletrônica</td>\n",
       "      <td>4.0</td>\n",
       "      <td>2020-08-03</td>\n",
       "      <td>128126</td>\n",
       "      <td>200.02</td>\n",
       "      <td>http://www.camara.leg.br/cota-parlamentar/nota...</td>\n",
       "      <td>AUTO POSTO 306 NORTE LTDA</td>\n",
       "      <td>22398818000147</td>\n",
       "      <td>200.02</td>\n",
       "      <td>0.0</td>\n",
       "      <td></td>\n",
       "      <td>1715262.0</td>\n",
       "      <td>0.0</td>\n",
       "    </tr>\n",
       "    <tr>\n",
       "      <th>...</th>\n",
       "      <td>...</td>\n",
       "      <td>...</td>\n",
       "      <td>...</td>\n",
       "      <td>...</td>\n",
       "      <td>...</td>\n",
       "      <td>...</td>\n",
       "      <td>...</td>\n",
       "      <td>...</td>\n",
       "      <td>...</td>\n",
       "      <td>...</td>\n",
       "      <td>...</td>\n",
       "      <td>...</td>\n",
       "      <td>...</td>\n",
       "      <td>...</td>\n",
       "      <td>...</td>\n",
       "      <td>...</td>\n",
       "      <td>...</td>\n",
       "      <td>...</td>\n",
       "    </tr>\n",
       "    <tr>\n",
       "      <th>10</th>\n",
       "      <td>Zeca Dirceu</td>\n",
       "      <td>2020.0</td>\n",
       "      <td>7.0</td>\n",
       "      <td>MANUTENÇÃO DE ESCRITÓRIO DE APOIO À ATIVIDADE ...</td>\n",
       "      <td>7092392.0</td>\n",
       "      <td>Recibos/Outros</td>\n",
       "      <td>1.0</td>\n",
       "      <td>2020-07-31</td>\n",
       "      <td>sn</td>\n",
       "      <td>1300.00</td>\n",
       "      <td>https://www.camara.leg.br/cota-parlamentar/doc...</td>\n",
       "      <td>Antonio Peguim</td>\n",
       "      <td>04312880972</td>\n",
       "      <td>1300.00</td>\n",
       "      <td>0.0</td>\n",
       "      <td></td>\n",
       "      <td>1716367.0</td>\n",
       "      <td>0.0</td>\n",
       "    </tr>\n",
       "    <tr>\n",
       "      <th>11</th>\n",
       "      <td>Zeca Dirceu</td>\n",
       "      <td>2020.0</td>\n",
       "      <td>8.0</td>\n",
       "      <td>MANUTENÇÃO DE ESCRITÓRIO DE APOIO À ATIVIDADE ...</td>\n",
       "      <td>7092393.0</td>\n",
       "      <td>Recibos/Outros</td>\n",
       "      <td>1.0</td>\n",
       "      <td>2020-08-30</td>\n",
       "      <td>sn</td>\n",
       "      <td>1300.00</td>\n",
       "      <td>https://www.camara.leg.br/cota-parlamentar/doc...</td>\n",
       "      <td>Antonio Peguim</td>\n",
       "      <td>04312880972</td>\n",
       "      <td>1300.00</td>\n",
       "      <td>0.0</td>\n",
       "      <td></td>\n",
       "      <td>1716365.0</td>\n",
       "      <td>0.0</td>\n",
       "    </tr>\n",
       "    <tr>\n",
       "      <th>12</th>\n",
       "      <td>Zeca Dirceu</td>\n",
       "      <td>2020.0</td>\n",
       "      <td>1.0</td>\n",
       "      <td>MANUTENÇÃO DE ESCRITÓRIO DE APOIO À ATIVIDADE ...</td>\n",
       "      <td>7019946.0</td>\n",
       "      <td>Nota Fiscal</td>\n",
       "      <td>0.0</td>\n",
       "      <td>2020-01-24</td>\n",
       "      <td>118003178</td>\n",
       "      <td>235.28</td>\n",
       "      <td>https://www.camara.leg.br/cota-parlamentar/doc...</td>\n",
       "      <td>Copel Distribuição S.A.</td>\n",
       "      <td>04368898000106</td>\n",
       "      <td>235.28</td>\n",
       "      <td>0.0</td>\n",
       "      <td></td>\n",
       "      <td>1679618.0</td>\n",
       "      <td>0.0</td>\n",
       "    </tr>\n",
       "    <tr>\n",
       "      <th>13</th>\n",
       "      <td>Zeca Dirceu</td>\n",
       "      <td>2020.0</td>\n",
       "      <td>2.0</td>\n",
       "      <td>MANUTENÇÃO DE ESCRITÓRIO DE APOIO À ATIVIDADE ...</td>\n",
       "      <td>7044385.0</td>\n",
       "      <td>Nota Fiscal</td>\n",
       "      <td>0.0</td>\n",
       "      <td>2020-02-22</td>\n",
       "      <td>122568208</td>\n",
       "      <td>464.77</td>\n",
       "      <td>https://www.camara.leg.br/cota-parlamentar/doc...</td>\n",
       "      <td>Copel Distribuição S.A.</td>\n",
       "      <td>04368898000106</td>\n",
       "      <td>464.77</td>\n",
       "      <td>0.0</td>\n",
       "      <td></td>\n",
       "      <td>1690671.0</td>\n",
       "      <td>0.0</td>\n",
       "    </tr>\n",
       "    <tr>\n",
       "      <th>14</th>\n",
       "      <td>Zeca Dirceu</td>\n",
       "      <td>2020.0</td>\n",
       "      <td>3.0</td>\n",
       "      <td>MANUTENÇÃO DE ESCRITÓRIO DE APOIO À ATIVIDADE ...</td>\n",
       "      <td>7044386.0</td>\n",
       "      <td>Nota Fiscal</td>\n",
       "      <td>0.0</td>\n",
       "      <td>2020-03-25</td>\n",
       "      <td>127660788</td>\n",
       "      <td>514.11</td>\n",
       "      <td>https://www.camara.leg.br/cota-parlamentar/doc...</td>\n",
       "      <td>Copel Distribuição S.A.</td>\n",
       "      <td>04368898000106</td>\n",
       "      <td>514.11</td>\n",
       "      <td>0.0</td>\n",
       "      <td></td>\n",
       "      <td>1690672.0</td>\n",
       "      <td>0.0</td>\n",
       "    </tr>\n",
       "  </tbody>\n",
       "</table>\n",
       "<p>4342 rows × 18 columns</p>\n",
       "</div>"
      ],
      "text/plain": [
       "     nome_deputado     ano  mes  \\\n",
       "0   Acácio Favacho  2020.0  2.0   \n",
       "1   Acácio Favacho  2020.0  6.0   \n",
       "2   Acácio Favacho  2020.0  2.0   \n",
       "3   Acácio Favacho  2020.0  1.0   \n",
       "4   Acácio Favacho  2020.0  8.0   \n",
       "..             ...     ...  ...   \n",
       "10     Zeca Dirceu  2020.0  7.0   \n",
       "11     Zeca Dirceu  2020.0  8.0   \n",
       "12     Zeca Dirceu  2020.0  1.0   \n",
       "13     Zeca Dirceu  2020.0  2.0   \n",
       "14     Zeca Dirceu  2020.0  3.0   \n",
       "\n",
       "                                          tipoDespesa  codDocumento  \\\n",
       "0   MANUTENÇÃO DE ESCRITÓRIO DE APOIO À ATIVIDADE ...     7018213.0   \n",
       "1   MANUTENÇÃO DE ESCRITÓRIO DE APOIO À ATIVIDADE ...     7065252.0   \n",
       "2   MANUTENÇÃO DE ESCRITÓRIO DE APOIO À ATIVIDADE ...     7031733.0   \n",
       "3                       COMBUSTÍVEIS E LUBRIFICANTES.     6993481.0   \n",
       "4                       COMBUSTÍVEIS E LUBRIFICANTES.     7090596.0   \n",
       "..                                                ...           ...   \n",
       "10  MANUTENÇÃO DE ESCRITÓRIO DE APOIO À ATIVIDADE ...     7092392.0   \n",
       "11  MANUTENÇÃO DE ESCRITÓRIO DE APOIO À ATIVIDADE ...     7092393.0   \n",
       "12  MANUTENÇÃO DE ESCRITÓRIO DE APOIO À ATIVIDADE ...     7019946.0   \n",
       "13  MANUTENÇÃO DE ESCRITÓRIO DE APOIO À ATIVIDADE ...     7044385.0   \n",
       "14  MANUTENÇÃO DE ESCRITÓRIO DE APOIO À ATIVIDADE ...     7044386.0   \n",
       "\n",
       "             tipoDocumento  codTipoDocumento dataDocumento numDocumento  \\\n",
       "0   Nota Fiscal Eletrônica               4.0    2020-02-18         1790   \n",
       "1   Nota Fiscal Eletrônica               4.0    2020-06-16          545   \n",
       "2              Nota Fiscal               0.0    2020-03-03       417246   \n",
       "3   Nota Fiscal Eletrônica               4.0    2020-01-06          479   \n",
       "4   Nota Fiscal Eletrônica               4.0    2020-08-03       128126   \n",
       "..                     ...               ...           ...          ...   \n",
       "10          Recibos/Outros               1.0    2020-07-31           sn   \n",
       "11          Recibos/Outros               1.0    2020-08-30           sn   \n",
       "12             Nota Fiscal               0.0    2020-01-24    118003178   \n",
       "13             Nota Fiscal               0.0    2020-02-22    122568208   \n",
       "14             Nota Fiscal               0.0    2020-03-25    127660788   \n",
       "\n",
       "    valorDocumento                                       urlDocumento  \\\n",
       "0           145.00  http://www.camara.leg.br/cota-parlamentar/nota...   \n",
       "1           229.00  http://www.camara.leg.br/cota-parlamentar/nota...   \n",
       "2           268.40  https://www.camara.leg.br/cota-parlamentar/doc...   \n",
       "3          3600.00  http://www.camara.leg.br/cota-parlamentar/nota...   \n",
       "4           200.02  http://www.camara.leg.br/cota-parlamentar/nota...   \n",
       "..             ...                                                ...   \n",
       "10         1300.00  https://www.camara.leg.br/cota-parlamentar/doc...   \n",
       "11         1300.00  https://www.camara.leg.br/cota-parlamentar/doc...   \n",
       "12          235.28  https://www.camara.leg.br/cota-parlamentar/doc...   \n",
       "13          464.77  https://www.camara.leg.br/cota-parlamentar/doc...   \n",
       "14          514.11  https://www.camara.leg.br/cota-parlamentar/doc...   \n",
       "\n",
       "                          nomeFornecedor cnpjCpfFornecedor  valorLiquido  \\\n",
       "0   BEL PONTO BORDADOS E CONFECCOES LTDA    00849026000109        145.00   \n",
       "1    COMERCIAL DE SERVICOS UNIAO LTDA ME    05807200000174        229.00   \n",
       "2          EDVALDO FRANCISCO DE OLIVEIRA    32373812000179        268.40   \n",
       "3                      A C CAMBRAIA LTDA    23068984000571       3600.00   \n",
       "4              AUTO POSTO 306 NORTE LTDA    22398818000147        200.02   \n",
       "..                                   ...               ...           ...   \n",
       "10                        Antonio Peguim       04312880972       1300.00   \n",
       "11                        Antonio Peguim       04312880972       1300.00   \n",
       "12               Copel Distribuição S.A.    04368898000106        235.28   \n",
       "13               Copel Distribuição S.A.    04368898000106        464.77   \n",
       "14               Copel Distribuição S.A.    04368898000106        514.11   \n",
       "\n",
       "    valorGlosa numRessarcimento    codLote  parcela  \n",
       "0          0.0                   1678271.0      0.0  \n",
       "1          0.0                   1702259.0      0.0  \n",
       "2          0.0                   1684292.0      0.0  \n",
       "3          0.0                   1666719.0      0.0  \n",
       "4          0.0                   1715262.0      0.0  \n",
       "..         ...              ...        ...      ...  \n",
       "10         0.0                   1716367.0      0.0  \n",
       "11         0.0                   1716365.0      0.0  \n",
       "12         0.0                   1679618.0      0.0  \n",
       "13         0.0                   1690671.0      0.0  \n",
       "14         0.0                   1690672.0      0.0  \n",
       "\n",
       "[4342 rows x 18 columns]"
      ]
     },
     "metadata": {},
     "output_type": "display_data"
    }
   ],
   "source": [
    "display(df)"
   ]
  },
  {
   "cell_type": "code",
   "execution_count": 22,
   "metadata": {},
   "outputs": [
    {
     "data": {
      "text/html": [
       "<div>\n",
       "<style scoped>\n",
       "    .dataframe tbody tr th:only-of-type {\n",
       "        vertical-align: middle;\n",
       "    }\n",
       "\n",
       "    .dataframe tbody tr th {\n",
       "        vertical-align: top;\n",
       "    }\n",
       "\n",
       "    .dataframe thead th {\n",
       "        text-align: right;\n",
       "    }\n",
       "</style>\n",
       "<table border=\"1\" class=\"dataframe\">\n",
       "  <thead>\n",
       "    <tr style=\"text-align: right;\">\n",
       "      <th></th>\n",
       "      <th>nome_deputado</th>\n",
       "      <th>ano</th>\n",
       "      <th>mes</th>\n",
       "      <th>codDocumento</th>\n",
       "      <th>codTipoDocumento</th>\n",
       "      <th>valorDocumento</th>\n",
       "      <th>valorLiquido</th>\n",
       "      <th>valorGlosa</th>\n",
       "      <th>codLote</th>\n",
       "      <th>parcela</th>\n",
       "    </tr>\n",
       "  </thead>\n",
       "  <tbody>\n",
       "    <tr>\n",
       "      <th>279</th>\n",
       "      <td>Vicentinho Júnior</td>\n",
       "      <td>30300.0</td>\n",
       "      <td>95.0</td>\n",
       "      <td>106031310.0</td>\n",
       "      <td>56.0</td>\n",
       "      <td>365000.00</td>\n",
       "      <td>365000.00</td>\n",
       "      <td>0.00</td>\n",
       "      <td>25557144.0</td>\n",
       "      <td>0.0</td>\n",
       "    </tr>\n",
       "    <tr>\n",
       "      <th>125</th>\n",
       "      <td>Gustinho Ribeiro</td>\n",
       "      <td>30300.0</td>\n",
       "      <td>86.0</td>\n",
       "      <td>106027407.0</td>\n",
       "      <td>0.0</td>\n",
       "      <td>337200.00</td>\n",
       "      <td>337200.00</td>\n",
       "      <td>0.00</td>\n",
       "      <td>25549769.0</td>\n",
       "      <td>0.0</td>\n",
       "    </tr>\n",
       "    <tr>\n",
       "      <th>138</th>\n",
       "      <td>Jhonatan de Jesus</td>\n",
       "      <td>30300.0</td>\n",
       "      <td>71.0</td>\n",
       "      <td>105770726.0</td>\n",
       "      <td>20.0</td>\n",
       "      <td>233102.90</td>\n",
       "      <td>233102.90</td>\n",
       "      <td>0.00</td>\n",
       "      <td>25421725.0</td>\n",
       "      <td>0.0</td>\n",
       "    </tr>\n",
       "    <tr>\n",
       "      <th>263</th>\n",
       "      <td>Silas Câmara</td>\n",
       "      <td>30300.0</td>\n",
       "      <td>76.0</td>\n",
       "      <td>105992292.0</td>\n",
       "      <td>12.0</td>\n",
       "      <td>185006.39</td>\n",
       "      <td>185006.39</td>\n",
       "      <td>0.00</td>\n",
       "      <td>25537126.0</td>\n",
       "      <td>0.0</td>\n",
       "    </tr>\n",
       "    <tr>\n",
       "      <th>78</th>\n",
       "      <td>Domingos Neto</td>\n",
       "      <td>30300.0</td>\n",
       "      <td>93.0</td>\n",
       "      <td>106078064.0</td>\n",
       "      <td>0.0</td>\n",
       "      <td>180000.00</td>\n",
       "      <td>173870.99</td>\n",
       "      <td>6129.01</td>\n",
       "      <td>25579635.0</td>\n",
       "      <td>0.0</td>\n",
       "    </tr>\n",
       "    <tr>\n",
       "      <th>...</th>\n",
       "      <td>...</td>\n",
       "      <td>...</td>\n",
       "      <td>...</td>\n",
       "      <td>...</td>\n",
       "      <td>...</td>\n",
       "      <td>...</td>\n",
       "      <td>...</td>\n",
       "      <td>...</td>\n",
       "      <td>...</td>\n",
       "      <td>...</td>\n",
       "    </tr>\n",
       "    <tr>\n",
       "      <th>270</th>\n",
       "      <td>Tabata Amaral</td>\n",
       "      <td>30300.0</td>\n",
       "      <td>102.0</td>\n",
       "      <td>106268692.0</td>\n",
       "      <td>2.0</td>\n",
       "      <td>994.95</td>\n",
       "      <td>991.28</td>\n",
       "      <td>3.67</td>\n",
       "      <td>25677331.0</td>\n",
       "      <td>0.0</td>\n",
       "    </tr>\n",
       "    <tr>\n",
       "      <th>204</th>\n",
       "      <td>Miguel Lombardi</td>\n",
       "      <td>30300.0</td>\n",
       "      <td>89.0</td>\n",
       "      <td>106194888.0</td>\n",
       "      <td>0.0</td>\n",
       "      <td>680.23</td>\n",
       "      <td>670.38</td>\n",
       "      <td>9.85</td>\n",
       "      <td>25635456.0</td>\n",
       "      <td>0.0</td>\n",
       "    </tr>\n",
       "    <tr>\n",
       "      <th>86</th>\n",
       "      <td>Eduardo Bolsonaro</td>\n",
       "      <td>30300.0</td>\n",
       "      <td>64.0</td>\n",
       "      <td>105631499.0</td>\n",
       "      <td>0.0</td>\n",
       "      <td>582.61</td>\n",
       "      <td>582.61</td>\n",
       "      <td>0.00</td>\n",
       "      <td>25353571.0</td>\n",
       "      <td>0.0</td>\n",
       "    </tr>\n",
       "    <tr>\n",
       "      <th>14</th>\n",
       "      <td>Alfredinho</td>\n",
       "      <td>2023.0</td>\n",
       "      <td>1.0</td>\n",
       "      <td>0.0</td>\n",
       "      <td>1.0</td>\n",
       "      <td>467.60</td>\n",
       "      <td>467.60</td>\n",
       "      <td>0.00</td>\n",
       "      <td>0.0</td>\n",
       "      <td>0.0</td>\n",
       "    </tr>\n",
       "    <tr>\n",
       "      <th>114</th>\n",
       "      <td>Geraldo Resende</td>\n",
       "      <td>4042.0</td>\n",
       "      <td>5.0</td>\n",
       "      <td>0.0</td>\n",
       "      <td>0.0</td>\n",
       "      <td>12.34</td>\n",
       "      <td>0.26</td>\n",
       "      <td>0.00</td>\n",
       "      <td>0.0</td>\n",
       "      <td>0.0</td>\n",
       "    </tr>\n",
       "  </tbody>\n",
       "</table>\n",
       "<p>292 rows × 10 columns</p>\n",
       "</div>"
      ],
      "text/plain": [
       "         nome_deputado      ano    mes  codDocumento  codTipoDocumento  \\\n",
       "279  Vicentinho Júnior  30300.0   95.0   106031310.0              56.0   \n",
       "125   Gustinho Ribeiro  30300.0   86.0   106027407.0               0.0   \n",
       "138  Jhonatan de Jesus  30300.0   71.0   105770726.0              20.0   \n",
       "263       Silas Câmara  30300.0   76.0   105992292.0              12.0   \n",
       "78       Domingos Neto  30300.0   93.0   106078064.0               0.0   \n",
       "..                 ...      ...    ...           ...               ...   \n",
       "270      Tabata Amaral  30300.0  102.0   106268692.0               2.0   \n",
       "204    Miguel Lombardi  30300.0   89.0   106194888.0               0.0   \n",
       "86   Eduardo Bolsonaro  30300.0   64.0   105631499.0               0.0   \n",
       "14          Alfredinho   2023.0    1.0           0.0               1.0   \n",
       "114    Geraldo Resende   4042.0    5.0           0.0               0.0   \n",
       "\n",
       "     valorDocumento  valorLiquido  valorGlosa     codLote  parcela  \n",
       "279       365000.00     365000.00        0.00  25557144.0      0.0  \n",
       "125       337200.00     337200.00        0.00  25549769.0      0.0  \n",
       "138       233102.90     233102.90        0.00  25421725.0      0.0  \n",
       "263       185006.39     185006.39        0.00  25537126.0      0.0  \n",
       "78        180000.00     173870.99     6129.01  25579635.0      0.0  \n",
       "..              ...           ...         ...         ...      ...  \n",
       "270          994.95        991.28        3.67  25677331.0      0.0  \n",
       "204          680.23        670.38        9.85  25635456.0      0.0  \n",
       "86           582.61        582.61        0.00  25353571.0      0.0  \n",
       "14           467.60        467.60        0.00         0.0      0.0  \n",
       "114           12.34          0.26        0.00         0.0      0.0  \n",
       "\n",
       "[292 rows x 10 columns]"
      ]
     },
     "metadata": {},
     "output_type": "display_data"
    },
    {
     "data": {
      "application/vnd.plotly.v1+json": {
       "config": {
        "plotlyServerURL": "https://plot.ly"
       },
       "data": [
        {
         "alignmentgroup": "True",
         "hovertemplate": "valorLiquido=%{x}<br>nome_deputado=%{y}<extra></extra>",
         "legendgroup": "",
         "marker": {
          "color": "#636efa",
          "pattern": {
           "shape": ""
          }
         },
         "name": "",
         "offsetgroup": "",
         "orientation": "h",
         "showlegend": false,
         "textposition": "auto",
         "type": "bar",
         "x": [
          365000,
          337200,
          233102.9,
          185006.39,
          173870.99,
          165557.15,
          146176.15,
          137912.3,
          116564.16,
          112864.38
         ],
         "xaxis": "x",
         "y": [
          "Vicentinho Júnior",
          "Gustinho Ribeiro",
          "Jhonatan de Jesus",
          "Silas Câmara",
          "Domingos Neto",
          "Vinicius Gurgel",
          "Magda Mofatto",
          "Célio Silveira",
          "Professor Alcides",
          "Paulo Freire Costa"
         ],
         "yaxis": "y"
        }
       ],
       "layout": {
        "barmode": "relative",
        "legend": {
         "tracegroupgap": 0
        },
        "margin": {
         "t": 60
        },
        "template": {
         "data": {
          "bar": [
           {
            "error_x": {
             "color": "#2a3f5f"
            },
            "error_y": {
             "color": "#2a3f5f"
            },
            "marker": {
             "line": {
              "color": "#E5ECF6",
              "width": 0.5
             },
             "pattern": {
              "fillmode": "overlay",
              "size": 10,
              "solidity": 0.2
             }
            },
            "type": "bar"
           }
          ],
          "barpolar": [
           {
            "marker": {
             "line": {
              "color": "#E5ECF6",
              "width": 0.5
             },
             "pattern": {
              "fillmode": "overlay",
              "size": 10,
              "solidity": 0.2
             }
            },
            "type": "barpolar"
           }
          ],
          "carpet": [
           {
            "aaxis": {
             "endlinecolor": "#2a3f5f",
             "gridcolor": "white",
             "linecolor": "white",
             "minorgridcolor": "white",
             "startlinecolor": "#2a3f5f"
            },
            "baxis": {
             "endlinecolor": "#2a3f5f",
             "gridcolor": "white",
             "linecolor": "white",
             "minorgridcolor": "white",
             "startlinecolor": "#2a3f5f"
            },
            "type": "carpet"
           }
          ],
          "choropleth": [
           {
            "colorbar": {
             "outlinewidth": 0,
             "ticks": ""
            },
            "type": "choropleth"
           }
          ],
          "contour": [
           {
            "colorbar": {
             "outlinewidth": 0,
             "ticks": ""
            },
            "colorscale": [
             [
              0,
              "#0d0887"
             ],
             [
              0.1111111111111111,
              "#46039f"
             ],
             [
              0.2222222222222222,
              "#7201a8"
             ],
             [
              0.3333333333333333,
              "#9c179e"
             ],
             [
              0.4444444444444444,
              "#bd3786"
             ],
             [
              0.5555555555555556,
              "#d8576b"
             ],
             [
              0.6666666666666666,
              "#ed7953"
             ],
             [
              0.7777777777777778,
              "#fb9f3a"
             ],
             [
              0.8888888888888888,
              "#fdca26"
             ],
             [
              1,
              "#f0f921"
             ]
            ],
            "type": "contour"
           }
          ],
          "contourcarpet": [
           {
            "colorbar": {
             "outlinewidth": 0,
             "ticks": ""
            },
            "type": "contourcarpet"
           }
          ],
          "heatmap": [
           {
            "colorbar": {
             "outlinewidth": 0,
             "ticks": ""
            },
            "colorscale": [
             [
              0,
              "#0d0887"
             ],
             [
              0.1111111111111111,
              "#46039f"
             ],
             [
              0.2222222222222222,
              "#7201a8"
             ],
             [
              0.3333333333333333,
              "#9c179e"
             ],
             [
              0.4444444444444444,
              "#bd3786"
             ],
             [
              0.5555555555555556,
              "#d8576b"
             ],
             [
              0.6666666666666666,
              "#ed7953"
             ],
             [
              0.7777777777777778,
              "#fb9f3a"
             ],
             [
              0.8888888888888888,
              "#fdca26"
             ],
             [
              1,
              "#f0f921"
             ]
            ],
            "type": "heatmap"
           }
          ],
          "heatmapgl": [
           {
            "colorbar": {
             "outlinewidth": 0,
             "ticks": ""
            },
            "colorscale": [
             [
              0,
              "#0d0887"
             ],
             [
              0.1111111111111111,
              "#46039f"
             ],
             [
              0.2222222222222222,
              "#7201a8"
             ],
             [
              0.3333333333333333,
              "#9c179e"
             ],
             [
              0.4444444444444444,
              "#bd3786"
             ],
             [
              0.5555555555555556,
              "#d8576b"
             ],
             [
              0.6666666666666666,
              "#ed7953"
             ],
             [
              0.7777777777777778,
              "#fb9f3a"
             ],
             [
              0.8888888888888888,
              "#fdca26"
             ],
             [
              1,
              "#f0f921"
             ]
            ],
            "type": "heatmapgl"
           }
          ],
          "histogram": [
           {
            "marker": {
             "pattern": {
              "fillmode": "overlay",
              "size": 10,
              "solidity": 0.2
             }
            },
            "type": "histogram"
           }
          ],
          "histogram2d": [
           {
            "colorbar": {
             "outlinewidth": 0,
             "ticks": ""
            },
            "colorscale": [
             [
              0,
              "#0d0887"
             ],
             [
              0.1111111111111111,
              "#46039f"
             ],
             [
              0.2222222222222222,
              "#7201a8"
             ],
             [
              0.3333333333333333,
              "#9c179e"
             ],
             [
              0.4444444444444444,
              "#bd3786"
             ],
             [
              0.5555555555555556,
              "#d8576b"
             ],
             [
              0.6666666666666666,
              "#ed7953"
             ],
             [
              0.7777777777777778,
              "#fb9f3a"
             ],
             [
              0.8888888888888888,
              "#fdca26"
             ],
             [
              1,
              "#f0f921"
             ]
            ],
            "type": "histogram2d"
           }
          ],
          "histogram2dcontour": [
           {
            "colorbar": {
             "outlinewidth": 0,
             "ticks": ""
            },
            "colorscale": [
             [
              0,
              "#0d0887"
             ],
             [
              0.1111111111111111,
              "#46039f"
             ],
             [
              0.2222222222222222,
              "#7201a8"
             ],
             [
              0.3333333333333333,
              "#9c179e"
             ],
             [
              0.4444444444444444,
              "#bd3786"
             ],
             [
              0.5555555555555556,
              "#d8576b"
             ],
             [
              0.6666666666666666,
              "#ed7953"
             ],
             [
              0.7777777777777778,
              "#fb9f3a"
             ],
             [
              0.8888888888888888,
              "#fdca26"
             ],
             [
              1,
              "#f0f921"
             ]
            ],
            "type": "histogram2dcontour"
           }
          ],
          "mesh3d": [
           {
            "colorbar": {
             "outlinewidth": 0,
             "ticks": ""
            },
            "type": "mesh3d"
           }
          ],
          "parcoords": [
           {
            "line": {
             "colorbar": {
              "outlinewidth": 0,
              "ticks": ""
             }
            },
            "type": "parcoords"
           }
          ],
          "pie": [
           {
            "automargin": true,
            "type": "pie"
           }
          ],
          "scatter": [
           {
            "fillpattern": {
             "fillmode": "overlay",
             "size": 10,
             "solidity": 0.2
            },
            "type": "scatter"
           }
          ],
          "scatter3d": [
           {
            "line": {
             "colorbar": {
              "outlinewidth": 0,
              "ticks": ""
             }
            },
            "marker": {
             "colorbar": {
              "outlinewidth": 0,
              "ticks": ""
             }
            },
            "type": "scatter3d"
           }
          ],
          "scattercarpet": [
           {
            "marker": {
             "colorbar": {
              "outlinewidth": 0,
              "ticks": ""
             }
            },
            "type": "scattercarpet"
           }
          ],
          "scattergeo": [
           {
            "marker": {
             "colorbar": {
              "outlinewidth": 0,
              "ticks": ""
             }
            },
            "type": "scattergeo"
           }
          ],
          "scattergl": [
           {
            "marker": {
             "colorbar": {
              "outlinewidth": 0,
              "ticks": ""
             }
            },
            "type": "scattergl"
           }
          ],
          "scattermapbox": [
           {
            "marker": {
             "colorbar": {
              "outlinewidth": 0,
              "ticks": ""
             }
            },
            "type": "scattermapbox"
           }
          ],
          "scatterpolar": [
           {
            "marker": {
             "colorbar": {
              "outlinewidth": 0,
              "ticks": ""
             }
            },
            "type": "scatterpolar"
           }
          ],
          "scatterpolargl": [
           {
            "marker": {
             "colorbar": {
              "outlinewidth": 0,
              "ticks": ""
             }
            },
            "type": "scatterpolargl"
           }
          ],
          "scatterternary": [
           {
            "marker": {
             "colorbar": {
              "outlinewidth": 0,
              "ticks": ""
             }
            },
            "type": "scatterternary"
           }
          ],
          "surface": [
           {
            "colorbar": {
             "outlinewidth": 0,
             "ticks": ""
            },
            "colorscale": [
             [
              0,
              "#0d0887"
             ],
             [
              0.1111111111111111,
              "#46039f"
             ],
             [
              0.2222222222222222,
              "#7201a8"
             ],
             [
              0.3333333333333333,
              "#9c179e"
             ],
             [
              0.4444444444444444,
              "#bd3786"
             ],
             [
              0.5555555555555556,
              "#d8576b"
             ],
             [
              0.6666666666666666,
              "#ed7953"
             ],
             [
              0.7777777777777778,
              "#fb9f3a"
             ],
             [
              0.8888888888888888,
              "#fdca26"
             ],
             [
              1,
              "#f0f921"
             ]
            ],
            "type": "surface"
           }
          ],
          "table": [
           {
            "cells": {
             "fill": {
              "color": "#EBF0F8"
             },
             "line": {
              "color": "white"
             }
            },
            "header": {
             "fill": {
              "color": "#C8D4E3"
             },
             "line": {
              "color": "white"
             }
            },
            "type": "table"
           }
          ]
         },
         "layout": {
          "annotationdefaults": {
           "arrowcolor": "#2a3f5f",
           "arrowhead": 0,
           "arrowwidth": 1
          },
          "autotypenumbers": "strict",
          "coloraxis": {
           "colorbar": {
            "outlinewidth": 0,
            "ticks": ""
           }
          },
          "colorscale": {
           "diverging": [
            [
             0,
             "#8e0152"
            ],
            [
             0.1,
             "#c51b7d"
            ],
            [
             0.2,
             "#de77ae"
            ],
            [
             0.3,
             "#f1b6da"
            ],
            [
             0.4,
             "#fde0ef"
            ],
            [
             0.5,
             "#f7f7f7"
            ],
            [
             0.6,
             "#e6f5d0"
            ],
            [
             0.7,
             "#b8e186"
            ],
            [
             0.8,
             "#7fbc41"
            ],
            [
             0.9,
             "#4d9221"
            ],
            [
             1,
             "#276419"
            ]
           ],
           "sequential": [
            [
             0,
             "#0d0887"
            ],
            [
             0.1111111111111111,
             "#46039f"
            ],
            [
             0.2222222222222222,
             "#7201a8"
            ],
            [
             0.3333333333333333,
             "#9c179e"
            ],
            [
             0.4444444444444444,
             "#bd3786"
            ],
            [
             0.5555555555555556,
             "#d8576b"
            ],
            [
             0.6666666666666666,
             "#ed7953"
            ],
            [
             0.7777777777777778,
             "#fb9f3a"
            ],
            [
             0.8888888888888888,
             "#fdca26"
            ],
            [
             1,
             "#f0f921"
            ]
           ],
           "sequentialminus": [
            [
             0,
             "#0d0887"
            ],
            [
             0.1111111111111111,
             "#46039f"
            ],
            [
             0.2222222222222222,
             "#7201a8"
            ],
            [
             0.3333333333333333,
             "#9c179e"
            ],
            [
             0.4444444444444444,
             "#bd3786"
            ],
            [
             0.5555555555555556,
             "#d8576b"
            ],
            [
             0.6666666666666666,
             "#ed7953"
            ],
            [
             0.7777777777777778,
             "#fb9f3a"
            ],
            [
             0.8888888888888888,
             "#fdca26"
            ],
            [
             1,
             "#f0f921"
            ]
           ]
          },
          "colorway": [
           "#636efa",
           "#EF553B",
           "#00cc96",
           "#ab63fa",
           "#FFA15A",
           "#19d3f3",
           "#FF6692",
           "#B6E880",
           "#FF97FF",
           "#FECB52"
          ],
          "font": {
           "color": "#2a3f5f"
          },
          "geo": {
           "bgcolor": "white",
           "lakecolor": "white",
           "landcolor": "#E5ECF6",
           "showlakes": true,
           "showland": true,
           "subunitcolor": "white"
          },
          "hoverlabel": {
           "align": "left"
          },
          "hovermode": "closest",
          "mapbox": {
           "style": "light"
          },
          "paper_bgcolor": "white",
          "plot_bgcolor": "#E5ECF6",
          "polar": {
           "angularaxis": {
            "gridcolor": "white",
            "linecolor": "white",
            "ticks": ""
           },
           "bgcolor": "#E5ECF6",
           "radialaxis": {
            "gridcolor": "white",
            "linecolor": "white",
            "ticks": ""
           }
          },
          "scene": {
           "xaxis": {
            "backgroundcolor": "#E5ECF6",
            "gridcolor": "white",
            "gridwidth": 2,
            "linecolor": "white",
            "showbackground": true,
            "ticks": "",
            "zerolinecolor": "white"
           },
           "yaxis": {
            "backgroundcolor": "#E5ECF6",
            "gridcolor": "white",
            "gridwidth": 2,
            "linecolor": "white",
            "showbackground": true,
            "ticks": "",
            "zerolinecolor": "white"
           },
           "zaxis": {
            "backgroundcolor": "#E5ECF6",
            "gridcolor": "white",
            "gridwidth": 2,
            "linecolor": "white",
            "showbackground": true,
            "ticks": "",
            "zerolinecolor": "white"
           }
          },
          "shapedefaults": {
           "line": {
            "color": "#2a3f5f"
           }
          },
          "ternary": {
           "aaxis": {
            "gridcolor": "white",
            "linecolor": "white",
            "ticks": ""
           },
           "baxis": {
            "gridcolor": "white",
            "linecolor": "white",
            "ticks": ""
           },
           "bgcolor": "#E5ECF6",
           "caxis": {
            "gridcolor": "white",
            "linecolor": "white",
            "ticks": ""
           }
          },
          "title": {
           "x": 0.05
          },
          "xaxis": {
           "automargin": true,
           "gridcolor": "white",
           "linecolor": "white",
           "ticks": "",
           "title": {
            "standoff": 15
           },
           "zerolinecolor": "white",
           "zerolinewidth": 2
          },
          "yaxis": {
           "automargin": true,
           "gridcolor": "white",
           "linecolor": "white",
           "ticks": "",
           "title": {
            "standoff": 15
           },
           "zerolinecolor": "white",
           "zerolinewidth": 2
          }
         }
        },
        "xaxis": {
         "anchor": "y",
         "domain": [
          0,
          1
         ],
         "title": {
          "text": "valorLiquido"
         }
        },
        "yaxis": {
         "anchor": "x",
         "autorange": "reversed",
         "domain": [
          0,
          1
         ],
         "title": {
          "text": "nome_deputado"
         }
        }
       }
      }
     },
     "metadata": {},
     "output_type": "display_data"
    }
   ],
   "source": [
    "# importando biblioteca para desenvolvimento dos gráficos\n",
    "import plotly.express as px\n",
    "\n",
    "# agrupa os dados por nome de deputado\n",
    "df_despesas_por_deputados = df.groupby(['nome_deputado']).sum().reset_index()\n",
    "\n",
    "# classifica os dados pela soma do valor líquido das despesas\n",
    "df_despesas_por_top_5_deputados = df_despesas_por_deputados.sort_values('valorLiquido', ascending = False)\n",
    "display(df_despesas_por_top_5_deputados)\n",
    "\n",
    "# desenvolvimento do gráfico\n",
    "fig = px.bar(df_despesas_por_top_5_deputados.head(10), x = 'valorLiquido', y = 'nome_deputado')\n",
    "fig.update_layout(yaxis_autorange = 'reversed')\n",
    "fig.show()"
   ]
  }
 ],
 "metadata": {
  "kernelspec": {
   "display_name": "base",
   "language": "python",
   "name": "python3"
  },
  "language_info": {
   "codemirror_mode": {
    "name": "ipython",
    "version": 3
   },
   "file_extension": ".py",
   "mimetype": "text/x-python",
   "name": "python",
   "nbconvert_exporter": "python",
   "pygments_lexer": "ipython3",
   "version": "3.9.13"
  },
  "orig_nbformat": 4,
  "vscode": {
   "interpreter": {
    "hash": "72ea4cb7ac67c66e5bc1785d98641c1094fc7f5c84dc1fff8f88c4d0657f4704"
   }
  }
 },
 "nbformat": 4,
 "nbformat_minor": 2
}
